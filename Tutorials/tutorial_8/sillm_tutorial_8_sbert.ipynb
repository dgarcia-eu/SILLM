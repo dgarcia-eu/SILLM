{
  "cells": [
    {
      "cell_type": "markdown",
      "source": [
        "# Using Sentence Embeddings from SBERT\n",
        "\n",
        "By Indira Sen\n",
        "\n",
        "This notebook will demonstrate how to use a powerful unsupervised technique, sentence embeddings, for a variety of tasks. We will specifically use SBERT (https://www.sbert.net/index.html)\n",
        "\n",
        "The paper: [Sentence-BERT: Sentence Embeddings using Siamese BERT-Networks](https://arxiv.org/abs/1908.10084)"
      ],
      "metadata": {
        "id": "lL2YrM17UuJa"
      }
    },
    {
      "cell_type": "code",
      "execution_count": 15,
      "metadata": {
        "id": "iEuRFvfMoo5p"
      },
      "outputs": [],
      "source": [
        "import pandas as pd"
      ]
    },
    {
      "cell_type": "code",
      "execution_count": 16,
      "metadata": {
        "id": "hPWDtpsjrxrD"
      },
      "outputs": [],
      "source": [
        "# ! pip install -U sentence-transformers"
      ]
    },
    {
      "cell_type": "code",
      "execution_count": 17,
      "metadata": {
        "id": "lPy2vCPKqwhE"
      },
      "outputs": [],
      "source": [
        "from sentence_transformers import SentenceTransformer, util\n",
        "\n",
        "import numpy as np\n",
        "import timeit\n",
        "\n",
        "from sklearn.metrics.pairwise import cosine_similarity"
      ]
    },
    {
      "cell_type": "markdown",
      "source": [
        "## Example\n",
        "\n",
        "There are many pretrained models to choose from: https://www.sbert.net/docs/pretrained_models.html\n",
        "\n",
        "The best model is currently 'sentence-t5-xxl' which scored highly in semantic similarity benchmarks. However, it needs quite some space to load and takes time as well, so we will use the more light-weight 'paraphrase-distilroberta-base-v1'."
      ],
      "metadata": {
        "id": "T_xlZHRaUcei"
      }
    },
    {
      "cell_type": "code",
      "source": [
        "from sentence_transformers import SentenceTransformer\n",
        "model = SentenceTransformer('paraphrase-distilroberta-base-v1') # the pretrained model we will be using\n",
        "\n",
        "#Our sentences we like to encode\n",
        "sentences = ['This framework generates embeddings for each input sentence',\n",
        "    'Sentences are passed as a list of string.',\n",
        "    'The quick brown fox jumps over the lazy dog.']\n",
        "\n",
        "#Sentences are encoded by calling model.encode()\n",
        "embeddings = model.encode(sentences)\n",
        "\n",
        "#Print the embeddings\n",
        "for sentence, embedding in zip(sentences, embeddings):\n",
        "    print(\"Sentence:\", sentence)\n",
        "    print(\"Length of the embedding:\", len(embedding)) # depends on the pretrained model\n",
        "    print(\"First five items in the embedding:\", embedding[:5])\n",
        "    print()"
      ],
      "metadata": {
        "colab": {
          "base_uri": "https://localhost:8080/"
        },
        "id": "CflPs1mtUbgl",
        "outputId": "ce17d52f-a3fa-4b49-bd7a-349e3ea741e4"
      },
      "execution_count": 18,
      "outputs": [
        {
          "output_type": "stream",
          "name": "stdout",
          "text": [
            "Sentence: This framework generates embeddings for each input sentence\n",
            "Length of the embedding: 768\n",
            "First five items in the embedding: [ 0.19731529  0.12105348 -0.25813296  0.02697724 -0.17997529]\n",
            "\n",
            "Sentence: Sentences are passed as a list of string.\n",
            "Length of the embedding: 768\n",
            "First five items in the embedding: [-0.25747895  0.2462938   0.09469668  0.30377313  0.15252715]\n",
            "\n",
            "Sentence: The quick brown fox jumps over the lazy dog.\n",
            "Length of the embedding: 768\n",
            "First five items in the embedding: [ 0.05094908  0.24235855  0.15774004 -0.29798466  0.04995686]\n",
            "\n"
          ]
        }
      ]
    },
    {
      "cell_type": "code",
      "source": [
        "# let's find the semantic textual similarity using cosine distance\n",
        "# Two lists of sentences\n",
        "sentences1 = ['The cat sits outside',\n",
        "             'A man is playing guitar',\n",
        "             'The new movie is awesome']\n",
        "\n",
        "sentences2 = ['The dog plays in the garden',\n",
        "              'A woman watches TV',\n",
        "              'The new movie is so great']\n",
        "\n",
        "#Compute embedding for both lists\n",
        "embeddings1 = model.encode(sentences1, convert_to_tensor=True)\n",
        "embeddings2 = model.encode(sentences2, convert_to_tensor=True)\n",
        "\n",
        "#Compute cosine-similarities\n",
        "cosine_scores = util.cos_sim(embeddings1, embeddings2)\n",
        "\n",
        "#Output the pairs with their score\n",
        "for i in range(len(sentences1)):\n",
        "    print(\"{} \\t\\t {} \\t\\t Score: {:.4f}\".format(sentences1[i], sentences2[i], cosine_scores[i][i]))"
      ],
      "metadata": {
        "colab": {
          "base_uri": "https://localhost:8080/"
        },
        "id": "f_WUDxJ4svDt",
        "outputId": "a1247b3d-85c7-45c1-8d1e-be924455efec"
      },
      "execution_count": 61,
      "outputs": [
        {
          "output_type": "stream",
          "name": "stdout",
          "text": [
            "The cat sits outside \t\t The dog plays in the garden \t\t Score: 0.4579\n",
            "A man is playing guitar \t\t A woman watches TV \t\t Score: 0.1759\n",
            "The new movie is awesome \t\t The new movie is so bad \t\t Score: 0.7568\n"
          ]
        }
      ]
    },
    {
      "cell_type": "markdown",
      "source": [
        "We can use SBERT for a range of different things. For all of them, we need to do two things:\n",
        "- embed our documents\n",
        "- find the similarity between documents"
      ],
      "metadata": {
        "id": "SchOBnmLs_IC"
      }
    },
    {
      "cell_type": "code",
      "execution_count": 19,
      "metadata": {
        "id": "D03uYaz8sOnh"
      },
      "outputs": [],
      "source": [
        "# these are the two main functions we need and we will reuse them for all different use cases\n",
        "def embed(documents, model_type = 'paraphrase-distilroberta-base-v1'):\n",
        "    sbert_model = SentenceTransformer(model_type)\n",
        "    start = timeit.default_timer()\n",
        "    embeddings = sbert_model.encode(documents)\n",
        "    stop = timeit.default_timer()\n",
        "\n",
        "    print(\"time taken for %d: %f\" %(len(documents), stop-start))\n",
        "    return embeddings\n",
        "\n",
        "\n",
        "\n",
        "def find_similarity(embedded_documents, references):\n",
        "    ref_embedding = embed(references)\n",
        "    return util.cos_sim(embedded_documents, ref_embedding)"
      ]
    },
    {
      "cell_type": "code",
      "execution_count": 20,
      "metadata": {
        "id": "NhaUu_TM1xiO"
      },
      "outputs": [],
      "source": [
        "# we have an additional function for plotting\n",
        "\n",
        "import matplotlib.pyplot as plt\n",
        "import matplotlib as mpl\n",
        "\n",
        "def plot_sim_dist(data, dims):\n",
        "  num_dims = len(dims)\n",
        "  fig, axs = plt.subplots(nrows=1, ncols=num_dims,\n",
        "                         figsize = (3*num_dims, 4),\n",
        "                         sharex = True, sharey = 'row')\n",
        "  for num in range(num_dims):\n",
        "    data[dims[num]].sort_values().plot(kind = 'hist', ax = axs[num])\n",
        "    axs[num].set_title(\"%s\" %(dims[num]), fontsize = 14)\n",
        "    axs[num].set_xlabel(\"similarity\", fontsize = 12)\n",
        "    subtitle = dims[num]"
      ]
    },
    {
      "cell_type": "markdown",
      "metadata": {
        "id": "rjjJ4qM-6p8K"
      },
      "source": [
        "## Part 1: Semantic Search of Advice Forum Questions\n",
        "\n",
        "We first use SBERT to search a large corpus of *unlabeled* documents for relevant or related documents based on a *query*. This is similar to information retrieval via a search engine. Crucially, our search is not just based on exact word matches, but based on **semantic** similarity."
      ]
    },
    {
      "cell_type": "code",
      "execution_count": 21,
      "metadata": {
        "colab": {
          "base_uri": "https://localhost:8080/",
          "height": 702
        },
        "id": "AbaYm5Ek7Dpr",
        "outputId": "b5fdf959-12ab-4de6-e328-ff0c0d10c06c"
      },
      "outputs": [
        {
          "output_type": "execute_result",
          "data": {
            "text/plain": [
              "       year  month day                                        url  \\\n",
              "0      1985    1.0  01                                   proquest   \n",
              "1      1985    1.0  01                                   proquest   \n",
              "2      1985    1.0  02                                   proquest   \n",
              "3      1985    1.0  03                                   proquest   \n",
              "4      1985    1.0  04                                   proquest   \n",
              "...     ...    ...  ..                                        ...   \n",
              "20029  2017    1.0   3  http://www.uexpress.com/dearabby/2017/1/3   \n",
              "20030  2017    1.0   3  http://www.uexpress.com/dearabby/2017/1/3   \n",
              "20031  2017    1.0   3  http://www.uexpress.com/dearabby/2017/1/3   \n",
              "20032  2017    1.0   2  http://www.uexpress.com/dearabby/2017/1/2   \n",
              "20033  2017    1.0   2  http://www.uexpress.com/dearabby/2017/1/2   \n",
              "\n",
              "                                                   title  letterId  \\\n",
              "0      WOMAN NEEDS HELP: HER BURDEN OF HOPELESSNESS I...         1   \n",
              "1      WOMAN NEEDS HELP: HER BURDEN OF HOPELESSNESS I...         1   \n",
              "2       LAMENT ABOUT OLD AGE AND SICKNESS IS ILL-ADVISED         1   \n",
              "3                 'NORMAL' WIDOW HAS AN EYE FOR THE GUYS         1   \n",
              "4      IT'S WISE TO BE WARY WHEN A STRANGER COMES TO ...         1   \n",
              "...                                                  ...       ...   \n",
              "20029   Secret Baptism for Baby Is Scheme That's All Wet         1   \n",
              "20030  Housekeeper Has Message of Kindness for Snobbi...         2   \n",
              "20031  Couple's Plan to Live Together Meets Parental ...         3   \n",
              "20032  Deceased Grandma Still Lives Through Grandpa's...         1   \n",
              "20033  Parents Draw a Line on Support for Struggling ...         2   \n",
              "\n",
              "                                           question_only  \n",
              "0      i have been in a bad marriage for 40 years. i ...  \n",
              "1      this is for all newspaper carriers, mail carri...  \n",
              "2      our 16-year-old son recently was placed in a s...  \n",
              "3      i was a happy, respectable wife for 40 years, ...  \n",
              "4      you be the judge: last night about 7 p.m. i wa...  \n",
              "...                                                  ...  \n",
              "20029  my niece has a 1-year-old son. neither my niec...  \n",
              "20030  please post my message for people to be more c...  \n",
              "20031  after a year together, my boyfriend recently p...  \n",
              "20032  my mother-in-law passed away two years ago fro...  \n",
              "20033  over the years, we have helped out our daughte...  \n",
              "\n",
              "[20034 rows x 7 columns]"
            ],
            "text/html": [
              "\n",
              "  <div id=\"df-9f227e0d-f049-4119-8d3e-ceffc2b8a16a\" class=\"colab-df-container\">\n",
              "    <div>\n",
              "<style scoped>\n",
              "    .dataframe tbody tr th:only-of-type {\n",
              "        vertical-align: middle;\n",
              "    }\n",
              "\n",
              "    .dataframe tbody tr th {\n",
              "        vertical-align: top;\n",
              "    }\n",
              "\n",
              "    .dataframe thead th {\n",
              "        text-align: right;\n",
              "    }\n",
              "</style>\n",
              "<table border=\"1\" class=\"dataframe\">\n",
              "  <thead>\n",
              "    <tr style=\"text-align: right;\">\n",
              "      <th></th>\n",
              "      <th>year</th>\n",
              "      <th>month</th>\n",
              "      <th>day</th>\n",
              "      <th>url</th>\n",
              "      <th>title</th>\n",
              "      <th>letterId</th>\n",
              "      <th>question_only</th>\n",
              "    </tr>\n",
              "  </thead>\n",
              "  <tbody>\n",
              "    <tr>\n",
              "      <th>0</th>\n",
              "      <td>1985</td>\n",
              "      <td>1.0</td>\n",
              "      <td>01</td>\n",
              "      <td>proquest</td>\n",
              "      <td>WOMAN NEEDS HELP: HER BURDEN OF HOPELESSNESS I...</td>\n",
              "      <td>1</td>\n",
              "      <td>i have been in a bad marriage for 40 years. i ...</td>\n",
              "    </tr>\n",
              "    <tr>\n",
              "      <th>1</th>\n",
              "      <td>1985</td>\n",
              "      <td>1.0</td>\n",
              "      <td>01</td>\n",
              "      <td>proquest</td>\n",
              "      <td>WOMAN NEEDS HELP: HER BURDEN OF HOPELESSNESS I...</td>\n",
              "      <td>1</td>\n",
              "      <td>this is for all newspaper carriers, mail carri...</td>\n",
              "    </tr>\n",
              "    <tr>\n",
              "      <th>2</th>\n",
              "      <td>1985</td>\n",
              "      <td>1.0</td>\n",
              "      <td>02</td>\n",
              "      <td>proquest</td>\n",
              "      <td>LAMENT ABOUT OLD AGE AND SICKNESS IS ILL-ADVISED</td>\n",
              "      <td>1</td>\n",
              "      <td>our 16-year-old son recently was placed in a s...</td>\n",
              "    </tr>\n",
              "    <tr>\n",
              "      <th>3</th>\n",
              "      <td>1985</td>\n",
              "      <td>1.0</td>\n",
              "      <td>03</td>\n",
              "      <td>proquest</td>\n",
              "      <td>'NORMAL' WIDOW HAS AN EYE FOR THE GUYS</td>\n",
              "      <td>1</td>\n",
              "      <td>i was a happy, respectable wife for 40 years, ...</td>\n",
              "    </tr>\n",
              "    <tr>\n",
              "      <th>4</th>\n",
              "      <td>1985</td>\n",
              "      <td>1.0</td>\n",
              "      <td>04</td>\n",
              "      <td>proquest</td>\n",
              "      <td>IT'S WISE TO BE WARY WHEN A STRANGER COMES TO ...</td>\n",
              "      <td>1</td>\n",
              "      <td>you be the judge: last night about 7 p.m. i wa...</td>\n",
              "    </tr>\n",
              "    <tr>\n",
              "      <th>...</th>\n",
              "      <td>...</td>\n",
              "      <td>...</td>\n",
              "      <td>...</td>\n",
              "      <td>...</td>\n",
              "      <td>...</td>\n",
              "      <td>...</td>\n",
              "      <td>...</td>\n",
              "    </tr>\n",
              "    <tr>\n",
              "      <th>20029</th>\n",
              "      <td>2017</td>\n",
              "      <td>1.0</td>\n",
              "      <td>3</td>\n",
              "      <td>http://www.uexpress.com/dearabby/2017/1/3</td>\n",
              "      <td>Secret Baptism for Baby Is Scheme That's All Wet</td>\n",
              "      <td>1</td>\n",
              "      <td>my niece has a 1-year-old son. neither my niec...</td>\n",
              "    </tr>\n",
              "    <tr>\n",
              "      <th>20030</th>\n",
              "      <td>2017</td>\n",
              "      <td>1.0</td>\n",
              "      <td>3</td>\n",
              "      <td>http://www.uexpress.com/dearabby/2017/1/3</td>\n",
              "      <td>Housekeeper Has Message of Kindness for Snobbi...</td>\n",
              "      <td>2</td>\n",
              "      <td>please post my message for people to be more c...</td>\n",
              "    </tr>\n",
              "    <tr>\n",
              "      <th>20031</th>\n",
              "      <td>2017</td>\n",
              "      <td>1.0</td>\n",
              "      <td>3</td>\n",
              "      <td>http://www.uexpress.com/dearabby/2017/1/3</td>\n",
              "      <td>Couple's Plan to Live Together Meets Parental ...</td>\n",
              "      <td>3</td>\n",
              "      <td>after a year together, my boyfriend recently p...</td>\n",
              "    </tr>\n",
              "    <tr>\n",
              "      <th>20032</th>\n",
              "      <td>2017</td>\n",
              "      <td>1.0</td>\n",
              "      <td>2</td>\n",
              "      <td>http://www.uexpress.com/dearabby/2017/1/2</td>\n",
              "      <td>Deceased Grandma Still Lives Through Grandpa's...</td>\n",
              "      <td>1</td>\n",
              "      <td>my mother-in-law passed away two years ago fro...</td>\n",
              "    </tr>\n",
              "    <tr>\n",
              "      <th>20033</th>\n",
              "      <td>2017</td>\n",
              "      <td>1.0</td>\n",
              "      <td>2</td>\n",
              "      <td>http://www.uexpress.com/dearabby/2017/1/2</td>\n",
              "      <td>Parents Draw a Line on Support for Struggling ...</td>\n",
              "      <td>2</td>\n",
              "      <td>over the years, we have helped out our daughte...</td>\n",
              "    </tr>\n",
              "  </tbody>\n",
              "</table>\n",
              "<p>20034 rows × 7 columns</p>\n",
              "</div>\n",
              "    <div class=\"colab-df-buttons\">\n",
              "\n",
              "  <div class=\"colab-df-container\">\n",
              "    <button class=\"colab-df-convert\" onclick=\"convertToInteractive('df-9f227e0d-f049-4119-8d3e-ceffc2b8a16a')\"\n",
              "            title=\"Convert this dataframe to an interactive table.\"\n",
              "            style=\"display:none;\">\n",
              "\n",
              "  <svg xmlns=\"http://www.w3.org/2000/svg\" height=\"24px\" viewBox=\"0 -960 960 960\">\n",
              "    <path d=\"M120-120v-720h720v720H120Zm60-500h600v-160H180v160Zm220 220h160v-160H400v160Zm0 220h160v-160H400v160ZM180-400h160v-160H180v160Zm440 0h160v-160H620v160ZM180-180h160v-160H180v160Zm440 0h160v-160H620v160Z\"/>\n",
              "  </svg>\n",
              "    </button>\n",
              "\n",
              "  <style>\n",
              "    .colab-df-container {\n",
              "      display:flex;\n",
              "      gap: 12px;\n",
              "    }\n",
              "\n",
              "    .colab-df-convert {\n",
              "      background-color: #E8F0FE;\n",
              "      border: none;\n",
              "      border-radius: 50%;\n",
              "      cursor: pointer;\n",
              "      display: none;\n",
              "      fill: #1967D2;\n",
              "      height: 32px;\n",
              "      padding: 0 0 0 0;\n",
              "      width: 32px;\n",
              "    }\n",
              "\n",
              "    .colab-df-convert:hover {\n",
              "      background-color: #E2EBFA;\n",
              "      box-shadow: 0px 1px 2px rgba(60, 64, 67, 0.3), 0px 1px 3px 1px rgba(60, 64, 67, 0.15);\n",
              "      fill: #174EA6;\n",
              "    }\n",
              "\n",
              "    .colab-df-buttons div {\n",
              "      margin-bottom: 4px;\n",
              "    }\n",
              "\n",
              "    [theme=dark] .colab-df-convert {\n",
              "      background-color: #3B4455;\n",
              "      fill: #D2E3FC;\n",
              "    }\n",
              "\n",
              "    [theme=dark] .colab-df-convert:hover {\n",
              "      background-color: #434B5C;\n",
              "      box-shadow: 0px 1px 3px 1px rgba(0, 0, 0, 0.15);\n",
              "      filter: drop-shadow(0px 1px 2px rgba(0, 0, 0, 0.3));\n",
              "      fill: #FFFFFF;\n",
              "    }\n",
              "  </style>\n",
              "\n",
              "    <script>\n",
              "      const buttonEl =\n",
              "        document.querySelector('#df-9f227e0d-f049-4119-8d3e-ceffc2b8a16a button.colab-df-convert');\n",
              "      buttonEl.style.display =\n",
              "        google.colab.kernel.accessAllowed ? 'block' : 'none';\n",
              "\n",
              "      async function convertToInteractive(key) {\n",
              "        const element = document.querySelector('#df-9f227e0d-f049-4119-8d3e-ceffc2b8a16a');\n",
              "        const dataTable =\n",
              "          await google.colab.kernel.invokeFunction('convertToInteractive',\n",
              "                                                    [key], {});\n",
              "        if (!dataTable) return;\n",
              "\n",
              "        const docLinkHtml = 'Like what you see? Visit the ' +\n",
              "          '<a target=\"_blank\" href=https://colab.research.google.com/notebooks/data_table.ipynb>data table notebook</a>'\n",
              "          + ' to learn more about interactive tables.';\n",
              "        element.innerHTML = '';\n",
              "        dataTable['output_type'] = 'display_data';\n",
              "        await google.colab.output.renderOutput(dataTable, element);\n",
              "        const docLink = document.createElement('div');\n",
              "        docLink.innerHTML = docLinkHtml;\n",
              "        element.appendChild(docLink);\n",
              "      }\n",
              "    </script>\n",
              "  </div>\n",
              "\n",
              "\n",
              "<div id=\"df-52c56bd9-35ee-4258-93b3-df3a86d260e9\">\n",
              "  <button class=\"colab-df-quickchart\" onclick=\"quickchart('df-52c56bd9-35ee-4258-93b3-df3a86d260e9')\"\n",
              "            title=\"Suggest charts\"\n",
              "            style=\"display:none;\">\n",
              "\n",
              "<svg xmlns=\"http://www.w3.org/2000/svg\" height=\"24px\"viewBox=\"0 0 24 24\"\n",
              "     width=\"24px\">\n",
              "    <g>\n",
              "        <path d=\"M19 3H5c-1.1 0-2 .9-2 2v14c0 1.1.9 2 2 2h14c1.1 0 2-.9 2-2V5c0-1.1-.9-2-2-2zM9 17H7v-7h2v7zm4 0h-2V7h2v10zm4 0h-2v-4h2v4z\"/>\n",
              "    </g>\n",
              "</svg>\n",
              "  </button>\n",
              "\n",
              "<style>\n",
              "  .colab-df-quickchart {\n",
              "      --bg-color: #E8F0FE;\n",
              "      --fill-color: #1967D2;\n",
              "      --hover-bg-color: #E2EBFA;\n",
              "      --hover-fill-color: #174EA6;\n",
              "      --disabled-fill-color: #AAA;\n",
              "      --disabled-bg-color: #DDD;\n",
              "  }\n",
              "\n",
              "  [theme=dark] .colab-df-quickchart {\n",
              "      --bg-color: #3B4455;\n",
              "      --fill-color: #D2E3FC;\n",
              "      --hover-bg-color: #434B5C;\n",
              "      --hover-fill-color: #FFFFFF;\n",
              "      --disabled-bg-color: #3B4455;\n",
              "      --disabled-fill-color: #666;\n",
              "  }\n",
              "\n",
              "  .colab-df-quickchart {\n",
              "    background-color: var(--bg-color);\n",
              "    border: none;\n",
              "    border-radius: 50%;\n",
              "    cursor: pointer;\n",
              "    display: none;\n",
              "    fill: var(--fill-color);\n",
              "    height: 32px;\n",
              "    padding: 0;\n",
              "    width: 32px;\n",
              "  }\n",
              "\n",
              "  .colab-df-quickchart:hover {\n",
              "    background-color: var(--hover-bg-color);\n",
              "    box-shadow: 0 1px 2px rgba(60, 64, 67, 0.3), 0 1px 3px 1px rgba(60, 64, 67, 0.15);\n",
              "    fill: var(--button-hover-fill-color);\n",
              "  }\n",
              "\n",
              "  .colab-df-quickchart-complete:disabled,\n",
              "  .colab-df-quickchart-complete:disabled:hover {\n",
              "    background-color: var(--disabled-bg-color);\n",
              "    fill: var(--disabled-fill-color);\n",
              "    box-shadow: none;\n",
              "  }\n",
              "\n",
              "  .colab-df-spinner {\n",
              "    border: 2px solid var(--fill-color);\n",
              "    border-color: transparent;\n",
              "    border-bottom-color: var(--fill-color);\n",
              "    animation:\n",
              "      spin 1s steps(1) infinite;\n",
              "  }\n",
              "\n",
              "  @keyframes spin {\n",
              "    0% {\n",
              "      border-color: transparent;\n",
              "      border-bottom-color: var(--fill-color);\n",
              "      border-left-color: var(--fill-color);\n",
              "    }\n",
              "    20% {\n",
              "      border-color: transparent;\n",
              "      border-left-color: var(--fill-color);\n",
              "      border-top-color: var(--fill-color);\n",
              "    }\n",
              "    30% {\n",
              "      border-color: transparent;\n",
              "      border-left-color: var(--fill-color);\n",
              "      border-top-color: var(--fill-color);\n",
              "      border-right-color: var(--fill-color);\n",
              "    }\n",
              "    40% {\n",
              "      border-color: transparent;\n",
              "      border-right-color: var(--fill-color);\n",
              "      border-top-color: var(--fill-color);\n",
              "    }\n",
              "    60% {\n",
              "      border-color: transparent;\n",
              "      border-right-color: var(--fill-color);\n",
              "    }\n",
              "    80% {\n",
              "      border-color: transparent;\n",
              "      border-right-color: var(--fill-color);\n",
              "      border-bottom-color: var(--fill-color);\n",
              "    }\n",
              "    90% {\n",
              "      border-color: transparent;\n",
              "      border-bottom-color: var(--fill-color);\n",
              "    }\n",
              "  }\n",
              "</style>\n",
              "\n",
              "  <script>\n",
              "    async function quickchart(key) {\n",
              "      const quickchartButtonEl =\n",
              "        document.querySelector('#' + key + ' button');\n",
              "      quickchartButtonEl.disabled = true;  // To prevent multiple clicks.\n",
              "      quickchartButtonEl.classList.add('colab-df-spinner');\n",
              "      try {\n",
              "        const charts = await google.colab.kernel.invokeFunction(\n",
              "            'suggestCharts', [key], {});\n",
              "      } catch (error) {\n",
              "        console.error('Error during call to suggestCharts:', error);\n",
              "      }\n",
              "      quickchartButtonEl.classList.remove('colab-df-spinner');\n",
              "      quickchartButtonEl.classList.add('colab-df-quickchart-complete');\n",
              "    }\n",
              "    (() => {\n",
              "      let quickchartButtonEl =\n",
              "        document.querySelector('#df-52c56bd9-35ee-4258-93b3-df3a86d260e9 button');\n",
              "      quickchartButtonEl.style.display =\n",
              "        google.colab.kernel.accessAllowed ? 'block' : 'none';\n",
              "    })();\n",
              "  </script>\n",
              "</div>\n",
              "\n",
              "  <div id=\"id_03abb8e2-00c6-4c0d-ad1c-bc5aba14c858\">\n",
              "    <style>\n",
              "      .colab-df-generate {\n",
              "        background-color: #E8F0FE;\n",
              "        border: none;\n",
              "        border-radius: 50%;\n",
              "        cursor: pointer;\n",
              "        display: none;\n",
              "        fill: #1967D2;\n",
              "        height: 32px;\n",
              "        padding: 0 0 0 0;\n",
              "        width: 32px;\n",
              "      }\n",
              "\n",
              "      .colab-df-generate:hover {\n",
              "        background-color: #E2EBFA;\n",
              "        box-shadow: 0px 1px 2px rgba(60, 64, 67, 0.3), 0px 1px 3px 1px rgba(60, 64, 67, 0.15);\n",
              "        fill: #174EA6;\n",
              "      }\n",
              "\n",
              "      [theme=dark] .colab-df-generate {\n",
              "        background-color: #3B4455;\n",
              "        fill: #D2E3FC;\n",
              "      }\n",
              "\n",
              "      [theme=dark] .colab-df-generate:hover {\n",
              "        background-color: #434B5C;\n",
              "        box-shadow: 0px 1px 3px 1px rgba(0, 0, 0, 0.15);\n",
              "        filter: drop-shadow(0px 1px 2px rgba(0, 0, 0, 0.3));\n",
              "        fill: #FFFFFF;\n",
              "      }\n",
              "    </style>\n",
              "    <button class=\"colab-df-generate\" onclick=\"generateWithVariable('advice_data')\"\n",
              "            title=\"Generate code using this dataframe.\"\n",
              "            style=\"display:none;\">\n",
              "\n",
              "  <svg xmlns=\"http://www.w3.org/2000/svg\" height=\"24px\"viewBox=\"0 0 24 24\"\n",
              "       width=\"24px\">\n",
              "    <path d=\"M7,19H8.4L18.45,9,17,7.55,7,17.6ZM5,21V16.75L18.45,3.32a2,2,0,0,1,2.83,0l1.4,1.43a1.91,1.91,0,0,1,.58,1.4,1.91,1.91,0,0,1-.58,1.4L9.25,21ZM18.45,9,17,7.55Zm-12,3A5.31,5.31,0,0,0,4.9,8.1,5.31,5.31,0,0,0,1,6.5,5.31,5.31,0,0,0,4.9,4.9,5.31,5.31,0,0,0,6.5,1,5.31,5.31,0,0,0,8.1,4.9,5.31,5.31,0,0,0,12,6.5,5.46,5.46,0,0,0,6.5,12Z\"/>\n",
              "  </svg>\n",
              "    </button>\n",
              "    <script>\n",
              "      (() => {\n",
              "      const buttonEl =\n",
              "        document.querySelector('#id_03abb8e2-00c6-4c0d-ad1c-bc5aba14c858 button.colab-df-generate');\n",
              "      buttonEl.style.display =\n",
              "        google.colab.kernel.accessAllowed ? 'block' : 'none';\n",
              "\n",
              "      buttonEl.onclick = () => {\n",
              "        google.colab.notebook.generateWithVariable('advice_data');\n",
              "      }\n",
              "      })();\n",
              "    </script>\n",
              "  </div>\n",
              "\n",
              "    </div>\n",
              "  </div>\n"
            ]
          },
          "metadata": {},
          "execution_count": 21
        }
      ],
      "source": [
        "# we will use a dataset of advice for this, specifically from: https://pudding.cool/2018/11/dearabby/\n",
        "\n",
        "advice_data = pd.read_csv('https://raw.githubusercontent.com/the-pudding/data/master/dearabby/raw_da_qs.csv')\n",
        "advice_data"
      ]
    },
    {
      "cell_type": "code",
      "execution_count": 22,
      "metadata": {
        "colab": {
          "base_uri": "https://localhost:8080/"
        },
        "id": "DMn-_wtk7DsM",
        "outputId": "546674d5-5a0c-4bee-e2a1-97ea71935074"
      },
      "outputs": [
        {
          "output_type": "execute_result",
          "data": {
            "text/plain": [
              "array(['WOMAN NEEDS HELP: HER BURDEN OF HOPELESSNESS IS TOO HEAVY TO CARRY',\n",
              "       'WOMAN NEEDS HELP: HER BURDEN OF HOPELESSNESS IS TOO HEAVY TO CARRY',\n",
              "       'LAMENT ABOUT OLD AGE AND SICKNESS IS ILL-ADVISED',\n",
              "       \"'NORMAL' WIDOW HAS AN EYE FOR THE GUYS\",\n",
              "       \"IT'S WISE TO BE WARY WHEN A STRANGER COMES TO THE DOOR\"],\n",
              "      dtype=object)"
            ]
          },
          "metadata": {},
          "execution_count": 22
        }
      ],
      "source": [
        "advice_data['title'].values[0:5]"
      ]
    },
    {
      "cell_type": "code",
      "execution_count": 23,
      "metadata": {
        "colab": {
          "base_uri": "https://localhost:8080/"
        },
        "id": "VwJkWo6T7Dvm",
        "outputId": "8075881a-3fdf-44dc-eb5a-a7d3d05bd384"
      },
      "outputs": [
        {
          "output_type": "execute_result",
          "data": {
            "text/plain": [
              "array([\"i have been in a bad marriage for 40 years. i knew it was a mistake after the first year, but being a catholic, i accepted it as my cross. i bore eight children, hating every minute of it.\\nthere was never enough money, so i started teaching school when my youngest was 4. i'm 60 now and feel like 85. i'm sick of marriage, sick of my family and sick of life in general.\\nsuicide would cut off insurance and be hard on my family. is there a place where i can get some information on how to end my life and make it look like an accident?\\nevery night i pray i won't wake up the next morning.\\nhelpless in hell\",\n",
              "       \"this is for all newspaper carriers, mail carriers and delivery people: when you see a dog, barking and growling in front of someone's house, turn right around and forget that house.\\ntoday, a delivery boy tried to get up to our front door when he was confronted by our dog on a chain, growling and snapping frantically. the delivery boy didn't take the hint; instead he kept advancing, trying to get around the dog and up to our front door. had our dog been able to get to this boy, he could have done him serious damage.\\nabby, i'm really worried. i have heard that according to law, every dog is entitled to one bite, but if he bites twice, he has to be put to sleep. is that true?\\nloves my dog\",\n",
              "       \"our 16-year-old son recently was placed in a state\\nfacility because of many problems at home and with the law. we\\ntry to be supportive and include him in the family as much as\\npossible.\\ndo i include his name on our holiday greeting cards? he's\\nstill a part of our family even though he doesn't live with us.\\nwe don't want to leave him out, but neither do we want to give\\nan incorrect impression as to his residence.\\nin doubt\",\n",
              "       'i was a happy, respectable wife for 40 years, and now i\\'m a lonely, respectable widow. i work, join women\\'s clubs, do good works and spend a lot of quiet evenings watching television.\\ndo you know what i would like better than anything on earth? i\\'d like for my phone to ring right now, and hear a male voice say, \"i\\'ll be by in 15 minutes to take you to dinner and a movie; then we\\'ll go to my place and spend the night.\"\\nin other words, at this late date, i\\'m plain boy crazy--more boy crazy than i ever was at 15.\\nvery often when i see a nice-looking older man on the street, i wonder what it would be like to go out with him. and more.\\nmy imagination just goes wild. i\\'m really ashamed of myself. please tell me, am i normal? what\\'s wrong with me? do other widows have this problem? young at heart',\n",
              "       'you be the judge: last night about 7 p.m. i was relaxing in my tub when my doorbell rang. i wasn\\'t expecting anybody, but i got out of the tub, wrapped a towel around me and peeked out my front window to see who it was. i saw a kid about 18 or 19 years old, holding a box. i assumed he was selling something, so i said nothing and went back to my tub because i was not about to open my door to a stranger.\\nthe next morning my boss called me in and said, \"yesterday i asked you if you were going to be home that evening and you said yes, so how come you weren\\'t home?\" i told him i was home. then he told me he had sent his son to my house with a fruitcake his wife had made for a christmas gift, but nobody answered the door.\\ni told him the truth--that i was home, my doorbell rang and i saw a kid on my porch but didn\\'t want to open my door to a stranger.\\nhe said his son drove clear across town for nothing; then he called me a \"paranoid dummy.\" he really hurt my feelings, abby.\\nwas i wrong to do what i did? or was my boss wrong for chewing me out? no name or town, please. i need this job.\\nbeing careful'],\n",
              "      dtype=object)"
            ]
          },
          "metadata": {},
          "execution_count": 23
        }
      ],
      "source": [
        "advice_data['question_only'].values[0:5]"
      ]
    },
    {
      "cell_type": "code",
      "execution_count": 24,
      "metadata": {
        "id": "ilphpzTnB831"
      },
      "outputs": [],
      "source": [
        "# we will use a sample because embedding 20K documents could take some time\n",
        "advice_data = advice_data.sample(1000)"
      ]
    },
    {
      "cell_type": "code",
      "execution_count": 25,
      "metadata": {
        "colab": {
          "base_uri": "https://localhost:8080/"
        },
        "id": "mDky8sqA_Zuh",
        "outputId": "773da743-0e2d-47dd-973c-be2b0978a210"
      },
      "outputs": [
        {
          "output_type": "stream",
          "name": "stdout",
          "text": [
            "time taken for 1000: 211.471733\n"
          ]
        }
      ],
      "source": [
        "# let's embed the questions\n",
        "documents = advice_data['question_only'].values\n",
        "document_embeddings = embed(documents)"
      ]
    },
    {
      "cell_type": "code",
      "execution_count": 26,
      "metadata": {
        "id": "cJD3rRtz_Zw3",
        "colab": {
          "base_uri": "https://localhost:8080/"
        },
        "outputId": "d335d5c1-3686-495b-ad34-c488118f0203"
      },
      "outputs": [
        {
          "output_type": "stream",
          "name": "stdout",
          "text": [
            "time taken for 4: 0.060231\n"
          ]
        },
        {
          "output_type": "execute_result",
          "data": {
            "text/plain": [
              "torch.Tensor"
            ]
          },
          "metadata": {},
          "execution_count": 26
        }
      ],
      "source": [
        "# let's search for questions related to 'marriage', 'abortion', 'health', 'religion'\n",
        "queries = ['marriage', 'abortion', 'health', 'religion']\n",
        "query_sims = find_similarity(document_embeddings, queries)\n",
        "type(query_sims)"
      ]
    },
    {
      "cell_type": "code",
      "execution_count": 27,
      "metadata": {
        "id": "T0Hprhnz_Z0S",
        "colab": {
          "base_uri": "https://localhost:8080/"
        },
        "outputId": "af74ba3b-324c-4570-cf89-5f45ff3ca52e"
      },
      "outputs": [
        {
          "output_type": "execute_result",
          "data": {
            "text/plain": [
              "torch.Size([1000, 4])"
            ]
          },
          "metadata": {},
          "execution_count": 27
        }
      ],
      "source": [
        "query_sims.shape"
      ]
    },
    {
      "cell_type": "code",
      "source": [
        "query_sims[0] # similarity of first question with the four topics"
      ],
      "metadata": {
        "colab": {
          "base_uri": "https://localhost:8080/"
        },
        "id": "zrpIER_EHi0T",
        "outputId": "bbc52eb8-e24a-42c0-b675-9c791f2d8161"
      },
      "execution_count": 28,
      "outputs": [
        {
          "output_type": "execute_result",
          "data": {
            "text/plain": [
              "tensor([0.1006, 0.1193, 0.0954, 0.1204])"
            ]
          },
          "metadata": {},
          "execution_count": 28
        }
      ]
    },
    {
      "cell_type": "code",
      "source": [
        "advice_data['question_only'].values[0]"
      ],
      "metadata": {
        "colab": {
          "base_uri": "https://localhost:8080/",
          "height": 174
        },
        "id": "USOfEGlbHzEX",
        "outputId": "98870a9b-2568-4120-f386-c7368d665235"
      },
      "execution_count": 29,
      "outputs": [
        {
          "output_type": "execute_result",
          "data": {
            "text/plain": [
              "'this is not a perfect world, so, to the people who are bothered by their neighbors\\' floodlights, may i suggest that they move?\\nwe live out in the sticks of west virginia. it takes the state police or sheriff 30 minutes to get to our house, the fire department 15 minutes.\\nwe farm and have a lot of equipment to worry about. one small tractor costs more than $20,000. everything is engraved with our license numbers for the police to trace if stolen.\\nif we lived in a perfect world, we wouldn\\'t need lights to protect us. we have six 150-watt mercury vapor lights shining bright and locks on the barns, and still gasoline is stolen from our truck parked in the driveway.\\nwhen some of our cars were stolen, the insurance company refused to pay. why? no locks on the gates! our woods are used for a sexual fun house. in spite of the \"no trespassing\" signs, someone grew pot in seven containers in our woods last year. there are varmints in the country, both the four-legged and two-legged variety.\\nphilip d. keister, greenville, w.va.'"
            ],
            "application/vnd.google.colaboratory.intrinsic+json": {
              "type": "string"
            }
          },
          "metadata": {},
          "execution_count": 29
        }
      ]
    },
    {
      "cell_type": "markdown",
      "source": [
        "Let's find the top 5 questions related to each query."
      ],
      "metadata": {
        "id": "t4-Zd9X-Iejc"
      }
    },
    {
      "cell_type": "code",
      "source": [
        "# loop through the sim matrix and get the similarities for each query and create a new df column\n",
        "for i, query in enumerate(queries):\n",
        "  advice_data['%s_sim' %query] = query_sims.T[i]\n",
        "\n",
        "advice_data.head(5)"
      ],
      "metadata": {
        "colab": {
          "base_uri": "https://localhost:8080/",
          "height": 643
        },
        "id": "4Sqnrnm0H8hR",
        "outputId": "c73845c4-5e7f-4286-cf71-ba53f12bf1f1"
      },
      "execution_count": 30,
      "outputs": [
        {
          "output_type": "execute_result",
          "data": {
            "text/plain": [
              "       year  month day                                         url  \\\n",
              "4988   1993    5.0  05                                    proquest   \n",
              "9822   2003    6.0  14  http://www.uexpress.com/dearabby/2003/6/14   \n",
              "3026   1989    6.0  25                                    proquest   \n",
              "660    1985    7.0  12                                           -   \n",
              "13091  2008    6.0  10  http://www.uexpress.com/dearabby/2008/6/10   \n",
              "\n",
              "                                                 title  letterId  \\\n",
              "4988        Son's laughter during funeral confused mom         1   \n",
              "9822     Wife's Blistering Volleys Must Be Met Head On         3   \n",
              "3026   Dating this guy will lead to bed, not the altar         1   \n",
              "660       Dear Abby: Comments Have the Ring of Passion         1   \n",
              "13091    Obituary Photos Can Be a Window Into the Past         1   \n",
              "\n",
              "                                           question_only  marriage_sim  \\\n",
              "4988   this is not a perfect world, so, to the people...      0.100633   \n",
              "9822   how do people know if their therapist is reall...     -0.050387   \n",
              "3026   two months ago, my daughter's fiance died. \"co...      0.104229   \n",
              "660    what's all this static about whether or not a ...     -0.007496   \n",
              "13091  i just read the letter from the reader (april ...      0.059776   \n",
              "\n",
              "       abortion_sim  health_sim  religion_sim  \n",
              "4988       0.119288    0.095358      0.120365  \n",
              "9822      -0.013095    0.149036      0.025632  \n",
              "3026       0.169667    0.038974      0.043868  \n",
              "660        0.090002    0.148223      0.095038  \n",
              "13091      0.073948    0.083986      0.028231  "
            ],
            "text/html": [
              "\n",
              "  <div id=\"df-cf3eb408-fbfe-4a8b-8557-68e0d670898c\" class=\"colab-df-container\">\n",
              "    <div>\n",
              "<style scoped>\n",
              "    .dataframe tbody tr th:only-of-type {\n",
              "        vertical-align: middle;\n",
              "    }\n",
              "\n",
              "    .dataframe tbody tr th {\n",
              "        vertical-align: top;\n",
              "    }\n",
              "\n",
              "    .dataframe thead th {\n",
              "        text-align: right;\n",
              "    }\n",
              "</style>\n",
              "<table border=\"1\" class=\"dataframe\">\n",
              "  <thead>\n",
              "    <tr style=\"text-align: right;\">\n",
              "      <th></th>\n",
              "      <th>year</th>\n",
              "      <th>month</th>\n",
              "      <th>day</th>\n",
              "      <th>url</th>\n",
              "      <th>title</th>\n",
              "      <th>letterId</th>\n",
              "      <th>question_only</th>\n",
              "      <th>marriage_sim</th>\n",
              "      <th>abortion_sim</th>\n",
              "      <th>health_sim</th>\n",
              "      <th>religion_sim</th>\n",
              "    </tr>\n",
              "  </thead>\n",
              "  <tbody>\n",
              "    <tr>\n",
              "      <th>4988</th>\n",
              "      <td>1993</td>\n",
              "      <td>5.0</td>\n",
              "      <td>05</td>\n",
              "      <td>proquest</td>\n",
              "      <td>Son's laughter during funeral confused mom</td>\n",
              "      <td>1</td>\n",
              "      <td>this is not a perfect world, so, to the people...</td>\n",
              "      <td>0.100633</td>\n",
              "      <td>0.119288</td>\n",
              "      <td>0.095358</td>\n",
              "      <td>0.120365</td>\n",
              "    </tr>\n",
              "    <tr>\n",
              "      <th>9822</th>\n",
              "      <td>2003</td>\n",
              "      <td>6.0</td>\n",
              "      <td>14</td>\n",
              "      <td>http://www.uexpress.com/dearabby/2003/6/14</td>\n",
              "      <td>Wife's Blistering Volleys Must Be Met Head On</td>\n",
              "      <td>3</td>\n",
              "      <td>how do people know if their therapist is reall...</td>\n",
              "      <td>-0.050387</td>\n",
              "      <td>-0.013095</td>\n",
              "      <td>0.149036</td>\n",
              "      <td>0.025632</td>\n",
              "    </tr>\n",
              "    <tr>\n",
              "      <th>3026</th>\n",
              "      <td>1989</td>\n",
              "      <td>6.0</td>\n",
              "      <td>25</td>\n",
              "      <td>proquest</td>\n",
              "      <td>Dating this guy will lead to bed, not the altar</td>\n",
              "      <td>1</td>\n",
              "      <td>two months ago, my daughter's fiance died. \"co...</td>\n",
              "      <td>0.104229</td>\n",
              "      <td>0.169667</td>\n",
              "      <td>0.038974</td>\n",
              "      <td>0.043868</td>\n",
              "    </tr>\n",
              "    <tr>\n",
              "      <th>660</th>\n",
              "      <td>1985</td>\n",
              "      <td>7.0</td>\n",
              "      <td>12</td>\n",
              "      <td>-</td>\n",
              "      <td>Dear Abby: Comments Have the Ring of Passion</td>\n",
              "      <td>1</td>\n",
              "      <td>what's all this static about whether or not a ...</td>\n",
              "      <td>-0.007496</td>\n",
              "      <td>0.090002</td>\n",
              "      <td>0.148223</td>\n",
              "      <td>0.095038</td>\n",
              "    </tr>\n",
              "    <tr>\n",
              "      <th>13091</th>\n",
              "      <td>2008</td>\n",
              "      <td>6.0</td>\n",
              "      <td>10</td>\n",
              "      <td>http://www.uexpress.com/dearabby/2008/6/10</td>\n",
              "      <td>Obituary Photos Can Be a Window Into the Past</td>\n",
              "      <td>1</td>\n",
              "      <td>i just read the letter from the reader (april ...</td>\n",
              "      <td>0.059776</td>\n",
              "      <td>0.073948</td>\n",
              "      <td>0.083986</td>\n",
              "      <td>0.028231</td>\n",
              "    </tr>\n",
              "  </tbody>\n",
              "</table>\n",
              "</div>\n",
              "    <div class=\"colab-df-buttons\">\n",
              "\n",
              "  <div class=\"colab-df-container\">\n",
              "    <button class=\"colab-df-convert\" onclick=\"convertToInteractive('df-cf3eb408-fbfe-4a8b-8557-68e0d670898c')\"\n",
              "            title=\"Convert this dataframe to an interactive table.\"\n",
              "            style=\"display:none;\">\n",
              "\n",
              "  <svg xmlns=\"http://www.w3.org/2000/svg\" height=\"24px\" viewBox=\"0 -960 960 960\">\n",
              "    <path d=\"M120-120v-720h720v720H120Zm60-500h600v-160H180v160Zm220 220h160v-160H400v160Zm0 220h160v-160H400v160ZM180-400h160v-160H180v160Zm440 0h160v-160H620v160ZM180-180h160v-160H180v160Zm440 0h160v-160H620v160Z\"/>\n",
              "  </svg>\n",
              "    </button>\n",
              "\n",
              "  <style>\n",
              "    .colab-df-container {\n",
              "      display:flex;\n",
              "      gap: 12px;\n",
              "    }\n",
              "\n",
              "    .colab-df-convert {\n",
              "      background-color: #E8F0FE;\n",
              "      border: none;\n",
              "      border-radius: 50%;\n",
              "      cursor: pointer;\n",
              "      display: none;\n",
              "      fill: #1967D2;\n",
              "      height: 32px;\n",
              "      padding: 0 0 0 0;\n",
              "      width: 32px;\n",
              "    }\n",
              "\n",
              "    .colab-df-convert:hover {\n",
              "      background-color: #E2EBFA;\n",
              "      box-shadow: 0px 1px 2px rgba(60, 64, 67, 0.3), 0px 1px 3px 1px rgba(60, 64, 67, 0.15);\n",
              "      fill: #174EA6;\n",
              "    }\n",
              "\n",
              "    .colab-df-buttons div {\n",
              "      margin-bottom: 4px;\n",
              "    }\n",
              "\n",
              "    [theme=dark] .colab-df-convert {\n",
              "      background-color: #3B4455;\n",
              "      fill: #D2E3FC;\n",
              "    }\n",
              "\n",
              "    [theme=dark] .colab-df-convert:hover {\n",
              "      background-color: #434B5C;\n",
              "      box-shadow: 0px 1px 3px 1px rgba(0, 0, 0, 0.15);\n",
              "      filter: drop-shadow(0px 1px 2px rgba(0, 0, 0, 0.3));\n",
              "      fill: #FFFFFF;\n",
              "    }\n",
              "  </style>\n",
              "\n",
              "    <script>\n",
              "      const buttonEl =\n",
              "        document.querySelector('#df-cf3eb408-fbfe-4a8b-8557-68e0d670898c button.colab-df-convert');\n",
              "      buttonEl.style.display =\n",
              "        google.colab.kernel.accessAllowed ? 'block' : 'none';\n",
              "\n",
              "      async function convertToInteractive(key) {\n",
              "        const element = document.querySelector('#df-cf3eb408-fbfe-4a8b-8557-68e0d670898c');\n",
              "        const dataTable =\n",
              "          await google.colab.kernel.invokeFunction('convertToInteractive',\n",
              "                                                    [key], {});\n",
              "        if (!dataTable) return;\n",
              "\n",
              "        const docLinkHtml = 'Like what you see? Visit the ' +\n",
              "          '<a target=\"_blank\" href=https://colab.research.google.com/notebooks/data_table.ipynb>data table notebook</a>'\n",
              "          + ' to learn more about interactive tables.';\n",
              "        element.innerHTML = '';\n",
              "        dataTable['output_type'] = 'display_data';\n",
              "        await google.colab.output.renderOutput(dataTable, element);\n",
              "        const docLink = document.createElement('div');\n",
              "        docLink.innerHTML = docLinkHtml;\n",
              "        element.appendChild(docLink);\n",
              "      }\n",
              "    </script>\n",
              "  </div>\n",
              "\n",
              "\n",
              "<div id=\"df-80a3fe96-0e82-4e0e-a577-e96c23813ecb\">\n",
              "  <button class=\"colab-df-quickchart\" onclick=\"quickchart('df-80a3fe96-0e82-4e0e-a577-e96c23813ecb')\"\n",
              "            title=\"Suggest charts\"\n",
              "            style=\"display:none;\">\n",
              "\n",
              "<svg xmlns=\"http://www.w3.org/2000/svg\" height=\"24px\"viewBox=\"0 0 24 24\"\n",
              "     width=\"24px\">\n",
              "    <g>\n",
              "        <path d=\"M19 3H5c-1.1 0-2 .9-2 2v14c0 1.1.9 2 2 2h14c1.1 0 2-.9 2-2V5c0-1.1-.9-2-2-2zM9 17H7v-7h2v7zm4 0h-2V7h2v10zm4 0h-2v-4h2v4z\"/>\n",
              "    </g>\n",
              "</svg>\n",
              "  </button>\n",
              "\n",
              "<style>\n",
              "  .colab-df-quickchart {\n",
              "      --bg-color: #E8F0FE;\n",
              "      --fill-color: #1967D2;\n",
              "      --hover-bg-color: #E2EBFA;\n",
              "      --hover-fill-color: #174EA6;\n",
              "      --disabled-fill-color: #AAA;\n",
              "      --disabled-bg-color: #DDD;\n",
              "  }\n",
              "\n",
              "  [theme=dark] .colab-df-quickchart {\n",
              "      --bg-color: #3B4455;\n",
              "      --fill-color: #D2E3FC;\n",
              "      --hover-bg-color: #434B5C;\n",
              "      --hover-fill-color: #FFFFFF;\n",
              "      --disabled-bg-color: #3B4455;\n",
              "      --disabled-fill-color: #666;\n",
              "  }\n",
              "\n",
              "  .colab-df-quickchart {\n",
              "    background-color: var(--bg-color);\n",
              "    border: none;\n",
              "    border-radius: 50%;\n",
              "    cursor: pointer;\n",
              "    display: none;\n",
              "    fill: var(--fill-color);\n",
              "    height: 32px;\n",
              "    padding: 0;\n",
              "    width: 32px;\n",
              "  }\n",
              "\n",
              "  .colab-df-quickchart:hover {\n",
              "    background-color: var(--hover-bg-color);\n",
              "    box-shadow: 0 1px 2px rgba(60, 64, 67, 0.3), 0 1px 3px 1px rgba(60, 64, 67, 0.15);\n",
              "    fill: var(--button-hover-fill-color);\n",
              "  }\n",
              "\n",
              "  .colab-df-quickchart-complete:disabled,\n",
              "  .colab-df-quickchart-complete:disabled:hover {\n",
              "    background-color: var(--disabled-bg-color);\n",
              "    fill: var(--disabled-fill-color);\n",
              "    box-shadow: none;\n",
              "  }\n",
              "\n",
              "  .colab-df-spinner {\n",
              "    border: 2px solid var(--fill-color);\n",
              "    border-color: transparent;\n",
              "    border-bottom-color: var(--fill-color);\n",
              "    animation:\n",
              "      spin 1s steps(1) infinite;\n",
              "  }\n",
              "\n",
              "  @keyframes spin {\n",
              "    0% {\n",
              "      border-color: transparent;\n",
              "      border-bottom-color: var(--fill-color);\n",
              "      border-left-color: var(--fill-color);\n",
              "    }\n",
              "    20% {\n",
              "      border-color: transparent;\n",
              "      border-left-color: var(--fill-color);\n",
              "      border-top-color: var(--fill-color);\n",
              "    }\n",
              "    30% {\n",
              "      border-color: transparent;\n",
              "      border-left-color: var(--fill-color);\n",
              "      border-top-color: var(--fill-color);\n",
              "      border-right-color: var(--fill-color);\n",
              "    }\n",
              "    40% {\n",
              "      border-color: transparent;\n",
              "      border-right-color: var(--fill-color);\n",
              "      border-top-color: var(--fill-color);\n",
              "    }\n",
              "    60% {\n",
              "      border-color: transparent;\n",
              "      border-right-color: var(--fill-color);\n",
              "    }\n",
              "    80% {\n",
              "      border-color: transparent;\n",
              "      border-right-color: var(--fill-color);\n",
              "      border-bottom-color: var(--fill-color);\n",
              "    }\n",
              "    90% {\n",
              "      border-color: transparent;\n",
              "      border-bottom-color: var(--fill-color);\n",
              "    }\n",
              "  }\n",
              "</style>\n",
              "\n",
              "  <script>\n",
              "    async function quickchart(key) {\n",
              "      const quickchartButtonEl =\n",
              "        document.querySelector('#' + key + ' button');\n",
              "      quickchartButtonEl.disabled = true;  // To prevent multiple clicks.\n",
              "      quickchartButtonEl.classList.add('colab-df-spinner');\n",
              "      try {\n",
              "        const charts = await google.colab.kernel.invokeFunction(\n",
              "            'suggestCharts', [key], {});\n",
              "      } catch (error) {\n",
              "        console.error('Error during call to suggestCharts:', error);\n",
              "      }\n",
              "      quickchartButtonEl.classList.remove('colab-df-spinner');\n",
              "      quickchartButtonEl.classList.add('colab-df-quickchart-complete');\n",
              "    }\n",
              "    (() => {\n",
              "      let quickchartButtonEl =\n",
              "        document.querySelector('#df-80a3fe96-0e82-4e0e-a577-e96c23813ecb button');\n",
              "      quickchartButtonEl.style.display =\n",
              "        google.colab.kernel.accessAllowed ? 'block' : 'none';\n",
              "    })();\n",
              "  </script>\n",
              "</div>\n",
              "\n",
              "    </div>\n",
              "  </div>\n"
            ]
          },
          "metadata": {},
          "execution_count": 30
        }
      ]
    },
    {
      "cell_type": "code",
      "source": [
        "# now you can pick whichever column/query and find the most similar questions\n",
        "top_5 = advice_data.sort_values('religion_sim', ascending = False).head(5)\n",
        "for _, row in top_5.iterrows():\n",
        "   print(row['religion_sim'])\n",
        "   print(row['question_only'])\n",
        "   print()"
      ],
      "metadata": {
        "colab": {
          "base_uri": "https://localhost:8080/"
        },
        "id": "eYivMw8ZIj8w",
        "outputId": "454f5261-f036-4729-b3c1-99817770ceef"
      },
      "execution_count": 31,
      "outputs": [
        {
          "output_type": "stream",
          "name": "stdout",
          "text": [
            "0.2843557298183441\n",
            "you recently reminded your readers about international forgiveness week, which is a wonderful idea. however, it is nothing new. in the jewish religion, there has been a \"forgiveness fortnight\" for at least 2,000 years.\n",
            "during the 10 days between rosh hashanah and yom kippur, those of the jewish faith are commanded to ask forgiveness from those whom they may have offended or wronged during the year. in judaism, god cannot forgive the sins a person has committed against another unless the sinner has asked that person for forgiveness. if the injured party rejects the apology three times, the wrongdoer is then released from his or her obligation to ask forgiveness.\n",
            "isn't this a beautiful tradition, as well as a good way to begin a new year? esther krisman, los angeles\n",
            "\n",
            "0.2803325355052948\n",
            "during the past year, i have become good friends with a lady i'll call ivy. i am a 36-year-old single woman; ivy is 53 and divorced. we enjoy each other's company and she's been a wonderful friend.\n",
            "ivy is jewish; i am catholic. the difference in our faiths doesn't matter, because i believe that most religions are on the right path. however, i am unsure about how to handle our religious differences during the christmas holidays.\n",
            "gift-giving is supposed to inspire feelings of warmth and happiness, and she has often said that when it comes to christmas, she has lived the holiday vicariously through others. naturally, i want to get her a gift, but is it the right thing to do? -- gentle gentile\n",
            "\n",
            "0.27778634428977966\n",
            "after reading about the woman who accidentally passed gas in the office after eating \"beans, the musical fruit,\" i have to share the following:\n",
            "an elderly married couple were attending church one sunday when halfway through the sermon the wife turned to her husband and whispered, \"i just let out a long, silent toot! what should i do?\" the husband replied, \"replace the battery in your hearing aid!\" -- online reader in texas\n",
            "\n",
            "0.27494221925735474\n",
            "about a year ago, my husband, \"scott,\" started attending church. he had never gone in the few years we dated.\n",
            "we discussed our feelings about religion before we became engaged. he comes from a family that attended church every sunday and believes in god. i was raised the exact opposite; i'm an atheist. i told scott that if we had children, i would be ok with him taking them to church, but i would not join them. it bothered him a little, but we talked it over and moved on.\n",
            "after a difficult year that led to some mild depression (for which scott sought help), he started going to church. i was happy for him because it seemed to help him.\n",
            "after a few weeks he asked me to go with him. i went several times, but felt uncomfortable. i feel like a fraud sitting in the pew. scott says he \"wants my support\" and that means attending with him. i suspect he's embarrassed to be there without his wife.\n",
            "i do not enjoy it. i have been offended by some of the messages that were imparted, and i would prefer having a couple of hours to myself on sundays.\n",
            "abby, what should i do? is there any middle ground here? -- feeling coerced in san diego\n",
            "\n",
            "0.26282864809036255\n",
            "i'm a 15-year-old boy. i'm happy with my life, except for one thing. my mom believes in god, and dad doesn't. i believe in god, but i don't support my mom's religion. my friends and neighbors think i'm in that religion, but i don't believe in their beliefs. it's really uncomfortable when people ask why i haven't been in church.\n",
            "mom signs me up for church activities, and i don't like going. i feel awkward when i try to talk to my parents about it. i'm not close to them, and i don't know what to do. i have been feeling stressed out lately. i don't want to hurt my mother's feelings. can you help me? -- teen in ogden, utah\n",
            "\n"
          ]
        }
      ]
    },
    {
      "cell_type": "code",
      "source": [
        "top_5 = advice_data.sort_values('health_sim', ascending = False).head(5)\n",
        "for _, row in top_5.iterrows():\n",
        "   print(row['health_sim'])\n",
        "   print(row['question_only'])\n",
        "   print()"
      ],
      "metadata": {
        "colab": {
          "base_uri": "https://localhost:8080/"
        },
        "id": "6218nNsXJC2I",
        "outputId": "14e3c007-a90f-42f2-93fa-31e7ecdc7fbb"
      },
      "execution_count": 32,
      "outputs": [
        {
          "output_type": "stream",
          "name": "stdout",
          "text": [
            "0.23034541308879852\n",
            "my husband has an extensive list of health issues, both mental and physical. his family has a history of cancer. last week, we were given the news that he may have pancreatic cancer. he watched his brother die from the same disease, so we know that if he is diagnosed, he may not survive long. the doctors weren't able to make a definitive diagnosis, so there will be more testing. i love my husband with all my heart and have stood by him through everything.\n",
            "my dilemma: after we got the news, i started thinking about what may happen to me after he dies. i thought about getting him more life insurance, selling the house, what to do with his belongings -- even where i would bury him. am i a terrible person? i feel guilty for doing it and would appreciate your opinion. -- filled with all sorts of emotions\n",
            "\n",
            "0.2255341112613678\n",
            "i have fought obesity all of my adult life, and my weight has yo-yoed over the years. my problem is, when i go to the doctor's office and i am taken to the exam area, the scale is right out in the open where other patients come and go as well as all the office personnel.\n",
            "mind you, i don't care if i am weighed in the presence of people walking around -- if they don't peek. however, when the medical assistant is done weighing me, she reads the scale out loud. i have felt humiliated when other patients are walking past. i have put up with this for years.\n",
            "recently, this medical assistant weighed me and i just knew she was going to \"announce\" my weight. this time there was a man i could tell was a patient, standing nearby at the reception window staring intently at me getting weighed. because i was sure the m.a. was going to say it out loud, i started to cough to try to muffle the sound of her voice. it worked, but then she acted irritated because of my coughing, so she repeated it loudly. i was very embarrassed, to say the least. when the doctor saw me, i was afraid to say anything as i didn't want to get anybody in trouble.\n",
            "i graduated from a medical assistant school many years ago and i remember the registered nurse who was our instructor taught us to never say out loud somebody's weight when you weigh him or her. it only makes common sense. i no longer want to go back to that doctor's office.\n",
            "do you have any advice for me when this happens again? i say again because it happens at other doctor's offices i visit as well. i am at a loss here. i would appreciate your input. -- still stinging in nevada\n",
            "\n",
            "0.21788565814495087\n",
            "all right, here is my pet peeve. and i am sure others will say it is also theirs:\n",
            "why don't people who are sick stay home instead of going to work and giving everybody else their cold, their flu, or whatever they have that \"seems to be going around\"?\n",
            "a co-worker dragged herself to work when she was feeling lousy with some undisclosed sickness, and you guessed it-she gave whatever it was she had to the rest of us. please print this, abby, but please don't use my name. i need this job, and she is my superior. out for a week\n",
            "\n",
            "0.2151443064212799\n",
            "i recently started to work at a pharmacy as an intern, and i go home every night frustrated to tears by what i see in a day's work.\n",
            "there are medical claims, hundreds of them daily. many are for preventable sicknesses that could be cured by over-the-counter drugs. some people abuse the emergency rooms just to get prescriptions necessary for medicaid. an example is cough syrup. once again, the system pays a couple of hundred dollars for a child with a common cold whose parents wouldn't spring the $3.99 it would cost for a bottle of cough syrup.\n",
            "abby, some people are so uneducated they don't know how to take the medicine. (have you ever known anyone to eat a suppository?)\n",
            "i got a call the other day from a girl who asked me whether or not she's pregnant when there are two blue lines on the stick. (she's 12 years old and didn't know how to read a package insert to take the pregnancy test!)\n",
            "wait -- there's more. the abuse of the system isn't happening only in health care and pharmacy; we had a job available that women applied for via the unemployment office just to get their papers signed so they could keep drawing welfare or unemployment benefits. some people have even tried to use food stamps to pay for narcotics!\n",
            "i am so disgusted -- maybe i'll move to canada. -- angela in savannah\n",
            "\n",
            "0.21472126245498657\n",
            "next week, i will celebrate 25 years as a registered nurse. i have seen it all, and now may i share some pointers for visitors?\n",
            "1. do not bring small children to the hospital to see grandpa or grandma. the hospital is teeming with germs that small children have trouble fighting.\n",
            "2. please wash your hands after using the bathroom. it's the best way to stop infection.\n",
            "3. do not smoke around oxygen. (yes, i have seen visitors who don't know better.)\n",
            "4. all electric fans, radios and cd players brought from home must be checked by the engineering department. many fires have been started by a faulty electrical appliance.\n",
            "5. please don't eat the patient's meals. we want to see how much the patient has eaten when the patient's tray is returned to the kitchen.\n",
            "6. leave the pets at home. (last christmas, a mother brought a hamster in her purse for her little boy. it got loose, and created a big fuss until it was finally found and captured.)\n",
            "abby, if you use this in your column, sign it ... flo nightingale, fort myers, fla.\n",
            "\n",
            "\n"
          ]
        }
      ]
    },
    {
      "cell_type": "code",
      "source": [
        "# we can also visualize the distribution of similarity scores\n",
        "plot_sim_dist(advice_data, [i+'_sim' for i in queries])"
      ],
      "metadata": {
        "colab": {
          "base_uri": "https://localhost:8080/",
          "height": 367
        },
        "id": "JkF55hMVK3Q9",
        "outputId": "5671927b-954c-4093-e38a-724672badb84"
      },
      "execution_count": 34,
      "outputs": [
        {
          "output_type": "display_data",
          "data": {
            "text/plain": [
              "<Figure size 1200x400 with 4 Axes>"
            ],
            "image/png": "[encoded data removed]"
          },
          "metadata": {}
        }
      ]
    },
    {
      "cell_type": "markdown",
      "metadata": {
        "id": "4DtkciS9AUXa"
      },
      "source": [
        "You can check outother faster ways of doing this here: https://www.sbert.net/examples/applications/semantic-search/README.html"
      ]
    },
    {
      "cell_type": "markdown",
      "source": [
        "**Try yourself**:\n",
        "\n",
        "1. sometimes SBERT does not work well for long multi-sentence documents, especially if the different sentences span multiple topics. You can try and tokenize the sentences of your documents to see if it captures better/more relevant sentences.\n",
        "\n",
        "Think about how you pick the documents in this case. For example, you could have a very liberal estimate and say that if any document has a single relevant sentence, it should be considered relevant.\n",
        "\n",
        "2. Experiment with different pretrained models: https://www.sbert.net/docs/pretrained_models.html"
      ],
      "metadata": {
        "id": "5RdZG4ONLJan"
      }
    },
    {
      "cell_type": "markdown",
      "metadata": {
        "id": "ddRTv2eV4HSs"
      },
      "source": [
        "## Part 2: Detecting Workplace Depression\n",
        "\n",
        "SBERT can also be used for other cases, specifically as a light-weight classifier. Details on how we used it to detect workplace depression is here: https://docs.google.com/presentation/d/1i6sKdoGR35UcsU7re0mLRWZ3OZinYx9xWnKRR7Bwb-8/edit?usp=sharing\n",
        "\n",
        "\n"
      ]
    },
    {
      "cell_type": "code",
      "execution_count": 35,
      "metadata": {
        "id": "l0vHtFEX8qYy",
        "colab": {
          "base_uri": "https://localhost:8080/",
          "height": 724
        },
        "outputId": "cad74ef2-521e-4159-ca08-854937e69690"
      },
      "outputs": [
        {
          "output_type": "execute_result",
          "data": {
            "text/plain": [
              "   Unnamed: 0  advice_to_mgmt           company_id  \\\n",
              "0      155609             NaN        1625_hartford   \n",
              "1      145990             NaN  14836_bankofamerica   \n",
              "2      249858             NaN             2391_pnc   \n",
              "3      115197             NaN    289_americantower   \n",
              "4      320062             NaN         1660_bestbuy   \n",
              "\n",
              "                                                cons  cons_vader  \\\n",
              "0  No longer has a good training program. ZERO wo...         NaN   \n",
              "1  So true I lost my job after 26 years. Reorgani...         NaN   \n",
              "2  no challenging work. No appreciation/recogniti...         NaN   \n",
              "3            managers beat you down, unprofessional.         NaN   \n",
              "4  Low pay and managers take to long to deal with...         NaN   \n",
              "\n",
              "                                                date  \\\n",
              "0  Mon Aug 12 2013 16:47:19 GMT+0100 (British Sum...   \n",
              "1  Wed Dec 24 2014 05:23:42 GMT+0000 (Greenwich M...   \n",
              "2  Sun Jun 09 2013 17:00:25 GMT+0100 (British Sum...   \n",
              "3  Tue Jul 14 2015 15:10:17 GMT+0100 (British Sum...   \n",
              "4  Tue Mar 13 2018 04:22:35 GMT+0000 (Greenwich M...   \n",
              "\n",
              "                       employee_status                   employee_title  \\\n",
              "0                     Former Employee                   Claims Adjuster   \n",
              "1  Coordinator in Saint Petersburg, FL                              NaN   \n",
              "2                  Current Contractor            Lead Software Engineer   \n",
              "3   Project Manager in Los Angeles, CA                              NaN   \n",
              "4                    Current Employee    Geek Squad, Consultation Agent   \n",
              "\n",
              "   helpful              location  ...  state SEC filings  \\\n",
              "0      NaN             Tampa, FL  ...     FL     reports   \n",
              "1      NaN  Saint Petersburg, FL  ...     FL     reports   \n",
              "2      NaN        Pittsburgh, PA  ...     PA     reports   \n",
              "3      NaN       Los Angeles, CA  ...     CA     reports   \n",
              "4      NaN           Everett, WA  ...     WA     reports   \n",
              "\n",
              "               GICSSector                GICSSubIndustry  \\\n",
              "0              Financials  Property & Casualty Insurance   \n",
              "1              Financials              Diversified Banks   \n",
              "2              Financials                 Regional Banks   \n",
              "3               Utilities             Electric Utilities   \n",
              "4  Consumer Discretionary  Computer & Electronics Retail   \n",
              "\n",
              "       Headquarters Location  Date first added       CIK  Founded     Region  \\\n",
              "0      Hartford, Connecticut               NaN  874766.0      NaN      South   \n",
              "1  Charlotte, North Carolina        30/06/1976   70858.0      NaN      South   \n",
              "2   Pittsburgh, Pennsylvania        30/04/1988  713676.0      NaN  Northeast   \n",
              "3             Columbus, Ohio               NaN    4904.0     1906       West   \n",
              "4       Richfield, Minnesota        29/06/1999  764478.0      NaN       West   \n",
              "\n",
              "          Division  \n",
              "0   South Atlantic  \n",
              "1   South Atlantic  \n",
              "2  Middle Atlantic  \n",
              "3          Pacific  \n",
              "4          Pacific  \n",
              "\n",
              "[5 rows x 44 columns]"
            ],
            "text/html": [
              "\n",
              "  <div id=\"df-bdb51812-20a5-4d3c-88e3-169a07a0c0a4\" class=\"colab-df-container\">\n",
              "    <div>\n",
              "<style scoped>\n",
              "    .dataframe tbody tr th:only-of-type {\n",
              "        vertical-align: middle;\n",
              "    }\n",
              "\n",
              "    .dataframe tbody tr th {\n",
              "        vertical-align: top;\n",
              "    }\n",
              "\n",
              "    .dataframe thead th {\n",
              "        text-align: right;\n",
              "    }\n",
              "</style>\n",
              "<table border=\"1\" class=\"dataframe\">\n",
              "  <thead>\n",
              "    <tr style=\"text-align: right;\">\n",
              "      <th></th>\n",
              "      <th>Unnamed: 0</th>\n",
              "      <th>advice_to_mgmt</th>\n",
              "      <th>company_id</th>\n",
              "      <th>cons</th>\n",
              "      <th>cons_vader</th>\n",
              "      <th>date</th>\n",
              "      <th>employee_status</th>\n",
              "      <th>employee_title</th>\n",
              "      <th>helpful</th>\n",
              "      <th>location</th>\n",
              "      <th>...</th>\n",
              "      <th>state</th>\n",
              "      <th>SEC filings</th>\n",
              "      <th>GICSSector</th>\n",
              "      <th>GICSSubIndustry</th>\n",
              "      <th>Headquarters Location</th>\n",
              "      <th>Date first added</th>\n",
              "      <th>CIK</th>\n",
              "      <th>Founded</th>\n",
              "      <th>Region</th>\n",
              "      <th>Division</th>\n",
              "    </tr>\n",
              "  </thead>\n",
              "  <tbody>\n",
              "    <tr>\n",
              "      <th>0</th>\n",
              "      <td>155609</td>\n",
              "      <td>NaN</td>\n",
              "      <td>1625_hartford</td>\n",
              "      <td>No longer has a good training program. ZERO wo...</td>\n",
              "      <td>NaN</td>\n",
              "      <td>Mon Aug 12 2013 16:47:19 GMT+0100 (British Sum...</td>\n",
              "      <td>Former Employee</td>\n",
              "      <td>Claims Adjuster</td>\n",
              "      <td>NaN</td>\n",
              "      <td>Tampa, FL</td>\n",
              "      <td>...</td>\n",
              "      <td>FL</td>\n",
              "      <td>reports</td>\n",
              "      <td>Financials</td>\n",
              "      <td>Property &amp; Casualty Insurance</td>\n",
              "      <td>Hartford, Connecticut</td>\n",
              "      <td>NaN</td>\n",
              "      <td>874766.0</td>\n",
              "      <td>NaN</td>\n",
              "      <td>South</td>\n",
              "      <td>South Atlantic</td>\n",
              "    </tr>\n",
              "    <tr>\n",
              "      <th>1</th>\n",
              "      <td>145990</td>\n",
              "      <td>NaN</td>\n",
              "      <td>14836_bankofamerica</td>\n",
              "      <td>So true I lost my job after 26 years. Reorgani...</td>\n",
              "      <td>NaN</td>\n",
              "      <td>Wed Dec 24 2014 05:23:42 GMT+0000 (Greenwich M...</td>\n",
              "      <td>Coordinator in Saint Petersburg, FL</td>\n",
              "      <td>NaN</td>\n",
              "      <td>NaN</td>\n",
              "      <td>Saint Petersburg, FL</td>\n",
              "      <td>...</td>\n",
              "      <td>FL</td>\n",
              "      <td>reports</td>\n",
              "      <td>Financials</td>\n",
              "      <td>Diversified Banks</td>\n",
              "      <td>Charlotte, North Carolina</td>\n",
              "      <td>30/06/1976</td>\n",
              "      <td>70858.0</td>\n",
              "      <td>NaN</td>\n",
              "      <td>South</td>\n",
              "      <td>South Atlantic</td>\n",
              "    </tr>\n",
              "    <tr>\n",
              "      <th>2</th>\n",
              "      <td>249858</td>\n",
              "      <td>NaN</td>\n",
              "      <td>2391_pnc</td>\n",
              "      <td>no challenging work. No appreciation/recogniti...</td>\n",
              "      <td>NaN</td>\n",
              "      <td>Sun Jun 09 2013 17:00:25 GMT+0100 (British Sum...</td>\n",
              "      <td>Current Contractor</td>\n",
              "      <td>Lead Software Engineer</td>\n",
              "      <td>NaN</td>\n",
              "      <td>Pittsburgh, PA</td>\n",
              "      <td>...</td>\n",
              "      <td>PA</td>\n",
              "      <td>reports</td>\n",
              "      <td>Financials</td>\n",
              "      <td>Regional Banks</td>\n",
              "      <td>Pittsburgh, Pennsylvania</td>\n",
              "      <td>30/04/1988</td>\n",
              "      <td>713676.0</td>\n",
              "      <td>NaN</td>\n",
              "      <td>Northeast</td>\n",
              "      <td>Middle Atlantic</td>\n",
              "    </tr>\n",
              "    <tr>\n",
              "      <th>3</th>\n",
              "      <td>115197</td>\n",
              "      <td>NaN</td>\n",
              "      <td>289_americantower</td>\n",
              "      <td>managers beat you down, unprofessional.</td>\n",
              "      <td>NaN</td>\n",
              "      <td>Tue Jul 14 2015 15:10:17 GMT+0100 (British Sum...</td>\n",
              "      <td>Project Manager in Los Angeles, CA</td>\n",
              "      <td>NaN</td>\n",
              "      <td>NaN</td>\n",
              "      <td>Los Angeles, CA</td>\n",
              "      <td>...</td>\n",
              "      <td>CA</td>\n",
              "      <td>reports</td>\n",
              "      <td>Utilities</td>\n",
              "      <td>Electric Utilities</td>\n",
              "      <td>Columbus, Ohio</td>\n",
              "      <td>NaN</td>\n",
              "      <td>4904.0</td>\n",
              "      <td>1906</td>\n",
              "      <td>West</td>\n",
              "      <td>Pacific</td>\n",
              "    </tr>\n",
              "    <tr>\n",
              "      <th>4</th>\n",
              "      <td>320062</td>\n",
              "      <td>NaN</td>\n",
              "      <td>1660_bestbuy</td>\n",
              "      <td>Low pay and managers take to long to deal with...</td>\n",
              "      <td>NaN</td>\n",
              "      <td>Tue Mar 13 2018 04:22:35 GMT+0000 (Greenwich M...</td>\n",
              "      <td>Current Employee</td>\n",
              "      <td>Geek Squad, Consultation Agent</td>\n",
              "      <td>NaN</td>\n",
              "      <td>Everett, WA</td>\n",
              "      <td>...</td>\n",
              "      <td>WA</td>\n",
              "      <td>reports</td>\n",
              "      <td>Consumer Discretionary</td>\n",
              "      <td>Computer &amp; Electronics Retail</td>\n",
              "      <td>Richfield, Minnesota</td>\n",
              "      <td>29/06/1999</td>\n",
              "      <td>764478.0</td>\n",
              "      <td>NaN</td>\n",
              "      <td>West</td>\n",
              "      <td>Pacific</td>\n",
              "    </tr>\n",
              "  </tbody>\n",
              "</table>\n",
              "<p>5 rows × 44 columns</p>\n",
              "</div>\n",
              "    <div class=\"colab-df-buttons\">\n",
              "\n",
              "  <div class=\"colab-df-container\">\n",
              "    <button class=\"colab-df-convert\" onclick=\"convertToInteractive('df-bdb51812-20a5-4d3c-88e3-169a07a0c0a4')\"\n",
              "            title=\"Convert this dataframe to an interactive table.\"\n",
              "            style=\"display:none;\">\n",
              "\n",
              "  <svg xmlns=\"http://www.w3.org/2000/svg\" height=\"24px\" viewBox=\"0 -960 960 960\">\n",
              "    <path d=\"M120-120v-720h720v720H120Zm60-500h600v-160H180v160Zm220 220h160v-160H400v160Zm0 220h160v-160H400v160ZM180-400h160v-160H180v160Zm440 0h160v-160H620v160ZM180-180h160v-160H180v160Zm440 0h160v-160H620v160Z\"/>\n",
              "  </svg>\n",
              "    </button>\n",
              "\n",
              "  <style>\n",
              "    .colab-df-container {\n",
              "      display:flex;\n",
              "      gap: 12px;\n",
              "    }\n",
              "\n",
              "    .colab-df-convert {\n",
              "      background-color: #E8F0FE;\n",
              "      border: none;\n",
              "      border-radius: 50%;\n",
              "      cursor: pointer;\n",
              "      display: none;\n",
              "      fill: #1967D2;\n",
              "      height: 32px;\n",
              "      padding: 0 0 0 0;\n",
              "      width: 32px;\n",
              "    }\n",
              "\n",
              "    .colab-df-convert:hover {\n",
              "      background-color: #E2EBFA;\n",
              "      box-shadow: 0px 1px 2px rgba(60, 64, 67, 0.3), 0px 1px 3px 1px rgba(60, 64, 67, 0.15);\n",
              "      fill: #174EA6;\n",
              "    }\n",
              "\n",
              "    .colab-df-buttons div {\n",
              "      margin-bottom: 4px;\n",
              "    }\n",
              "\n",
              "    [theme=dark] .colab-df-convert {\n",
              "      background-color: #3B4455;\n",
              "      fill: #D2E3FC;\n",
              "    }\n",
              "\n",
              "    [theme=dark] .colab-df-convert:hover {\n",
              "      background-color: #434B5C;\n",
              "      box-shadow: 0px 1px 3px 1px rgba(0, 0, 0, 0.15);\n",
              "      filter: drop-shadow(0px 1px 2px rgba(0, 0, 0, 0.3));\n",
              "      fill: #FFFFFF;\n",
              "    }\n",
              "  </style>\n",
              "\n",
              "    <script>\n",
              "      const buttonEl =\n",
              "        document.querySelector('#df-bdb51812-20a5-4d3c-88e3-169a07a0c0a4 button.colab-df-convert');\n",
              "      buttonEl.style.display =\n",
              "        google.colab.kernel.accessAllowed ? 'block' : 'none';\n",
              "\n",
              "      async function convertToInteractive(key) {\n",
              "        const element = document.querySelector('#df-bdb51812-20a5-4d3c-88e3-169a07a0c0a4');\n",
              "        const dataTable =\n",
              "          await google.colab.kernel.invokeFunction('convertToInteractive',\n",
              "                                                    [key], {});\n",
              "        if (!dataTable) return;\n",
              "\n",
              "        const docLinkHtml = 'Like what you see? Visit the ' +\n",
              "          '<a target=\"_blank\" href=https://colab.research.google.com/notebooks/data_table.ipynb>data table notebook</a>'\n",
              "          + ' to learn more about interactive tables.';\n",
              "        element.innerHTML = '';\n",
              "        dataTable['output_type'] = 'display_data';\n",
              "        await google.colab.output.renderOutput(dataTable, element);\n",
              "        const docLink = document.createElement('div');\n",
              "        docLink.innerHTML = docLinkHtml;\n",
              "        element.appendChild(docLink);\n",
              "      }\n",
              "    </script>\n",
              "  </div>\n",
              "\n",
              "\n",
              "<div id=\"df-2e96eacd-c7ad-4e06-aeb6-0306eeb2aa87\">\n",
              "  <button class=\"colab-df-quickchart\" onclick=\"quickchart('df-2e96eacd-c7ad-4e06-aeb6-0306eeb2aa87')\"\n",
              "            title=\"Suggest charts\"\n",
              "            style=\"display:none;\">\n",
              "\n",
              "<svg xmlns=\"http://www.w3.org/2000/svg\" height=\"24px\"viewBox=\"0 0 24 24\"\n",
              "     width=\"24px\">\n",
              "    <g>\n",
              "        <path d=\"M19 3H5c-1.1 0-2 .9-2 2v14c0 1.1.9 2 2 2h14c1.1 0 2-.9 2-2V5c0-1.1-.9-2-2-2zM9 17H7v-7h2v7zm4 0h-2V7h2v10zm4 0h-2v-4h2v4z\"/>\n",
              "    </g>\n",
              "</svg>\n",
              "  </button>\n",
              "\n",
              "<style>\n",
              "  .colab-df-quickchart {\n",
              "      --bg-color: #E8F0FE;\n",
              "      --fill-color: #1967D2;\n",
              "      --hover-bg-color: #E2EBFA;\n",
              "      --hover-fill-color: #174EA6;\n",
              "      --disabled-fill-color: #AAA;\n",
              "      --disabled-bg-color: #DDD;\n",
              "  }\n",
              "\n",
              "  [theme=dark] .colab-df-quickchart {\n",
              "      --bg-color: #3B4455;\n",
              "      --fill-color: #D2E3FC;\n",
              "      --hover-bg-color: #434B5C;\n",
              "      --hover-fill-color: #FFFFFF;\n",
              "      --disabled-bg-color: #3B4455;\n",
              "      --disabled-fill-color: #666;\n",
              "  }\n",
              "\n",
              "  .colab-df-quickchart {\n",
              "    background-color: var(--bg-color);\n",
              "    border: none;\n",
              "    border-radius: 50%;\n",
              "    cursor: pointer;\n",
              "    display: none;\n",
              "    fill: var(--fill-color);\n",
              "    height: 32px;\n",
              "    padding: 0;\n",
              "    width: 32px;\n",
              "  }\n",
              "\n",
              "  .colab-df-quickchart:hover {\n",
              "    background-color: var(--hover-bg-color);\n",
              "    box-shadow: 0 1px 2px rgba(60, 64, 67, 0.3), 0 1px 3px 1px rgba(60, 64, 67, 0.15);\n",
              "    fill: var(--button-hover-fill-color);\n",
              "  }\n",
              "\n",
              "  .colab-df-quickchart-complete:disabled,\n",
              "  .colab-df-quickchart-complete:disabled:hover {\n",
              "    background-color: var(--disabled-bg-color);\n",
              "    fill: var(--disabled-fill-color);\n",
              "    box-shadow: none;\n",
              "  }\n",
              "\n",
              "  .colab-df-spinner {\n",
              "    border: 2px solid var(--fill-color);\n",
              "    border-color: transparent;\n",
              "    border-bottom-color: var(--fill-color);\n",
              "    animation:\n",
              "      spin 1s steps(1) infinite;\n",
              "  }\n",
              "\n",
              "  @keyframes spin {\n",
              "    0% {\n",
              "      border-color: transparent;\n",
              "      border-bottom-color: var(--fill-color);\n",
              "      border-left-color: var(--fill-color);\n",
              "    }\n",
              "    20% {\n",
              "      border-color: transparent;\n",
              "      border-left-color: var(--fill-color);\n",
              "      border-top-color: var(--fill-color);\n",
              "    }\n",
              "    30% {\n",
              "      border-color: transparent;\n",
              "      border-left-color: var(--fill-color);\n",
              "      border-top-color: var(--fill-color);\n",
              "      border-right-color: var(--fill-color);\n",
              "    }\n",
              "    40% {\n",
              "      border-color: transparent;\n",
              "      border-right-color: var(--fill-color);\n",
              "      border-top-color: var(--fill-color);\n",
              "    }\n",
              "    60% {\n",
              "      border-color: transparent;\n",
              "      border-right-color: var(--fill-color);\n",
              "    }\n",
              "    80% {\n",
              "      border-color: transparent;\n",
              "      border-right-color: var(--fill-color);\n",
              "      border-bottom-color: var(--fill-color);\n",
              "    }\n",
              "    90% {\n",
              "      border-color: transparent;\n",
              "      border-bottom-color: var(--fill-color);\n",
              "    }\n",
              "  }\n",
              "</style>\n",
              "\n",
              "  <script>\n",
              "    async function quickchart(key) {\n",
              "      const quickchartButtonEl =\n",
              "        document.querySelector('#' + key + ' button');\n",
              "      quickchartButtonEl.disabled = true;  // To prevent multiple clicks.\n",
              "      quickchartButtonEl.classList.add('colab-df-spinner');\n",
              "      try {\n",
              "        const charts = await google.colab.kernel.invokeFunction(\n",
              "            'suggestCharts', [key], {});\n",
              "      } catch (error) {\n",
              "        console.error('Error during call to suggestCharts:', error);\n",
              "      }\n",
              "      quickchartButtonEl.classList.remove('colab-df-spinner');\n",
              "      quickchartButtonEl.classList.add('colab-df-quickchart-complete');\n",
              "    }\n",
              "    (() => {\n",
              "      let quickchartButtonEl =\n",
              "        document.querySelector('#df-2e96eacd-c7ad-4e06-aeb6-0306eeb2aa87 button');\n",
              "      quickchartButtonEl.style.display =\n",
              "        google.colab.kernel.accessAllowed ? 'block' : 'none';\n",
              "    })();\n",
              "  </script>\n",
              "</div>\n",
              "\n",
              "    </div>\n",
              "  </div>\n"
            ]
          },
          "metadata": {},
          "execution_count": 35
        }
      ],
      "source": [
        "glassdoor_data = pd.read_csv('glassdoor_us_sample.csv')\n",
        "glassdoor_data.head()"
      ]
    },
    {
      "cell_type": "code",
      "source": [
        "glassdoor_data.columns"
      ],
      "metadata": {
        "colab": {
          "base_uri": "https://localhost:8080/"
        },
        "id": "NUMajva-QpJF",
        "outputId": "e6ad67ce-a7ff-4fb5-f91e-38766b3b2508"
      },
      "execution_count": 36,
      "outputs": [
        {
          "output_type": "execute_result",
          "data": {
            "text/plain": [
              "Index(['Unnamed: 0', 'advice_to_mgmt', 'company_id', 'cons', 'cons_vader',\n",
              "       'date', 'employee_status', 'employee_title', 'helpful', 'location',\n",
              "       'post_index', 'pros', 'pros_conflict', 'pros_fun', 'pros_identity',\n",
              "       'pros_vader', 'rating_balance', 'rating_career', 'rating_comp',\n",
              "       'rating_culture', 'rating_mgmt', 'rating_overall', 'review_title',\n",
              "       'review_title_vader', 'whole_review_text', 'years_at_company',\n",
              "       'vader_pros', 'vader_cons', 'vader_review_title', 'flair_pros',\n",
              "       'flair_cons', 'stress_post', 'company_name', 'post_id', 'state',\n",
              "       'SEC filings', 'GICSSector', 'GICSSubIndustry', 'Headquarters Location',\n",
              "       'Date first added', 'CIK', 'Founded', 'Region', 'Division'],\n",
              "      dtype='object')"
            ]
          },
          "metadata": {},
          "execution_count": 36
        }
      ]
    },
    {
      "cell_type": "markdown",
      "source": [
        "There are lots of columns, but we mainly care about the text ones which are 'pros', 'cons', 'whole_review_text'."
      ],
      "metadata": {
        "id": "4xVFc8yvQkr0"
      }
    },
    {
      "cell_type": "code",
      "source": [
        "glassdoor_data['whole_review_text'].values[0:5]"
      ],
      "metadata": {
        "colab": {
          "base_uri": "https://localhost:8080/"
        },
        "id": "rIdLo1J6Qj1A",
        "outputId": "f274f01f-3bc9-437a-90b9-613547c2613a"
      },
      "execution_count": 37,
      "outputs": [
        {
          "output_type": "execute_result",
          "data": {
            "text/plain": [
              "array([\"Terrible pay and an extremely high turnover rate.. I can't think of one pro.. No longer has a good training program. ZERO work/life balance. Lowest pay in the insurance industry.\",\n",
              "       'Loan officer. Good company health benefits & time off. So true I lost my job after 26 years. Reorganization and did not offer another position.',\n",
              "       'Good for work life balance. work life balance and flexibility.. no challenging work. No appreciation/recognition for contractors',\n",
              "       'Project Manager. salary was good but not worth it.... managers beat you down, unprofessional.',\n",
              "       'Fun place to work, with great people.. A lot of room to grow and advancement within the company!. Low pay and managers take to long to deal with bad employees.'],\n",
              "      dtype=object)"
            ]
          },
          "metadata": {},
          "execution_count": 37
        }
      ]
    },
    {
      "cell_type": "code",
      "source": [
        "glassdoor_data['cons'].values[0:5]"
      ],
      "metadata": {
        "colab": {
          "base_uri": "https://localhost:8080/"
        },
        "id": "QfnXvTtDR7Nt",
        "outputId": "a0797aa7-946b-4b92-b2cb-69d5d9cec7d5"
      },
      "execution_count": 38,
      "outputs": [
        {
          "output_type": "execute_result",
          "data": {
            "text/plain": [
              "array(['No longer has a good training program. ZERO work/life balance. Lowest pay in the insurance industry.',\n",
              "       'So true I lost my job after 26 years. Reorganization and did not offer another position.',\n",
              "       'no challenging work. No appreciation/recognition for contractors',\n",
              "       'managers beat you down, unprofessional.',\n",
              "       'Low pay and managers take to long to deal with bad employees.'],\n",
              "      dtype=object)"
            ]
          },
          "metadata": {},
          "execution_count": 38
        }
      ]
    },
    {
      "cell_type": "markdown",
      "source": [
        "We want to find texts that have markers of 'workplace dperession', so we use the survey items in the Occupational Depression Inventory (ODI) as references. One of them is about fatigue."
      ],
      "metadata": {
        "id": "Rvv_cFgEREj5"
      }
    },
    {
      "cell_type": "code",
      "source": [
        "fatigue = 'I felt exhausted because of my work.'\n",
        "depression = 'I felt depressed because of my job.'"
      ],
      "metadata": {
        "id": "baiNTb3tQ_0S"
      },
      "execution_count": 39,
      "outputs": []
    },
    {
      "cell_type": "code",
      "source": [
        "# let's embed the cons\n",
        "documents = glassdoor_data['cons'].values\n",
        "document_embeddings = embed(documents)"
      ],
      "metadata": {
        "colab": {
          "base_uri": "https://localhost:8080/"
        },
        "id": "UytQOJe0Qj3j",
        "outputId": "443ec5ba-fd01-4cb2-fd96-9a5ad16d1f95"
      },
      "execution_count": 40,
      "outputs": [
        {
          "output_type": "stream",
          "name": "stdout",
          "text": [
            "time taken for 1000: 69.893965\n"
          ]
        }
      ]
    },
    {
      "cell_type": "code",
      "source": [
        "# let's get similarity to the fatigue and depression survey items\n",
        "odi_sims = find_similarity(document_embeddings, [fatigue, depression])\n",
        "odi_sims.shape"
      ],
      "metadata": {
        "colab": {
          "base_uri": "https://localhost:8080/"
        },
        "id": "vo6kiju_Qj6Q",
        "outputId": "286d2059-a094-4d91-cb59-e80904ae2fc8"
      },
      "execution_count": 41,
      "outputs": [
        {
          "output_type": "stream",
          "name": "stdout",
          "text": [
            "time taken for 2: 0.098393\n"
          ]
        },
        {
          "output_type": "execute_result",
          "data": {
            "text/plain": [
              "torch.Size([1000, 2])"
            ]
          },
          "metadata": {},
          "execution_count": 41
        }
      ]
    },
    {
      "cell_type": "code",
      "source": [
        "# let's add them to the dataframe\n",
        "glassdoor_data['fatigue_sim'] = odi_sims.T[0]\n",
        "glassdoor_data['depression_sim'] = odi_sims.T[1]"
      ],
      "metadata": {
        "id": "x0EpfgAnTdoU"
      },
      "execution_count": 42,
      "outputs": []
    },
    {
      "cell_type": "code",
      "source": [
        "# let's find the top instances related to fatigue\n",
        "top_5 = glassdoor_data.sort_values('fatigue_sim', ascending = False).head(5)\n",
        "for _, row in top_5.iterrows():\n",
        "   print(row['fatigue_sim'])\n",
        "   print(row['cons'])\n",
        "   print()"
      ],
      "metadata": {
        "colab": {
          "base_uri": "https://localhost:8080/"
        },
        "id": "oGJT5vBmQj9z",
        "outputId": "65a43922-158a-4151-dd9c-ec68cf4c4908"
      },
      "execution_count": 43,
      "outputs": [
        {
          "output_type": "stream",
          "name": "stdout",
          "text": [
            "0.5658976435661316\n",
            "Towards the end I really wasn't making my hours. I was FullTime yet tasks I had onve been assigned were either finished too early by others staying for OverTime or tasks they cut out.\n",
            "\n",
            "0.5448348522186279\n",
            "Work can be thankless and exhausting\n",
            "\n",
            "0.45268142223358154\n",
            "I worked in nathans they had in the kmart where I worked. it was horrible, I always worked by myself which meant I had to ring up customers and make the food, it got hectic especially on a Friday night or Saturday. I left because the job became too stressful and for 7.25 its not worth it at all.\n",
            "\n",
            "0.4314321279525757\n",
            "Low pay because of short hours, management, physically exhausting, overworked and underpaid\n",
            "\n",
            "0.4268292784690857\n",
            "My commute was too long; a state away.\n",
            "\n"
          ]
        }
      ]
    },
    {
      "cell_type": "code",
      "source": [
        "# let's find the top instances related to depression\n",
        "top_5 = glassdoor_data.sort_values('depression_sim', ascending = False).head(5)\n",
        "for _, row in top_5.iterrows():\n",
        "   print(row['depression_sim'])\n",
        "   print(row['cons'])\n",
        "   print()"
      ],
      "metadata": {
        "colab": {
          "base_uri": "https://localhost:8080/"
        },
        "id": "Xovc3xAcTsl5",
        "outputId": "620d9bd8-2117-4241-945f-444cda2384e5"
      },
      "execution_count": 44,
      "outputs": [
        {
          "output_type": "stream",
          "name": "stdout",
          "text": [
            "0.4943542778491974\n",
            "So true I lost my job after 26 years. Reorganization and did not offer another position.\n",
            "\n",
            "0.46584856510162354\n",
            "everything else, this was the worst job I've ever had\n",
            "\n",
            "0.45960503816604614\n",
            "Grittiness of job and salary\n",
            "\n",
            "0.45140206813812256\n",
            "The company treats employees like dirt. You are always scared for your job. The company does not offer relocation packages for the majority of the jobs posted. I was offered a position in another city and was only offered lateral pay and no relocation and was under pressure from my bosses to take the job or else no chance of moving up again. When I couldn't afford to move I was not allowed to have another position and was terminated. Being a store manager is a miserable existence where you have no work/life balance and are constantly under stress. You can't unplug because if you try to unplug you fall behind and get in danger of disciplinary action. In my experience I was moved further and further from my house so I had even less work life balance. I burned out. You grab the imaginary brass ring so many times until you find out it's just that, imaginary.\n",
            "\n",
            "0.4512290060520172\n",
            "I dont think the employees are appreciated enough for their work. The employee morale is low.\n",
            "\n"
          ]
        }
      ]
    },
    {
      "cell_type": "code",
      "source": [
        "# we can also visualize the distribution of similarity scores\n",
        "plot_sim_dist(glassdoor_data, ['fatigue_sim', 'depression_sim'])"
      ],
      "metadata": {
        "colab": {
          "base_uri": "https://localhost:8080/",
          "height": 415
        },
        "id": "9zihjGuyTEsy",
        "outputId": "59721543-2651-40aa-89b5-6fafb376142b"
      },
      "execution_count": 45,
      "outputs": [
        {
          "output_type": "display_data",
          "data": {
            "text/plain": [
              "<Figure size 600x400 with 2 Axes>"
            ],
            "image/png": "[encoded data removed]"
          },
          "metadata": {}
        }
      ]
    },
    {
      "cell_type": "markdown",
      "source": [
        "While it's still a normal distribution, it's somewhat different from the advice ones --- the similarity scores are generally higher. Lower overall similarity scores can indicate that the data is not right for this specific purpose (i.e., too long, not enough overlap with the references or queries, etc.)"
      ],
      "metadata": {
        "id": "IL_L12h_T3SJ"
      }
    },
    {
      "cell_type": "markdown",
      "metadata": {
        "id": "lfMjIfaPvnWp"
      },
      "source": [
        "## Part 3: Political Stance\n",
        "\n",
        "Now, we will try this on a political topic. Specifically, we will explore a classification-like setup for detecting political stance using survey items as references."
      ]
    },
    {
      "cell_type": "code",
      "execution_count": 46,
      "metadata": {
        "colab": {
          "base_uri": "https://localhost:8080/",
          "height": 206
        },
        "id": "SchQSDykpimA",
        "outputId": "4161a743-0429-46be-8fe1-6a1a2731a482"
      },
      "outputs": [
        {
          "output_type": "execute_result",
          "data": {
            "text/plain": [
              "                                               Tweet          Target   Stance\n",
              "0  #IEndorseBernie for tons of reasons, but this ...  Bernie Sanders    FAVOR\n",
              "1  A big problem w/#Bernie left is not only preoc...  Bernie Sanders  AGAINST\n",
              "2  This poll is not reflecting anything: \"age was...  Bernie Sanders  AGAINST\n",
              "3  So proud how @BernieSanders is shedding light ...  Bernie Sanders    FAVOR\n",
              "4  According to media bias fact checker, you have...  Bernie Sanders    FAVOR"
            ],
            "text/html": [
              "\n",
              "  <div id=\"df-af7cd807-8683-4814-a49f-e3f0ed391e79\" class=\"colab-df-container\">\n",
              "    <div>\n",
              "<style scoped>\n",
              "    .dataframe tbody tr th:only-of-type {\n",
              "        vertical-align: middle;\n",
              "    }\n",
              "\n",
              "    .dataframe tbody tr th {\n",
              "        vertical-align: top;\n",
              "    }\n",
              "\n",
              "    .dataframe thead th {\n",
              "        text-align: right;\n",
              "    }\n",
              "</style>\n",
              "<table border=\"1\" class=\"dataframe\">\n",
              "  <thead>\n",
              "    <tr style=\"text-align: right;\">\n",
              "      <th></th>\n",
              "      <th>Tweet</th>\n",
              "      <th>Target</th>\n",
              "      <th>Stance</th>\n",
              "    </tr>\n",
              "  </thead>\n",
              "  <tbody>\n",
              "    <tr>\n",
              "      <th>0</th>\n",
              "      <td>#IEndorseBernie for tons of reasons, but this ...</td>\n",
              "      <td>Bernie Sanders</td>\n",
              "      <td>FAVOR</td>\n",
              "    </tr>\n",
              "    <tr>\n",
              "      <th>1</th>\n",
              "      <td>A big problem w/#Bernie left is not only preoc...</td>\n",
              "      <td>Bernie Sanders</td>\n",
              "      <td>AGAINST</td>\n",
              "    </tr>\n",
              "    <tr>\n",
              "      <th>2</th>\n",
              "      <td>This poll is not reflecting anything: \"age was...</td>\n",
              "      <td>Bernie Sanders</td>\n",
              "      <td>AGAINST</td>\n",
              "    </tr>\n",
              "    <tr>\n",
              "      <th>3</th>\n",
              "      <td>So proud how @BernieSanders is shedding light ...</td>\n",
              "      <td>Bernie Sanders</td>\n",
              "      <td>FAVOR</td>\n",
              "    </tr>\n",
              "    <tr>\n",
              "      <th>4</th>\n",
              "      <td>According to media bias fact checker, you have...</td>\n",
              "      <td>Bernie Sanders</td>\n",
              "      <td>FAVOR</td>\n",
              "    </tr>\n",
              "  </tbody>\n",
              "</table>\n",
              "</div>\n",
              "    <div class=\"colab-df-buttons\">\n",
              "\n",
              "  <div class=\"colab-df-container\">\n",
              "    <button class=\"colab-df-convert\" onclick=\"convertToInteractive('df-af7cd807-8683-4814-a49f-e3f0ed391e79')\"\n",
              "            title=\"Convert this dataframe to an interactive table.\"\n",
              "            style=\"display:none;\">\n",
              "\n",
              "  <svg xmlns=\"http://www.w3.org/2000/svg\" height=\"24px\" viewBox=\"0 -960 960 960\">\n",
              "    <path d=\"M120-120v-720h720v720H120Zm60-500h600v-160H180v160Zm220 220h160v-160H400v160Zm0 220h160v-160H400v160ZM180-400h160v-160H180v160Zm440 0h160v-160H620v160ZM180-180h160v-160H180v160Zm440 0h160v-160H620v160Z\"/>\n",
              "  </svg>\n",
              "    </button>\n",
              "\n",
              "  <style>\n",
              "    .colab-df-container {\n",
              "      display:flex;\n",
              "      gap: 12px;\n",
              "    }\n",
              "\n",
              "    .colab-df-convert {\n",
              "      background-color: #E8F0FE;\n",
              "      border: none;\n",
              "      border-radius: 50%;\n",
              "      cursor: pointer;\n",
              "      display: none;\n",
              "      fill: #1967D2;\n",
              "      height: 32px;\n",
              "      padding: 0 0 0 0;\n",
              "      width: 32px;\n",
              "    }\n",
              "\n",
              "    .colab-df-convert:hover {\n",
              "      background-color: #E2EBFA;\n",
              "      box-shadow: 0px 1px 2px rgba(60, 64, 67, 0.3), 0px 1px 3px 1px rgba(60, 64, 67, 0.15);\n",
              "      fill: #174EA6;\n",
              "    }\n",
              "\n",
              "    .colab-df-buttons div {\n",
              "      margin-bottom: 4px;\n",
              "    }\n",
              "\n",
              "    [theme=dark] .colab-df-convert {\n",
              "      background-color: #3B4455;\n",
              "      fill: #D2E3FC;\n",
              "    }\n",
              "\n",
              "    [theme=dark] .colab-df-convert:hover {\n",
              "      background-color: #434B5C;\n",
              "      box-shadow: 0px 1px 3px 1px rgba(0, 0, 0, 0.15);\n",
              "      filter: drop-shadow(0px 1px 2px rgba(0, 0, 0, 0.3));\n",
              "      fill: #FFFFFF;\n",
              "    }\n",
              "  </style>\n",
              "\n",
              "    <script>\n",
              "      const buttonEl =\n",
              "        document.querySelector('#df-af7cd807-8683-4814-a49f-e3f0ed391e79 button.colab-df-convert');\n",
              "      buttonEl.style.display =\n",
              "        google.colab.kernel.accessAllowed ? 'block' : 'none';\n",
              "\n",
              "      async function convertToInteractive(key) {\n",
              "        const element = document.querySelector('#df-af7cd807-8683-4814-a49f-e3f0ed391e79');\n",
              "        const dataTable =\n",
              "          await google.colab.kernel.invokeFunction('convertToInteractive',\n",
              "                                                    [key], {});\n",
              "        if (!dataTable) return;\n",
              "\n",
              "        const docLinkHtml = 'Like what you see? Visit the ' +\n",
              "          '<a target=\"_blank\" href=https://colab.research.google.com/notebooks/data_table.ipynb>data table notebook</a>'\n",
              "          + ' to learn more about interactive tables.';\n",
              "        element.innerHTML = '';\n",
              "        dataTable['output_type'] = 'display_data';\n",
              "        await google.colab.output.renderOutput(dataTable, element);\n",
              "        const docLink = document.createElement('div');\n",
              "        docLink.innerHTML = docLinkHtml;\n",
              "        element.appendChild(docLink);\n",
              "      }\n",
              "    </script>\n",
              "  </div>\n",
              "\n",
              "\n",
              "<div id=\"df-67005971-620f-4bbf-b969-fe7c9556dea2\">\n",
              "  <button class=\"colab-df-quickchart\" onclick=\"quickchart('df-67005971-620f-4bbf-b969-fe7c9556dea2')\"\n",
              "            title=\"Suggest charts\"\n",
              "            style=\"display:none;\">\n",
              "\n",
              "<svg xmlns=\"http://www.w3.org/2000/svg\" height=\"24px\"viewBox=\"0 0 24 24\"\n",
              "     width=\"24px\">\n",
              "    <g>\n",
              "        <path d=\"M19 3H5c-1.1 0-2 .9-2 2v14c0 1.1.9 2 2 2h14c1.1 0 2-.9 2-2V5c0-1.1-.9-2-2-2zM9 17H7v-7h2v7zm4 0h-2V7h2v10zm4 0h-2v-4h2v4z\"/>\n",
              "    </g>\n",
              "</svg>\n",
              "  </button>\n",
              "\n",
              "<style>\n",
              "  .colab-df-quickchart {\n",
              "      --bg-color: #E8F0FE;\n",
              "      --fill-color: #1967D2;\n",
              "      --hover-bg-color: #E2EBFA;\n",
              "      --hover-fill-color: #174EA6;\n",
              "      --disabled-fill-color: #AAA;\n",
              "      --disabled-bg-color: #DDD;\n",
              "  }\n",
              "\n",
              "  [theme=dark] .colab-df-quickchart {\n",
              "      --bg-color: #3B4455;\n",
              "      --fill-color: #D2E3FC;\n",
              "      --hover-bg-color: #434B5C;\n",
              "      --hover-fill-color: #FFFFFF;\n",
              "      --disabled-bg-color: #3B4455;\n",
              "      --disabled-fill-color: #666;\n",
              "  }\n",
              "\n",
              "  .colab-df-quickchart {\n",
              "    background-color: var(--bg-color);\n",
              "    border: none;\n",
              "    border-radius: 50%;\n",
              "    cursor: pointer;\n",
              "    display: none;\n",
              "    fill: var(--fill-color);\n",
              "    height: 32px;\n",
              "    padding: 0;\n",
              "    width: 32px;\n",
              "  }\n",
              "\n",
              "  .colab-df-quickchart:hover {\n",
              "    background-color: var(--hover-bg-color);\n",
              "    box-shadow: 0 1px 2px rgba(60, 64, 67, 0.3), 0 1px 3px 1px rgba(60, 64, 67, 0.15);\n",
              "    fill: var(--button-hover-fill-color);\n",
              "  }\n",
              "\n",
              "  .colab-df-quickchart-complete:disabled,\n",
              "  .colab-df-quickchart-complete:disabled:hover {\n",
              "    background-color: var(--disabled-bg-color);\n",
              "    fill: var(--disabled-fill-color);\n",
              "    box-shadow: none;\n",
              "  }\n",
              "\n",
              "  .colab-df-spinner {\n",
              "    border: 2px solid var(--fill-color);\n",
              "    border-color: transparent;\n",
              "    border-bottom-color: var(--fill-color);\n",
              "    animation:\n",
              "      spin 1s steps(1) infinite;\n",
              "  }\n",
              "\n",
              "  @keyframes spin {\n",
              "    0% {\n",
              "      border-color: transparent;\n",
              "      border-bottom-color: var(--fill-color);\n",
              "      border-left-color: var(--fill-color);\n",
              "    }\n",
              "    20% {\n",
              "      border-color: transparent;\n",
              "      border-left-color: var(--fill-color);\n",
              "      border-top-color: var(--fill-color);\n",
              "    }\n",
              "    30% {\n",
              "      border-color: transparent;\n",
              "      border-left-color: var(--fill-color);\n",
              "      border-top-color: var(--fill-color);\n",
              "      border-right-color: var(--fill-color);\n",
              "    }\n",
              "    40% {\n",
              "      border-color: transparent;\n",
              "      border-right-color: var(--fill-color);\n",
              "      border-top-color: var(--fill-color);\n",
              "    }\n",
              "    60% {\n",
              "      border-color: transparent;\n",
              "      border-right-color: var(--fill-color);\n",
              "    }\n",
              "    80% {\n",
              "      border-color: transparent;\n",
              "      border-right-color: var(--fill-color);\n",
              "      border-bottom-color: var(--fill-color);\n",
              "    }\n",
              "    90% {\n",
              "      border-color: transparent;\n",
              "      border-bottom-color: var(--fill-color);\n",
              "    }\n",
              "  }\n",
              "</style>\n",
              "\n",
              "  <script>\n",
              "    async function quickchart(key) {\n",
              "      const quickchartButtonEl =\n",
              "        document.querySelector('#' + key + ' button');\n",
              "      quickchartButtonEl.disabled = true;  // To prevent multiple clicks.\n",
              "      quickchartButtonEl.classList.add('colab-df-spinner');\n",
              "      try {\n",
              "        const charts = await google.colab.kernel.invokeFunction(\n",
              "            'suggestCharts', [key], {});\n",
              "      } catch (error) {\n",
              "        console.error('Error during call to suggestCharts:', error);\n",
              "      }\n",
              "      quickchartButtonEl.classList.remove('colab-df-spinner');\n",
              "      quickchartButtonEl.classList.add('colab-df-quickchart-complete');\n",
              "    }\n",
              "    (() => {\n",
              "      let quickchartButtonEl =\n",
              "        document.querySelector('#df-67005971-620f-4bbf-b969-fe7c9556dea2 button');\n",
              "      quickchartButtonEl.style.display =\n",
              "        google.colab.kernel.accessAllowed ? 'block' : 'none';\n",
              "    })();\n",
              "  </script>\n",
              "</div>\n",
              "\n",
              "    </div>\n",
              "  </div>\n"
            ]
          },
          "metadata": {},
          "execution_count": 46
        }
      ],
      "source": [
        "data = pd.read_csv('raw_test_bernie.csv')\n",
        "data.head()"
      ]
    },
    {
      "cell_type": "code",
      "source": [
        "# let's check the distribution of favor and against\n",
        "data.groupby('Stance').size()"
      ],
      "metadata": {
        "colab": {
          "base_uri": "https://localhost:8080/"
        },
        "id": "aamUrF4mNUpC",
        "outputId": "3fb4697d-dc03-4646-d08d-23d0c1c1bb1e"
      },
      "execution_count": 47,
      "outputs": [
        {
          "output_type": "execute_result",
          "data": {
            "text/plain": [
              "Stance\n",
              "AGAINST    292\n",
              "FAVOR      343\n",
              "dtype: int64"
            ]
          },
          "metadata": {},
          "execution_count": 47
        }
      ]
    },
    {
      "cell_type": "code",
      "execution_count": 48,
      "metadata": {
        "id": "_IiQdZzqssTG"
      },
      "outputs": [],
      "source": [
        "# get the documents to embed\n",
        "documents = data['Tweet'].values"
      ]
    },
    {
      "cell_type": "code",
      "execution_count": 49,
      "metadata": {
        "colab": {
          "base_uri": "https://localhost:8080/"
        },
        "id": "fVoyBixws0tf",
        "outputId": "4b52cfb7-a7db-4a63-93e7-a365a32a1244"
      },
      "outputs": [
        {
          "output_type": "stream",
          "name": "stdout",
          "text": [
            "time taken for 635: 58.617651\n"
          ]
        }
      ],
      "source": [
        "# embed them\n",
        "document_embeddings = embed(documents)"
      ]
    },
    {
      "cell_type": "code",
      "execution_count": 50,
      "metadata": {
        "id": "9araAHuXtCrh"
      },
      "outputs": [],
      "source": [
        "# define references\n",
        "pos_ref = 'I strongly agree with Bernie Sanders'\n",
        "neg_ref = 'I strongly disagree with Bernie Sanders'"
      ]
    },
    {
      "cell_type": "code",
      "execution_count": 51,
      "metadata": {
        "colab": {
          "base_uri": "https://localhost:8080/"
        },
        "id": "JCJYuo1WtcNQ",
        "outputId": "1827fee1-79a2-4677-9bd7-2a787c42ef88"
      },
      "outputs": [
        {
          "output_type": "stream",
          "name": "stdout",
          "text": [
            "time taken for 1: 0.049866\n",
            "time taken for 1: 0.048048\n"
          ]
        }
      ],
      "source": [
        "# find the similarity with the references\n",
        "pos_sims = find_similarity(document_embeddings, [pos_ref]) # since the reference is only one document\n",
        "neg_sims = find_similarity(document_embeddings, [neg_ref]) # since the reference is only one document"
      ]
    },
    {
      "cell_type": "code",
      "execution_count": 52,
      "metadata": {
        "id": "dai2M3nqtuhj"
      },
      "outputs": [],
      "source": [
        "data['pos_ref_sim'] = pos_sims\n",
        "data['neg_ref_sim'] = neg_sims"
      ]
    },
    {
      "cell_type": "code",
      "execution_count": 53,
      "metadata": {
        "colab": {
          "base_uri": "https://localhost:8080/"
        },
        "id": "5UALskD2uTCE",
        "outputId": "2704a2e5-f73a-4673-c054-42da066afe32"
      },
      "outputs": [
        {
          "output_type": "execute_result",
          "data": {
            "text/plain": [
              "array([[\"I agree. Have at it one point at a time. And BRING SOME SOURCES. Please. And thanks. I'm an open-minded #Bernie supporter. Are you?\",\n",
              "        'FAVOR', 0.6265785694122314],\n",
              "       ['Bernie Sanders: Bernie is always Bernie. Has always been Bernie. Will always be Bernie. Ill let yall decide if thats good or bad. His answer on socialism was awesome. Ive always like Bernie I just dont think Ill vote for him. He can still change my mind #DemocraticDebate',\n",
              "        'FAVOR', 0.6210218667984009],\n",
              "       ['I agree #MedicareForAll #GreenNewDeal vote for @BernieSanders to transform our society into a just society that can effectively curb the worst effects of climate change.',\n",
              "        'FAVOR', 0.584766685962677],\n",
              "       [\"I believe @BernieSanders is our best hope for a better future, and that he should run no matter what. If you agree, let's all tell #Bernie that we'll support him running an Independent ticket? RT, Like, and Comment what you think\",\n",
              "        'FAVOR', 0.5844830274581909],\n",
              "       [\"I would vote based on policies not supporters. #BernieSanders is fighting for all Americans including you. I'm fighting for you too. I hope you'll join us in fighting corporate socialism for the 1%. We desperately need #Medicare4All\",\n",
              "        'FAVOR', 0.5767756700515747],\n",
              "       ['You are actually correct for once. #BernieSanders Is a true Marxist, who believes in straight up communism..',\n",
              "        'AGAINST', 0.5589599609375],\n",
              "       ['We love hearing @BernieSanders shouting out the Sunrise Movement in the #DemDebate, but we love it even more when he demonstrates he has the leadership necessary to enact the #GreenNewDeal and enact it now.',\n",
              "        'FAVOR', 0.5531852841377258],\n",
              "       ['Im supporting @BernieSanders but @TulsiGabbard is speaking straight truth about the corrupt DNC being bought by Billionaire Republican Bloomberg.',\n",
              "        'FAVOR', 0.5475890636444092],\n",
              "       ['Perfect! And we need all progressive independents to vote for #Bernie as well! Thank you!',\n",
              "        'FAVOR', 0.5407453775405884],\n",
              "       ['Senator youre the furthest right Ill go. You have my vote. Im officially Medicare for all or bust. #Bernie',\n",
              "        'FAVOR', 0.5382152795791626]], dtype=object)"
            ]
          },
          "metadata": {},
          "execution_count": 53
        }
      ],
      "source": [
        "# inspect the most positively similar\n",
        "data.sort_values('pos_ref_sim', ascending = False).head(10)[['Tweet', 'Stance', 'pos_ref_sim']].values"
      ]
    },
    {
      "cell_type": "code",
      "execution_count": 54,
      "metadata": {
        "colab": {
          "base_uri": "https://localhost:8080/"
        },
        "id": "x-xOsjgcus5t",
        "outputId": "58d83cdf-29d2-455f-c282-0057d4ed7955"
      },
      "outputs": [
        {
          "output_type": "execute_result",
          "data": {
            "text/plain": [
              "array([['Bernie Sanders: Bernie is always Bernie. Has always been Bernie. Will always be Bernie. Ill let yall decide if thats good or bad. His answer on socialism was awesome. Ive always like Bernie I just dont think Ill vote for him. He can still change my mind #DemocraticDebate',\n",
              "        'FAVOR', 0.6353832483291626],\n",
              "       [\"I can't seem to recall Bernie ever telling people who disagree with him to vote for someone else. I think it's because Bernie isn't just fighting for his supporters. He's fighting for everyone and that includes those who disagree with him.\",\n",
              "        'AGAINST', 0.5637590885162354],\n",
              "       ['Young people liking Comrade Bernie is really inflated Many seriously do not like nor trust Bernie',\n",
              "        'AGAINST', 0.5473041534423828],\n",
              "       ['How about we start with honesty? #BernieSanders is considered the most honest and trustworthy. He has been consistent throughout his career. The other candidates have issues with the truth, have been less compassionate, and sadly tend to vote away from progress.',\n",
              "        'FAVOR', 0.5459276437759399],\n",
              "       [\"Fantastic piece. Finally someone in the MSM is clearly, and fairly outlining the differences between Warren, and Sanders. And this was fairly light on criticism of either. This merely reinforces why I'm going to vote for Bernie Sanders\",\n",
              "        'FAVOR', 0.5437183380126953],\n",
              "       [\"This is a graph from 2016. #FactsMatter hey I really dislike Bernie Sanders, guess what Dems if he is the nominee. I'll show up vote for the Democrat because I'm party loyal. A liberal is far better than what any republican is. Liberal causes depend on Dem take over #Election2020\",\n",
              "        'AGAINST', 0.5382736325263977],\n",
              "       ['You are actually correct for once. #BernieSanders Is a true Marxist, who believes in straight up communism..',\n",
              "        'AGAINST', 0.532346248626709],\n",
              "       ['#BernieSanders says he wants to talk the \"issues\" meanwhile he welcomes the support of ostentatious twitter trolls. C\\'mon dude.',\n",
              "        'AGAINST', 0.5300368666648865],\n",
              "       ['Im supporting @BernieSanders but @TulsiGabbard is speaking straight truth about the corrupt DNC being bought by Billionaire Republican Bloomberg.',\n",
              "        'FAVOR', 0.5247128009796143],\n",
              "       [\"Bernie Sanders listens. That's what leaders should do. I'm tired of leaders who dictate to us what their ideals are and what our ideals should be. Sanders hears what we have to say and his policies are based upon our input. The system is broken; we can fix it.\",\n",
              "        'FAVOR', 0.5229544043540955]], dtype=object)"
            ]
          },
          "metadata": {},
          "execution_count": 54
        }
      ],
      "source": [
        "# inspect the most negatively similar\n",
        "data.sort_values('neg_ref_sim', ascending = False).head(10)[['Tweet', 'Stance', 'neg_ref_sim']].values"
      ]
    },
    {
      "cell_type": "code",
      "execution_count": 55,
      "metadata": {
        "colab": {
          "base_uri": "https://localhost:8080/",
          "height": 415
        },
        "id": "PhBOIPVk2ZqY",
        "outputId": "54b7bd25-3005-40d5-dc21-53a06b859652"
      },
      "outputs": [
        {
          "output_type": "display_data",
          "data": {
            "text/plain": [
              "<Figure size 600x400 with 2 Axes>"
            ],
            "image/png": "[encoded data removed]"
          },
          "metadata": {}
        }
      ],
      "source": [
        "# let's look at the distribution of similarities\n",
        "plot_sim_dist(data, dims = ['pos_ref_sim', 'neg_ref_sim'])"
      ]
    },
    {
      "cell_type": "markdown",
      "metadata": {
        "id": "hm4Oc2xswF1l"
      },
      "source": [
        "Let's look at this more quantitatively. First, we will encode the stance labels so that we can find correlations with the similarity scores."
      ]
    },
    {
      "cell_type": "code",
      "execution_count": 56,
      "metadata": {
        "colab": {
          "base_uri": "https://localhost:8080/",
          "height": 206
        },
        "id": "8OdILXoJvXK5",
        "outputId": "2b1de3a4-34d5-41ee-95d3-3d7c68331351"
      },
      "outputs": [
        {
          "output_type": "execute_result",
          "data": {
            "text/plain": [
              "                                               Tweet          Target  Stance  \\\n",
              "0  #IEndorseBernie for tons of reasons, but this ...  Bernie Sanders       1   \n",
              "1  A big problem w/#Bernie left is not only preoc...  Bernie Sanders       0   \n",
              "2  This poll is not reflecting anything: \"age was...  Bernie Sanders       0   \n",
              "3  So proud how @BernieSanders is shedding light ...  Bernie Sanders       1   \n",
              "4  According to media bias fact checker, you have...  Bernie Sanders       1   \n",
              "\n",
              "   pos_ref_sim  neg_ref_sim  \n",
              "0     0.341556     0.360577  \n",
              "1     0.299962     0.346068  \n",
              "2     0.269229     0.315527  \n",
              "3     0.391091     0.414384  \n",
              "4     0.235165     0.287066  "
            ],
            "text/html": [
              "\n",
              "  <div id=\"df-22ce2e2b-23f5-4333-9634-41cfa5847931\" class=\"colab-df-container\">\n",
              "    <div>\n",
              "<style scoped>\n",
              "    .dataframe tbody tr th:only-of-type {\n",
              "        vertical-align: middle;\n",
              "    }\n",
              "\n",
              "    .dataframe tbody tr th {\n",
              "        vertical-align: top;\n",
              "    }\n",
              "\n",
              "    .dataframe thead th {\n",
              "        text-align: right;\n",
              "    }\n",
              "</style>\n",
              "<table border=\"1\" class=\"dataframe\">\n",
              "  <thead>\n",
              "    <tr style=\"text-align: right;\">\n",
              "      <th></th>\n",
              "      <th>Tweet</th>\n",
              "      <th>Target</th>\n",
              "      <th>Stance</th>\n",
              "      <th>pos_ref_sim</th>\n",
              "      <th>neg_ref_sim</th>\n",
              "    </tr>\n",
              "  </thead>\n",
              "  <tbody>\n",
              "    <tr>\n",
              "      <th>0</th>\n",
              "      <td>#IEndorseBernie for tons of reasons, but this ...</td>\n",
              "      <td>Bernie Sanders</td>\n",
              "      <td>1</td>\n",
              "      <td>0.341556</td>\n",
              "      <td>0.360577</td>\n",
              "    </tr>\n",
              "    <tr>\n",
              "      <th>1</th>\n",
              "      <td>A big problem w/#Bernie left is not only preoc...</td>\n",
              "      <td>Bernie Sanders</td>\n",
              "      <td>0</td>\n",
              "      <td>0.299962</td>\n",
              "      <td>0.346068</td>\n",
              "    </tr>\n",
              "    <tr>\n",
              "      <th>2</th>\n",
              "      <td>This poll is not reflecting anything: \"age was...</td>\n",
              "      <td>Bernie Sanders</td>\n",
              "      <td>0</td>\n",
              "      <td>0.269229</td>\n",
              "      <td>0.315527</td>\n",
              "    </tr>\n",
              "    <tr>\n",
              "      <th>3</th>\n",
              "      <td>So proud how @BernieSanders is shedding light ...</td>\n",
              "      <td>Bernie Sanders</td>\n",
              "      <td>1</td>\n",
              "      <td>0.391091</td>\n",
              "      <td>0.414384</td>\n",
              "    </tr>\n",
              "    <tr>\n",
              "      <th>4</th>\n",
              "      <td>According to media bias fact checker, you have...</td>\n",
              "      <td>Bernie Sanders</td>\n",
              "      <td>1</td>\n",
              "      <td>0.235165</td>\n",
              "      <td>0.287066</td>\n",
              "    </tr>\n",
              "  </tbody>\n",
              "</table>\n",
              "</div>\n",
              "    <div class=\"colab-df-buttons\">\n",
              "\n",
              "  <div class=\"colab-df-container\">\n",
              "    <button class=\"colab-df-convert\" onclick=\"convertToInteractive('df-22ce2e2b-23f5-4333-9634-41cfa5847931')\"\n",
              "            title=\"Convert this dataframe to an interactive table.\"\n",
              "            style=\"display:none;\">\n",
              "\n",
              "  <svg xmlns=\"http://www.w3.org/2000/svg\" height=\"24px\" viewBox=\"0 -960 960 960\">\n",
              "    <path d=\"M120-120v-720h720v720H120Zm60-500h600v-160H180v160Zm220 220h160v-160H400v160Zm0 220h160v-160H400v160ZM180-400h160v-160H180v160Zm440 0h160v-160H620v160ZM180-180h160v-160H180v160Zm440 0h160v-160H620v160Z\"/>\n",
              "  </svg>\n",
              "    </button>\n",
              "\n",
              "  <style>\n",
              "    .colab-df-container {\n",
              "      display:flex;\n",
              "      gap: 12px;\n",
              "    }\n",
              "\n",
              "    .colab-df-convert {\n",
              "      background-color: #E8F0FE;\n",
              "      border: none;\n",
              "      border-radius: 50%;\n",
              "      cursor: pointer;\n",
              "      display: none;\n",
              "      fill: #1967D2;\n",
              "      height: 32px;\n",
              "      padding: 0 0 0 0;\n",
              "      width: 32px;\n",
              "    }\n",
              "\n",
              "    .colab-df-convert:hover {\n",
              "      background-color: #E2EBFA;\n",
              "      box-shadow: 0px 1px 2px rgba(60, 64, 67, 0.3), 0px 1px 3px 1px rgba(60, 64, 67, 0.15);\n",
              "      fill: #174EA6;\n",
              "    }\n",
              "\n",
              "    .colab-df-buttons div {\n",
              "      margin-bottom: 4px;\n",
              "    }\n",
              "\n",
              "    [theme=dark] .colab-df-convert {\n",
              "      background-color: #3B4455;\n",
              "      fill: #D2E3FC;\n",
              "    }\n",
              "\n",
              "    [theme=dark] .colab-df-convert:hover {\n",
              "      background-color: #434B5C;\n",
              "      box-shadow: 0px 1px 3px 1px rgba(0, 0, 0, 0.15);\n",
              "      filter: drop-shadow(0px 1px 2px rgba(0, 0, 0, 0.3));\n",
              "      fill: #FFFFFF;\n",
              "    }\n",
              "  </style>\n",
              "\n",
              "    <script>\n",
              "      const buttonEl =\n",
              "        document.querySelector('#df-22ce2e2b-23f5-4333-9634-41cfa5847931 button.colab-df-convert');\n",
              "      buttonEl.style.display =\n",
              "        google.colab.kernel.accessAllowed ? 'block' : 'none';\n",
              "\n",
              "      async function convertToInteractive(key) {\n",
              "        const element = document.querySelector('#df-22ce2e2b-23f5-4333-9634-41cfa5847931');\n",
              "        const dataTable =\n",
              "          await google.colab.kernel.invokeFunction('convertToInteractive',\n",
              "                                                    [key], {});\n",
              "        if (!dataTable) return;\n",
              "\n",
              "        const docLinkHtml = 'Like what you see? Visit the ' +\n",
              "          '<a target=\"_blank\" href=https://colab.research.google.com/notebooks/data_table.ipynb>data table notebook</a>'\n",
              "          + ' to learn more about interactive tables.';\n",
              "        element.innerHTML = '';\n",
              "        dataTable['output_type'] = 'display_data';\n",
              "        await google.colab.output.renderOutput(dataTable, element);\n",
              "        const docLink = document.createElement('div');\n",
              "        docLink.innerHTML = docLinkHtml;\n",
              "        element.appendChild(docLink);\n",
              "      }\n",
              "    </script>\n",
              "  </div>\n",
              "\n",
              "\n",
              "<div id=\"df-e41841d6-30d4-4b00-bb00-3b0107f6576f\">\n",
              "  <button class=\"colab-df-quickchart\" onclick=\"quickchart('df-e41841d6-30d4-4b00-bb00-3b0107f6576f')\"\n",
              "            title=\"Suggest charts\"\n",
              "            style=\"display:none;\">\n",
              "\n",
              "<svg xmlns=\"http://www.w3.org/2000/svg\" height=\"24px\"viewBox=\"0 0 24 24\"\n",
              "     width=\"24px\">\n",
              "    <g>\n",
              "        <path d=\"M19 3H5c-1.1 0-2 .9-2 2v14c0 1.1.9 2 2 2h14c1.1 0 2-.9 2-2V5c0-1.1-.9-2-2-2zM9 17H7v-7h2v7zm4 0h-2V7h2v10zm4 0h-2v-4h2v4z\"/>\n",
              "    </g>\n",
              "</svg>\n",
              "  </button>\n",
              "\n",
              "<style>\n",
              "  .colab-df-quickchart {\n",
              "      --bg-color: #E8F0FE;\n",
              "      --fill-color: #1967D2;\n",
              "      --hover-bg-color: #E2EBFA;\n",
              "      --hover-fill-color: #174EA6;\n",
              "      --disabled-fill-color: #AAA;\n",
              "      --disabled-bg-color: #DDD;\n",
              "  }\n",
              "\n",
              "  [theme=dark] .colab-df-quickchart {\n",
              "      --bg-color: #3B4455;\n",
              "      --fill-color: #D2E3FC;\n",
              "      --hover-bg-color: #434B5C;\n",
              "      --hover-fill-color: #FFFFFF;\n",
              "      --disabled-bg-color: #3B4455;\n",
              "      --disabled-fill-color: #666;\n",
              "  }\n",
              "\n",
              "  .colab-df-quickchart {\n",
              "    background-color: var(--bg-color);\n",
              "    border: none;\n",
              "    border-radius: 50%;\n",
              "    cursor: pointer;\n",
              "    display: none;\n",
              "    fill: var(--fill-color);\n",
              "    height: 32px;\n",
              "    padding: 0;\n",
              "    width: 32px;\n",
              "  }\n",
              "\n",
              "  .colab-df-quickchart:hover {\n",
              "    background-color: var(--hover-bg-color);\n",
              "    box-shadow: 0 1px 2px rgba(60, 64, 67, 0.3), 0 1px 3px 1px rgba(60, 64, 67, 0.15);\n",
              "    fill: var(--button-hover-fill-color);\n",
              "  }\n",
              "\n",
              "  .colab-df-quickchart-complete:disabled,\n",
              "  .colab-df-quickchart-complete:disabled:hover {\n",
              "    background-color: var(--disabled-bg-color);\n",
              "    fill: var(--disabled-fill-color);\n",
              "    box-shadow: none;\n",
              "  }\n",
              "\n",
              "  .colab-df-spinner {\n",
              "    border: 2px solid var(--fill-color);\n",
              "    border-color: transparent;\n",
              "    border-bottom-color: var(--fill-color);\n",
              "    animation:\n",
              "      spin 1s steps(1) infinite;\n",
              "  }\n",
              "\n",
              "  @keyframes spin {\n",
              "    0% {\n",
              "      border-color: transparent;\n",
              "      border-bottom-color: var(--fill-color);\n",
              "      border-left-color: var(--fill-color);\n",
              "    }\n",
              "    20% {\n",
              "      border-color: transparent;\n",
              "      border-left-color: var(--fill-color);\n",
              "      border-top-color: var(--fill-color);\n",
              "    }\n",
              "    30% {\n",
              "      border-color: transparent;\n",
              "      border-left-color: var(--fill-color);\n",
              "      border-top-color: var(--fill-color);\n",
              "      border-right-color: var(--fill-color);\n",
              "    }\n",
              "    40% {\n",
              "      border-color: transparent;\n",
              "      border-right-color: var(--fill-color);\n",
              "      border-top-color: var(--fill-color);\n",
              "    }\n",
              "    60% {\n",
              "      border-color: transparent;\n",
              "      border-right-color: var(--fill-color);\n",
              "    }\n",
              "    80% {\n",
              "      border-color: transparent;\n",
              "      border-right-color: var(--fill-color);\n",
              "      border-bottom-color: var(--fill-color);\n",
              "    }\n",
              "    90% {\n",
              "      border-color: transparent;\n",
              "      border-bottom-color: var(--fill-color);\n",
              "    }\n",
              "  }\n",
              "</style>\n",
              "\n",
              "  <script>\n",
              "    async function quickchart(key) {\n",
              "      const quickchartButtonEl =\n",
              "        document.querySelector('#' + key + ' button');\n",
              "      quickchartButtonEl.disabled = true;  // To prevent multiple clicks.\n",
              "      quickchartButtonEl.classList.add('colab-df-spinner');\n",
              "      try {\n",
              "        const charts = await google.colab.kernel.invokeFunction(\n",
              "            'suggestCharts', [key], {});\n",
              "      } catch (error) {\n",
              "        console.error('Error during call to suggestCharts:', error);\n",
              "      }\n",
              "      quickchartButtonEl.classList.remove('colab-df-spinner');\n",
              "      quickchartButtonEl.classList.add('colab-df-quickchart-complete');\n",
              "    }\n",
              "    (() => {\n",
              "      let quickchartButtonEl =\n",
              "        document.querySelector('#df-e41841d6-30d4-4b00-bb00-3b0107f6576f button');\n",
              "      quickchartButtonEl.style.display =\n",
              "        google.colab.kernel.accessAllowed ? 'block' : 'none';\n",
              "    })();\n",
              "  </script>\n",
              "</div>\n",
              "\n",
              "    </div>\n",
              "  </div>\n"
            ]
          },
          "metadata": {},
          "execution_count": 56
        }
      ],
      "source": [
        "# encode labels\n",
        "from sklearn.preprocessing import LabelEncoder\n",
        "le = LabelEncoder()\n",
        "le.fit(data['Stance'])\n",
        "data['Stance'] = le.transform(data['Stance'])\n",
        "data.head()"
      ]
    },
    {
      "cell_type": "markdown",
      "metadata": {
        "id": "Orft2SgixvXl"
      },
      "source": [
        "We would expect stance (1 = positive/favor) to be strongly correlated with the positive reference similarity. We would also expect the positive and negative reference similarity to be negatively correlated\n"
      ]
    },
    {
      "cell_type": "code",
      "execution_count": 57,
      "metadata": {
        "colab": {
          "base_uri": "https://localhost:8080/",
          "height": 198
        },
        "id": "bOKT0AYNw9vl",
        "outputId": "ae8a597e-6fb6-4260-8d79-42c1e5becbab"
      },
      "outputs": [
        {
          "output_type": "stream",
          "name": "stderr",
          "text": [
            "<ipython-input-57-ed27f7a9633f>:2: FutureWarning: The default value of numeric_only in DataFrame.corr is deprecated. In a future version, it will default to False. Select only valid columns or specify the value of numeric_only to silence this warning.\n",
            "  data.corr()\n"
          ]
        },
        {
          "output_type": "execute_result",
          "data": {
            "text/plain": [
              "               Stance  pos_ref_sim  neg_ref_sim\n",
              "Stance       1.000000     0.102166    -0.025077\n",
              "pos_ref_sim  0.102166     1.000000     0.902369\n",
              "neg_ref_sim -0.025077     0.902369     1.000000"
            ],
            "text/html": [
              "\n",
              "  <div id=\"df-ba5da1b4-e420-46a7-a2c0-f8c6856a375d\" class=\"colab-df-container\">\n",
              "    <div>\n",
              "<style scoped>\n",
              "    .dataframe tbody tr th:only-of-type {\n",
              "        vertical-align: middle;\n",
              "    }\n",
              "\n",
              "    .dataframe tbody tr th {\n",
              "        vertical-align: top;\n",
              "    }\n",
              "\n",
              "    .dataframe thead th {\n",
              "        text-align: right;\n",
              "    }\n",
              "</style>\n",
              "<table border=\"1\" class=\"dataframe\">\n",
              "  <thead>\n",
              "    <tr style=\"text-align: right;\">\n",
              "      <th></th>\n",
              "      <th>Stance</th>\n",
              "      <th>pos_ref_sim</th>\n",
              "      <th>neg_ref_sim</th>\n",
              "    </tr>\n",
              "  </thead>\n",
              "  <tbody>\n",
              "    <tr>\n",
              "      <th>Stance</th>\n",
              "      <td>1.000000</td>\n",
              "      <td>0.102166</td>\n",
              "      <td>-0.025077</td>\n",
              "    </tr>\n",
              "    <tr>\n",
              "      <th>pos_ref_sim</th>\n",
              "      <td>0.102166</td>\n",
              "      <td>1.000000</td>\n",
              "      <td>0.902369</td>\n",
              "    </tr>\n",
              "    <tr>\n",
              "      <th>neg_ref_sim</th>\n",
              "      <td>-0.025077</td>\n",
              "      <td>0.902369</td>\n",
              "      <td>1.000000</td>\n",
              "    </tr>\n",
              "  </tbody>\n",
              "</table>\n",
              "</div>\n",
              "    <div class=\"colab-df-buttons\">\n",
              "\n",
              "  <div class=\"colab-df-container\">\n",
              "    <button class=\"colab-df-convert\" onclick=\"convertToInteractive('df-ba5da1b4-e420-46a7-a2c0-f8c6856a375d')\"\n",
              "            title=\"Convert this dataframe to an interactive table.\"\n",
              "            style=\"display:none;\">\n",
              "\n",
              "  <svg xmlns=\"http://www.w3.org/2000/svg\" height=\"24px\" viewBox=\"0 -960 960 960\">\n",
              "    <path d=\"M120-120v-720h720v720H120Zm60-500h600v-160H180v160Zm220 220h160v-160H400v160Zm0 220h160v-160H400v160ZM180-400h160v-160H180v160Zm440 0h160v-160H620v160ZM180-180h160v-160H180v160Zm440 0h160v-160H620v160Z\"/>\n",
              "  </svg>\n",
              "    </button>\n",
              "\n",
              "  <style>\n",
              "    .colab-df-container {\n",
              "      display:flex;\n",
              "      gap: 12px;\n",
              "    }\n",
              "\n",
              "    .colab-df-convert {\n",
              "      background-color: #E8F0FE;\n",
              "      border: none;\n",
              "      border-radius: 50%;\n",
              "      cursor: pointer;\n",
              "      display: none;\n",
              "      fill: #1967D2;\n",
              "      height: 32px;\n",
              "      padding: 0 0 0 0;\n",
              "      width: 32px;\n",
              "    }\n",
              "\n",
              "    .colab-df-convert:hover {\n",
              "      background-color: #E2EBFA;\n",
              "      box-shadow: 0px 1px 2px rgba(60, 64, 67, 0.3), 0px 1px 3px 1px rgba(60, 64, 67, 0.15);\n",
              "      fill: #174EA6;\n",
              "    }\n",
              "\n",
              "    .colab-df-buttons div {\n",
              "      margin-bottom: 4px;\n",
              "    }\n",
              "\n",
              "    [theme=dark] .colab-df-convert {\n",
              "      background-color: #3B4455;\n",
              "      fill: #D2E3FC;\n",
              "    }\n",
              "\n",
              "    [theme=dark] .colab-df-convert:hover {\n",
              "      background-color: #434B5C;\n",
              "      box-shadow: 0px 1px 3px 1px rgba(0, 0, 0, 0.15);\n",
              "      filter: drop-shadow(0px 1px 2px rgba(0, 0, 0, 0.3));\n",
              "      fill: #FFFFFF;\n",
              "    }\n",
              "  </style>\n",
              "\n",
              "    <script>\n",
              "      const buttonEl =\n",
              "        document.querySelector('#df-ba5da1b4-e420-46a7-a2c0-f8c6856a375d button.colab-df-convert');\n",
              "      buttonEl.style.display =\n",
              "        google.colab.kernel.accessAllowed ? 'block' : 'none';\n",
              "\n",
              "      async function convertToInteractive(key) {\n",
              "        const element = document.querySelector('#df-ba5da1b4-e420-46a7-a2c0-f8c6856a375d');\n",
              "        const dataTable =\n",
              "          await google.colab.kernel.invokeFunction('convertToInteractive',\n",
              "                                                    [key], {});\n",
              "        if (!dataTable) return;\n",
              "\n",
              "        const docLinkHtml = 'Like what you see? Visit the ' +\n",
              "          '<a target=\"_blank\" href=https://colab.research.google.com/notebooks/data_table.ipynb>data table notebook</a>'\n",
              "          + ' to learn more about interactive tables.';\n",
              "        element.innerHTML = '';\n",
              "        dataTable['output_type'] = 'display_data';\n",
              "        await google.colab.output.renderOutput(dataTable, element);\n",
              "        const docLink = document.createElement('div');\n",
              "        docLink.innerHTML = docLinkHtml;\n",
              "        element.appendChild(docLink);\n",
              "      }\n",
              "    </script>\n",
              "  </div>\n",
              "\n",
              "\n",
              "<div id=\"df-bc09c26f-1500-43f3-bf58-ecd14b89bc9b\">\n",
              "  <button class=\"colab-df-quickchart\" onclick=\"quickchart('df-bc09c26f-1500-43f3-bf58-ecd14b89bc9b')\"\n",
              "            title=\"Suggest charts\"\n",
              "            style=\"display:none;\">\n",
              "\n",
              "<svg xmlns=\"http://www.w3.org/2000/svg\" height=\"24px\"viewBox=\"0 0 24 24\"\n",
              "     width=\"24px\">\n",
              "    <g>\n",
              "        <path d=\"M19 3H5c-1.1 0-2 .9-2 2v14c0 1.1.9 2 2 2h14c1.1 0 2-.9 2-2V5c0-1.1-.9-2-2-2zM9 17H7v-7h2v7zm4 0h-2V7h2v10zm4 0h-2v-4h2v4z\"/>\n",
              "    </g>\n",
              "</svg>\n",
              "  </button>\n",
              "\n",
              "<style>\n",
              "  .colab-df-quickchart {\n",
              "      --bg-color: #E8F0FE;\n",
              "      --fill-color: #1967D2;\n",
              "      --hover-bg-color: #E2EBFA;\n",
              "      --hover-fill-color: #174EA6;\n",
              "      --disabled-fill-color: #AAA;\n",
              "      --disabled-bg-color: #DDD;\n",
              "  }\n",
              "\n",
              "  [theme=dark] .colab-df-quickchart {\n",
              "      --bg-color: #3B4455;\n",
              "      --fill-color: #D2E3FC;\n",
              "      --hover-bg-color: #434B5C;\n",
              "      --hover-fill-color: #FFFFFF;\n",
              "      --disabled-bg-color: #3B4455;\n",
              "      --disabled-fill-color: #666;\n",
              "  }\n",
              "\n",
              "  .colab-df-quickchart {\n",
              "    background-color: var(--bg-color);\n",
              "    border: none;\n",
              "    border-radius: 50%;\n",
              "    cursor: pointer;\n",
              "    display: none;\n",
              "    fill: var(--fill-color);\n",
              "    height: 32px;\n",
              "    padding: 0;\n",
              "    width: 32px;\n",
              "  }\n",
              "\n",
              "  .colab-df-quickchart:hover {\n",
              "    background-color: var(--hover-bg-color);\n",
              "    box-shadow: 0 1px 2px rgba(60, 64, 67, 0.3), 0 1px 3px 1px rgba(60, 64, 67, 0.15);\n",
              "    fill: var(--button-hover-fill-color);\n",
              "  }\n",
              "\n",
              "  .colab-df-quickchart-complete:disabled,\n",
              "  .colab-df-quickchart-complete:disabled:hover {\n",
              "    background-color: var(--disabled-bg-color);\n",
              "    fill: var(--disabled-fill-color);\n",
              "    box-shadow: none;\n",
              "  }\n",
              "\n",
              "  .colab-df-spinner {\n",
              "    border: 2px solid var(--fill-color);\n",
              "    border-color: transparent;\n",
              "    border-bottom-color: var(--fill-color);\n",
              "    animation:\n",
              "      spin 1s steps(1) infinite;\n",
              "  }\n",
              "\n",
              "  @keyframes spin {\n",
              "    0% {\n",
              "      border-color: transparent;\n",
              "      border-bottom-color: var(--fill-color);\n",
              "      border-left-color: var(--fill-color);\n",
              "    }\n",
              "    20% {\n",
              "      border-color: transparent;\n",
              "      border-left-color: var(--fill-color);\n",
              "      border-top-color: var(--fill-color);\n",
              "    }\n",
              "    30% {\n",
              "      border-color: transparent;\n",
              "      border-left-color: var(--fill-color);\n",
              "      border-top-color: var(--fill-color);\n",
              "      border-right-color: var(--fill-color);\n",
              "    }\n",
              "    40% {\n",
              "      border-color: transparent;\n",
              "      border-right-color: var(--fill-color);\n",
              "      border-top-color: var(--fill-color);\n",
              "    }\n",
              "    60% {\n",
              "      border-color: transparent;\n",
              "      border-right-color: var(--fill-color);\n",
              "    }\n",
              "    80% {\n",
              "      border-color: transparent;\n",
              "      border-right-color: var(--fill-color);\n",
              "      border-bottom-color: var(--fill-color);\n",
              "    }\n",
              "    90% {\n",
              "      border-color: transparent;\n",
              "      border-bottom-color: var(--fill-color);\n",
              "    }\n",
              "  }\n",
              "</style>\n",
              "\n",
              "  <script>\n",
              "    async function quickchart(key) {\n",
              "      const quickchartButtonEl =\n",
              "        document.querySelector('#' + key + ' button');\n",
              "      quickchartButtonEl.disabled = true;  // To prevent multiple clicks.\n",
              "      quickchartButtonEl.classList.add('colab-df-spinner');\n",
              "      try {\n",
              "        const charts = await google.colab.kernel.invokeFunction(\n",
              "            'suggestCharts', [key], {});\n",
              "      } catch (error) {\n",
              "        console.error('Error during call to suggestCharts:', error);\n",
              "      }\n",
              "      quickchartButtonEl.classList.remove('colab-df-spinner');\n",
              "      quickchartButtonEl.classList.add('colab-df-quickchart-complete');\n",
              "    }\n",
              "    (() => {\n",
              "      let quickchartButtonEl =\n",
              "        document.querySelector('#df-bc09c26f-1500-43f3-bf58-ecd14b89bc9b button');\n",
              "      quickchartButtonEl.style.display =\n",
              "        google.colab.kernel.accessAllowed ? 'block' : 'none';\n",
              "    })();\n",
              "  </script>\n",
              "</div>\n",
              "\n",
              "    </div>\n",
              "  </div>\n"
            ]
          },
          "metadata": {},
          "execution_count": 57
        }
      ],
      "source": [
        "# find cross-correlations.\n",
        "data.corr()"
      ]
    },
    {
      "cell_type": "code",
      "execution_count": 58,
      "metadata": {
        "colab": {
          "base_uri": "https://localhost:8080/"
        },
        "id": "cLHLO8TSx6f9",
        "outputId": "38a9cdb3-c0ff-49ea-e700-53adbbbe2167"
      },
      "outputs": [
        {
          "output_type": "execute_result",
          "data": {
            "text/plain": [
              "PearsonRResult(statistic=0.1021656567411946, pvalue=0.009990301129295125)"
            ]
          },
          "metadata": {},
          "execution_count": 58
        }
      ],
      "source": [
        "# if we want to take a closer look with p-values\n",
        "from scipy.stats import pearsonr\n",
        "\n",
        "pearsonr(data['Stance'], data['pos_ref_sim'])"
      ]
    },
    {
      "cell_type": "code",
      "execution_count": 59,
      "metadata": {
        "colab": {
          "base_uri": "https://localhost:8080/"
        },
        "id": "48MqHUiSyrPa",
        "outputId": "9801fd2f-de98-4f90-eeb2-0f05bb1134ea"
      },
      "outputs": [
        {
          "output_type": "execute_result",
          "data": {
            "text/plain": [
              "PearsonRResult(statistic=0.9023685428679246, pvalue=1.4042616711804649e-233)"
            ]
          },
          "metadata": {},
          "execution_count": 59
        }
      ],
      "source": [
        "pearsonr(data['neg_ref_sim'], data['pos_ref_sim'])"
      ]
    },
    {
      "cell_type": "markdown",
      "metadata": {
        "id": "mXiQg39PyxaA"
      },
      "source": [
        "On the one hand, we see a small but significant correlation between positive stance and the positive reference similarity, but also a strong and significant relation between the positive and negative similarities.\n",
        "\n",
        "So, ultimately, while SBERT can detect some types of similarity, it's not very suitable for polarity."
      ]
    }
  ],
  "metadata": {
    "colab": {
      "provenance": []
    },
    "kernelspec": {
      "display_name": "Python 3",
      "name": "python3"
    },
    "language_info": {
      "name": "python"
    }
  },
  "nbformat": 4,
  "nbformat_minor": 0
}