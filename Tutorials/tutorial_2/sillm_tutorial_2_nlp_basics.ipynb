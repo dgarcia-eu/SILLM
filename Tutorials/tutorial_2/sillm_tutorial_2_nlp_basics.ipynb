{
 "cells": [
  {
   "cell_type": "markdown",
   "metadata": {
    "id": "XFSPFLe5Y7Kz"
   },
   "source": [
    "# SILLM Tutorial 2\n",
    "\n",
    "In this tutorial, we will do some basic old-fashioned NLP. Specifically:\n",
    "\n",
    "- we will explore lemmas of words\n",
    "- we will check out synsetsand how thesauri model word similarity\n",
    "- we will look into a popular feature representations of text: the Bag-of-Words (BoW) representation\n",
    "- we will train a text classifier\n",
    "- we will evaluate the classifier\n",
    "- we will do some language generation using language models"
   ]
  },
  {
   "cell_type": "code",
   "execution_count": 1,
   "metadata": {
    "id": "od-xEWgF_uT0"
   },
   "outputs": [],
   "source": [
    "import nltk"
   ]
  },
  {
   "cell_type": "markdown",
   "metadata": {
    "id": "I9nqXiIW_8fq"
   },
   "source": [
    "NLTK, or Natural Language Toolkit, is a Python package that you can use for NLP.\n",
    "https://www.nltk.org/"
   ]
  },
  {
   "cell_type": "code",
   "execution_count": 2,
   "metadata": {
    "id": "YV30BOtq__44"
   },
   "outputs": [],
   "source": [
    "import pandas as pd"
   ]
  },
  {
   "cell_type": "code",
   "execution_count": 3,
   "metadata": {
    "colab": {
     "base_uri": "https://localhost:8080/",
     "height": 424
    },
    "id": "jHyyR64LBE3O",
    "outputId": "9459e72f-2b5d-4646-e355-ff570cc0cbc0"
   },
   "outputs": [
    {
     "data": {
      "text/html": [
       "<div>\n",
       "<style scoped>\n",
       "    .dataframe tbody tr th:only-of-type {\n",
       "        vertical-align: middle;\n",
       "    }\n",
       "\n",
       "    .dataframe tbody tr th {\n",
       "        vertical-align: top;\n",
       "    }\n",
       "\n",
       "    .dataframe thead th {\n",
       "        text-align: right;\n",
       "    }\n",
       "</style>\n",
       "<table border=\"1\" class=\"dataframe\">\n",
       "  <thead>\n",
       "    <tr style=\"text-align: right;\">\n",
       "      <th></th>\n",
       "      <th>character</th>\n",
       "      <th>line</th>\n",
       "    </tr>\n",
       "  </thead>\n",
       "  <tbody>\n",
       "    <tr>\n",
       "      <th>0</th>\n",
       "      <td>Monica</td>\n",
       "      <td>There's nothing to tell! He's just some guy I...</td>\n",
       "    </tr>\n",
       "    <tr>\n",
       "      <th>1</th>\n",
       "      <td>Joey</td>\n",
       "      <td>C'mon  you're going out with the guy! There's...</td>\n",
       "    </tr>\n",
       "    <tr>\n",
       "      <th>2</th>\n",
       "      <td>Chandler</td>\n",
       "      <td>All right Joey  be nice.  So does he have a h...</td>\n",
       "    </tr>\n",
       "    <tr>\n",
       "      <th>3</th>\n",
       "      <td>Phoebe</td>\n",
       "      <td>Wait  does he eat chalk?</td>\n",
       "    </tr>\n",
       "    <tr>\n",
       "      <th>4</th>\n",
       "      <td>Phoebe</td>\n",
       "      <td>Just  'cause  I don't want her to go through ...</td>\n",
       "    </tr>\n",
       "    <tr>\n",
       "      <th>...</th>\n",
       "      <td>...</td>\n",
       "      <td>...</td>\n",
       "    </tr>\n",
       "    <tr>\n",
       "      <th>46509</th>\n",
       "      <td>Chandler</td>\n",
       "      <td>Oh  it's gonna be okay.</td>\n",
       "    </tr>\n",
       "    <tr>\n",
       "      <th>46510</th>\n",
       "      <td>Rachel</td>\n",
       "      <td>Do you guys have to go to the new house righ...</td>\n",
       "    </tr>\n",
       "    <tr>\n",
       "      <th>46511</th>\n",
       "      <td>Monica</td>\n",
       "      <td>We got some time.</td>\n",
       "    </tr>\n",
       "    <tr>\n",
       "      <th>46512</th>\n",
       "      <td>Rachel</td>\n",
       "      <td>Okay  should we get some coffee?</td>\n",
       "    </tr>\n",
       "    <tr>\n",
       "      <th>46513</th>\n",
       "      <td>Chandler</td>\n",
       "      <td>Sure. Where?</td>\n",
       "    </tr>\n",
       "  </tbody>\n",
       "</table>\n",
       "<p>46514 rows × 2 columns</p>\n",
       "</div>"
      ],
      "text/plain": [
       "      character                                               line\n",
       "0        Monica   There's nothing to tell! He's just some guy I...\n",
       "1          Joey   C'mon  you're going out with the guy! There's...\n",
       "2      Chandler   All right Joey  be nice.  So does he have a h...\n",
       "3        Phoebe                           Wait  does he eat chalk?\n",
       "4        Phoebe   Just  'cause  I don't want her to go through ...\n",
       "...         ...                                                ...\n",
       "46509  Chandler                            Oh  it's gonna be okay.\n",
       "46510    Rachel    Do you guys have to go to the new house righ...\n",
       "46511    Monica                                  We got some time.\n",
       "46512    Rachel                   Okay  should we get some coffee?\n",
       "46513  Chandler                                       Sure. Where?\n",
       "\n",
       "[46514 rows x 2 columns]"
      ]
     },
     "execution_count": 3,
     "metadata": {},
     "output_type": "execute_result"
    }
   ],
   "source": [
    "friends_data = pd.read_csv('FRIENDS.csv')\n",
    "friends_data"
   ]
  },
  {
   "cell_type": "markdown",
   "metadata": {
    "id": "Ki0VdOdqBZK9"
   },
   "source": [
    "## 1. Let's get the lemma forms of some of these.\n",
    "\n",
    "We will use wordnet for this. WordNet is a lexical database of semantic relations between words in more than 200 languages. WordNet links words into semantic relations including synonyms, hyponyms, and meronyms. More info: https://wordnet.princeton.edu/\n",
    "\n",
    "Wordnet is integrated into NLTK."
   ]
  },
  {
   "cell_type": "code",
   "execution_count": 4,
   "metadata": {
    "colab": {
     "base_uri": "https://localhost:8080/"
    },
    "id": "WiuXubJgBKdy",
    "outputId": "568c36b5-35a7-4a90-e52c-56eac46d5e20"
   },
   "outputs": [
    {
     "name": "stderr",
     "output_type": "stream",
     "text": [
      "[nltk_data] Downloading package punkt to /home/dgarcia/nltk_data...\n",
      "[nltk_data]   Package punkt is already up-to-date!\n",
      "[nltk_data] Downloading package wordnet to /home/dgarcia/nltk_data...\n",
      "[nltk_data]   Package wordnet is already up-to-date!\n"
     ]
    },
    {
     "data": {
      "text/plain": [
       "True"
      ]
     },
     "execution_count": 4,
     "metadata": {},
     "output_type": "execute_result"
    }
   ],
   "source": [
    "# for tokenization\n",
    "nltk.download('punkt')\n",
    "\n",
    "#for lemmatization\n",
    "from nltk.stem.wordnet import WordNetLemmatizer\n",
    "nltk.download('wordnet')"
   ]
  },
  {
   "cell_type": "code",
   "execution_count": 5,
   "metadata": {
    "colab": {
     "base_uri": "https://localhost:8080/"
    },
    "id": "4qOzaPuPC9Cj",
    "outputId": "11f4447b-d6fa-48d2-ca3f-ce3a41d744ba"
   },
   "outputs": [
    {
     "data": {
      "text/plain": [
       "array([\" There's nothing to tell! He's just some guy I work with!\",\n",
       "       \" C'mon  you're going out with the guy! There's gotta be something wrong with him!\",\n",
       "       ' All right Joey  be nice.  So does he have a hump? A hump and a hairpiece?',\n",
       "       ' Wait  does he eat chalk?',\n",
       "       \" Just  'cause  I don't want her to go through what I went through with Carl- oh!\",\n",
       "       \" Okay  everybody relax. This is not even a date. It's just two people going out to dinner and- not having sex.\",\n",
       "       ' Sounds like a date to me.',\n",
       "       \" Alright  so I'm back in high school  I'm standing in the middle of the cafeteria  and I realize I am totally naked.\",\n",
       "       \" Then I look down  and I realize there's a phone... there.\",\n",
       "       ' Instead of...?'], dtype=object)"
      ]
     },
     "execution_count": 5,
     "metadata": {},
     "output_type": "execute_result"
    }
   ],
   "source": [
    "# let's try this for the first 10 dialogues\n",
    "\n",
    "sentences = friends_data.head(10)['line'].values\n",
    "sentences"
   ]
  },
  {
   "cell_type": "code",
   "execution_count": 6,
   "metadata": {
    "id": "ei8Fn7uhC2zC"
   },
   "outputs": [],
   "source": [
    "lemmatizer = WordNetLemmatizer()\n",
    "\n",
    "corpus_lemma = []\n",
    "\n",
    "for sentence in sentences:\n",
    "    tokenized = nltk.word_tokenize(sentence)\n",
    "    lemmatized = [lemmatizer.lemmatize(word.lower()) for word in tokenized]\n",
    "    if lemmatized != []:\n",
    "        corpus_lemma.append(lemmatized)"
   ]
  },
  {
   "cell_type": "markdown",
   "metadata": {
    "id": "hAxUf3SoErWv"
   },
   "source": [
    "Inspect the results. Is everything as expected?"
   ]
  },
  {
   "cell_type": "code",
   "execution_count": 7,
   "metadata": {
    "colab": {
     "base_uri": "https://localhost:8080/"
    },
    "id": "RU8hLMdWFCKX",
    "outputId": "ff8305e1-dbc0-46e8-b1ec-1148150d05ae"
   },
   "outputs": [
    {
     "data": {
      "text/plain": [
       "(' Sounds like a date to me.', ['sound', 'like', 'a', 'date', 'to', 'me', '.'])"
      ]
     },
     "execution_count": 7,
     "metadata": {},
     "output_type": "execute_result"
    }
   ],
   "source": [
    "sentences[6], corpus_lemma[6]"
   ]
  },
  {
   "cell_type": "code",
   "execution_count": 8,
   "metadata": {
    "colab": {
     "base_uri": "https://localhost:8080/"
    },
    "id": "ad5rhQcsFTuk",
    "outputId": "7b80fc33-d585-416d-8d47-ed94c256f744"
   },
   "outputs": [
    {
     "data": {
      "text/plain": [
       "(' All right Joey  be nice.  So does he have a hump? A hump and a hairpiece?',\n",
       " ['all',\n",
       "  'right',\n",
       "  'joey',\n",
       "  'be',\n",
       "  'nice',\n",
       "  '.',\n",
       "  'so',\n",
       "  'doe',\n",
       "  'he',\n",
       "  'have',\n",
       "  'a',\n",
       "  'hump',\n",
       "  '?',\n",
       "  'a',\n",
       "  'hump',\n",
       "  'and',\n",
       "  'a',\n",
       "  'hairpiece',\n",
       "  '?'])"
      ]
     },
     "execution_count": 8,
     "metadata": {},
     "output_type": "execute_result"
    }
   ],
   "source": [
    "sentences[2], corpus_lemma[2]"
   ]
  },
  {
   "cell_type": "code",
   "execution_count": 9,
   "metadata": {
    "colab": {
     "base_uri": "https://localhost:8080/",
     "height": 35
    },
    "id": "tZThWejFDlo5",
    "outputId": "e9fb593d-9be6-4152-f81c-4ba7dfecadba"
   },
   "outputs": [
    {
     "data": {
      "text/plain": [
       "'doe'"
      ]
     },
     "execution_count": 9,
     "metadata": {},
     "output_type": "execute_result"
    }
   ],
   "source": [
    "lemmatizer.lemmatize('does') # is this right?"
   ]
  },
  {
   "cell_type": "code",
   "execution_count": 10,
   "metadata": {
    "colab": {
     "base_uri": "https://localhost:8080/",
     "height": 35
    },
    "id": "HePwf2bhEQGv",
    "outputId": "197389fe-6905-42b0-aa01-d27ab557cdc7"
   },
   "outputs": [
    {
     "data": {
      "text/plain": [
       "'singing'"
      ]
     },
     "execution_count": 10,
     "metadata": {},
     "output_type": "execute_result"
    }
   ],
   "source": [
    "lemmatizer.lemmatize('singing')"
   ]
  },
  {
   "cell_type": "markdown",
   "metadata": {
    "id": "Jj__Dit9Exze"
   },
   "source": [
    "Lemmatization depends on the part-of-speech of what is being lemmatized. You can also use wordnet to troubleshoot: http://wordnetweb.princeton.edu/perl/webwn?s=singing&sub=Search+WordNet&o2=&o0=1&o8=1&o1=1&o7=&o5=&o9=&o6=&o3=&o4=&h=00000"
   ]
  },
  {
   "cell_type": "markdown",
   "metadata": {
    "id": "m71JIQiOBjaH"
   },
   "source": [
    "## 2. Now, let's look at some synsets from NLTK\n",
    "\n",
    "Recall that WordNet is a lexical database of semantic relations between words that links words into semantic relations including synonyms, hyponyms, and meronyms. The synonyms are grouped into **synsets** with short definitions and usage examples.\n",
    "\n",
    "According to WordNet, a synset or synonym set is defined as a set of one or more synonyms that are interchangeable in some context without changing the truth value of the proposition in which they are embedded."
   ]
  },
  {
   "cell_type": "code",
   "execution_count": 11,
   "metadata": {
    "id": "H9q3g9R-Bofw"
   },
   "outputs": [],
   "source": [
    "from nltk.corpus import wordnet as wn"
   ]
  },
  {
   "cell_type": "code",
   "execution_count": 12,
   "metadata": {
    "colab": {
     "base_uri": "https://localhost:8080/"
    },
    "id": "q232P88BGI0E",
    "outputId": "ac034b74-d381-46d2-8ebc-802e55be19b9"
   },
   "outputs": [
    {
     "data": {
      "text/plain": [
       "[Synset('dog.n.01'),\n",
       " Synset('frump.n.01'),\n",
       " Synset('dog.n.03'),\n",
       " Synset('cad.n.01'),\n",
       " Synset('frank.n.02'),\n",
       " Synset('pawl.n.01'),\n",
       " Synset('andiron.n.01'),\n",
       " Synset('chase.v.01')]"
      ]
     },
     "execution_count": 12,
     "metadata": {},
     "output_type": "execute_result"
    }
   ],
   "source": [
    "wn.synsets('dog')"
   ]
  },
  {
   "cell_type": "code",
   "execution_count": 13,
   "metadata": {
    "colab": {
     "base_uri": "https://localhost:8080/"
    },
    "id": "mUTjroetGPSb",
    "outputId": "b8b6129a-36b7-4f57-e633-5916653ad9db"
   },
   "outputs": [
    {
     "data": {
      "text/plain": [
       "[Synset('chase.v.01')]"
      ]
     },
     "execution_count": 13,
     "metadata": {},
     "output_type": "execute_result"
    }
   ],
   "source": [
    "wn.synsets('dog', pos=wn.VERB)"
   ]
  },
  {
   "cell_type": "code",
   "execution_count": 14,
   "metadata": {
    "id": "ZsLnd9WTGRP0"
   },
   "outputs": [],
   "source": [
    "lemma_synsets = []\n",
    "for lemmatized in corpus_lemma:\n",
    "  lemma_synset = [wn.synsets(lemma) for lemma in lemmatized]\n",
    "  lemma_synsets.append(lemma_synset)"
   ]
  },
  {
   "cell_type": "code",
   "execution_count": 15,
   "metadata": {
    "colab": {
     "base_uri": "https://localhost:8080/"
    },
    "id": "LWzTH2UfGs_E",
    "outputId": "366e822e-ad84-49a1-9005-ae16e3ec9f13"
   },
   "outputs": [
    {
     "data": {
      "text/plain": [
       "('date',\n",
       " [Synset('date.n.01'),\n",
       "  Synset('date.n.02'),\n",
       "  Synset('date.n.03'),\n",
       "  Synset('date.n.04'),\n",
       "  Synset('date.n.05'),\n",
       "  Synset('date.n.06'),\n",
       "  Synset('date.n.07'),\n",
       "  Synset('date.n.08'),\n",
       "  Synset('date.v.01'),\n",
       "  Synset('date.v.02'),\n",
       "  Synset('date.v.03'),\n",
       "  Synset('go_steady.v.01'),\n",
       "  Synset('date.v.05')])"
      ]
     },
     "execution_count": 15,
     "metadata": {},
     "output_type": "execute_result"
    }
   ],
   "source": [
    "corpus_lemma[6][3], lemma_synsets[6][3]"
   ]
  },
  {
   "cell_type": "code",
   "execution_count": 16,
   "metadata": {
    "colab": {
     "base_uri": "https://localhost:8080/"
    },
    "id": "3f5mjkKUHES6",
    "outputId": "4487aed0-e21d-4fa6-af98-f0c1d27fb778"
   },
   "outputs": [
    {
     "data": {
      "text/plain": [
       "('nice',\n",
       " [Synset('nice.n.01'),\n",
       "  Synset('nice.a.01'),\n",
       "  Synset('decent.s.01'),\n",
       "  Synset('nice.s.03'),\n",
       "  Synset('dainty.s.04'),\n",
       "  Synset('courteous.s.01')])"
      ]
     },
     "execution_count": 16,
     "metadata": {},
     "output_type": "execute_result"
    }
   ],
   "source": [
    "corpus_lemma[2][4], lemma_synsets[2][4]"
   ]
  },
  {
   "cell_type": "markdown",
   "metadata": {
    "id": "ABR03g0WBpU4"
   },
   "source": [
    "## 3. Let's create a bag-of-words representation\n",
    "\n",
    "For this, we will use Scikit Learn, the standard Python Library for Machine Learning, at least for non-deep learning models. While DL models are much more popular now, Scikit Learn is still used for evaluation and splitting datasets.\n",
    "\n",
    "For getting a Bag-of-Words (BoW) representation, we will use the Count Vectorizer: https://scikit-learn.org/stable/modules/generated/sklearn.feature_extraction.text.CountVectorizer.html#sklearn.feature_extraction.text.CountVectorizer"
   ]
  },
  {
   "cell_type": "code",
   "execution_count": 17,
   "metadata": {
    "id": "a2Eo_J-zB3p9"
   },
   "outputs": [],
   "source": [
    "from sklearn.feature_extraction.text import CountVectorizer\n",
    "vectorizer = CountVectorizer() # initialize the vectorizer"
   ]
  },
  {
   "cell_type": "code",
   "execution_count": 18,
   "metadata": {
    "colab": {
     "base_uri": "https://localhost:8080/",
     "height": 75
    },
    "id": "GdANOqahJeDg",
    "outputId": "16f4d0ec-6659-41a9-fcdd-2967193b6832"
   },
   "outputs": [
    {
     "data": {
      "text/html": [
       "<style>#sk-container-id-1 {color: black;background-color: white;}#sk-container-id-1 pre{padding: 0;}#sk-container-id-1 div.sk-toggleable {background-color: white;}#sk-container-id-1 label.sk-toggleable__label {cursor: pointer;display: block;width: 100%;margin-bottom: 0;padding: 0.3em;box-sizing: border-box;text-align: center;}#sk-container-id-1 label.sk-toggleable__label-arrow:before {content: \"▸\";float: left;margin-right: 0.25em;color: #696969;}#sk-container-id-1 label.sk-toggleable__label-arrow:hover:before {color: black;}#sk-container-id-1 div.sk-estimator:hover label.sk-toggleable__label-arrow:before {color: black;}#sk-container-id-1 div.sk-toggleable__content {max-height: 0;max-width: 0;overflow: hidden;text-align: left;background-color: #f0f8ff;}#sk-container-id-1 div.sk-toggleable__content pre {margin: 0.2em;color: black;border-radius: 0.25em;background-color: #f0f8ff;}#sk-container-id-1 input.sk-toggleable__control:checked~div.sk-toggleable__content {max-height: 200px;max-width: 100%;overflow: auto;}#sk-container-id-1 input.sk-toggleable__control:checked~label.sk-toggleable__label-arrow:before {content: \"▾\";}#sk-container-id-1 div.sk-estimator input.sk-toggleable__control:checked~label.sk-toggleable__label {background-color: #d4ebff;}#sk-container-id-1 div.sk-label input.sk-toggleable__control:checked~label.sk-toggleable__label {background-color: #d4ebff;}#sk-container-id-1 input.sk-hidden--visually {border: 0;clip: rect(1px 1px 1px 1px);clip: rect(1px, 1px, 1px, 1px);height: 1px;margin: -1px;overflow: hidden;padding: 0;position: absolute;width: 1px;}#sk-container-id-1 div.sk-estimator {font-family: monospace;background-color: #f0f8ff;border: 1px dotted black;border-radius: 0.25em;box-sizing: border-box;margin-bottom: 0.5em;}#sk-container-id-1 div.sk-estimator:hover {background-color: #d4ebff;}#sk-container-id-1 div.sk-parallel-item::after {content: \"\";width: 100%;border-bottom: 1px solid gray;flex-grow: 1;}#sk-container-id-1 div.sk-label:hover label.sk-toggleable__label {background-color: #d4ebff;}#sk-container-id-1 div.sk-serial::before {content: \"\";position: absolute;border-left: 1px solid gray;box-sizing: border-box;top: 0;bottom: 0;left: 50%;z-index: 0;}#sk-container-id-1 div.sk-serial {display: flex;flex-direction: column;align-items: center;background-color: white;padding-right: 0.2em;padding-left: 0.2em;position: relative;}#sk-container-id-1 div.sk-item {position: relative;z-index: 1;}#sk-container-id-1 div.sk-parallel {display: flex;align-items: stretch;justify-content: center;background-color: white;position: relative;}#sk-container-id-1 div.sk-item::before, #sk-container-id-1 div.sk-parallel-item::before {content: \"\";position: absolute;border-left: 1px solid gray;box-sizing: border-box;top: 0;bottom: 0;left: 50%;z-index: -1;}#sk-container-id-1 div.sk-parallel-item {display: flex;flex-direction: column;z-index: 1;position: relative;background-color: white;}#sk-container-id-1 div.sk-parallel-item:first-child::after {align-self: flex-end;width: 50%;}#sk-container-id-1 div.sk-parallel-item:last-child::after {align-self: flex-start;width: 50%;}#sk-container-id-1 div.sk-parallel-item:only-child::after {width: 0;}#sk-container-id-1 div.sk-dashed-wrapped {border: 1px dashed gray;margin: 0 0.4em 0.5em 0.4em;box-sizing: border-box;padding-bottom: 0.4em;background-color: white;}#sk-container-id-1 div.sk-label label {font-family: monospace;font-weight: bold;display: inline-block;line-height: 1.2em;}#sk-container-id-1 div.sk-label-container {text-align: center;}#sk-container-id-1 div.sk-container {/* jupyter's `normalize.less` sets `[hidden] { display: none; }` but bootstrap.min.css set `[hidden] { display: none !important; }` so we also need the `!important` here to be able to override the default hidden behavior on the sphinx rendered scikit-learn.org. See: https://github.com/scikit-learn/scikit-learn/issues/21755 */display: inline-block !important;position: relative;}#sk-container-id-1 div.sk-text-repr-fallback {display: none;}</style><div id=\"sk-container-id-1\" class=\"sk-top-container\"><div class=\"sk-text-repr-fallback\"><pre>CountVectorizer()</pre><b>In a Jupyter environment, please rerun this cell to show the HTML representation or trust the notebook. <br />On GitHub, the HTML representation is unable to render, please try loading this page with nbviewer.org.</b></div><div class=\"sk-container\" hidden><div class=\"sk-item\"><div class=\"sk-estimator sk-toggleable\"><input class=\"sk-toggleable__control sk-hidden--visually\" id=\"sk-estimator-id-1\" type=\"checkbox\" checked><label for=\"sk-estimator-id-1\" class=\"sk-toggleable__label sk-toggleable__label-arrow\">CountVectorizer</label><div class=\"sk-toggleable__content\"><pre>CountVectorizer()</pre></div></div></div></div></div>"
      ],
      "text/plain": [
       "CountVectorizer()"
      ]
     },
     "execution_count": 18,
     "metadata": {},
     "output_type": "execute_result"
    }
   ],
   "source": [
    "# get all the dialogues\n",
    "sentences = friends_data['line'].values\n",
    "\n",
    "# create the representation\n",
    "vectorizer.fit(sentences)"
   ]
  },
  {
   "cell_type": "code",
   "execution_count": 19,
   "metadata": {
    "colab": {
     "base_uri": "https://localhost:8080/"
    },
    "id": "UxbJZlvNJ1SX",
    "outputId": "4c43bcc8-a45f-4c3f-d58a-dba862c058f6"
   },
   "outputs": [
    {
     "data": {
      "text/plain": [
       "12844"
      ]
     },
     "execution_count": 19,
     "metadata": {},
     "output_type": "execute_result"
    }
   ],
   "source": [
    "len(vectorizer.vocabulary_)"
   ]
  },
  {
   "cell_type": "code",
   "execution_count": 20,
   "metadata": {
    "colab": {
     "base_uri": "https://localhost:8080/"
    },
    "id": "uJNu4n43J1hw",
    "outputId": "ee1df9c4-3b16-42ca-b25c-498730f97bfc"
   },
   "outputs": [
    {
     "data": {
      "text/plain": [
       "3320"
      ]
     },
     "execution_count": 20,
     "metadata": {},
     "output_type": "execute_result"
    }
   ],
   "source": [
    "vectorizer.vocabulary_['does']"
   ]
  },
  {
   "cell_type": "code",
   "execution_count": 21,
   "metadata": {
    "colab": {
     "base_uri": "https://localhost:8080/"
    },
    "id": "gflooihpJ1lS",
    "outputId": "ce849912-1ff3-4095-9e0b-221ff5650b3f"
   },
   "outputs": [
    {
     "data": {
      "text/plain": [
       "(46514, 12844)"
      ]
     },
     "execution_count": 21,
     "metadata": {},
     "output_type": "execute_result"
    }
   ],
   "source": [
    "bag_of_words = vectorizer.transform(sentences)\n",
    "bag_of_words.shape # why 46514?"
   ]
  },
  {
   "cell_type": "code",
   "execution_count": 22,
   "metadata": {
    "colab": {
     "base_uri": "https://localhost:8080/"
    },
    "id": "-DtXnOaAKviz",
    "outputId": "ad258755-0541-448b-8838-1161c61e5e09"
   },
   "outputs": [
    {
     "data": {
      "text/plain": [
       "array([[0, 0, 0, ..., 0, 0, 0],\n",
       "       [0, 0, 0, ..., 0, 0, 0],\n",
       "       [0, 0, 0, ..., 0, 0, 0],\n",
       "       ...,\n",
       "       [0, 0, 0, ..., 0, 0, 0],\n",
       "       [0, 0, 0, ..., 0, 0, 0],\n",
       "       [0, 0, 0, ..., 0, 0, 0]])"
      ]
     },
     "execution_count": 22,
     "metadata": {},
     "output_type": "execute_result"
    }
   ],
   "source": [
    "bag_of_words.toarray() # a lot of this empty"
   ]
  },
  {
   "cell_type": "markdown",
   "metadata": {
    "id": "qoSkA3Y2B4QD"
   },
   "source": [
    "## 4. Let's train a classifier to detect who says a particular dialogue using the BoW representation\n",
    "\n",
    "Since this is a supervised problem, we need to split our data into training and test sets."
   ]
  },
  {
   "cell_type": "markdown",
   "metadata": {
    "id": "BkF1oxDZNV6y"
   },
   "source": [
    "### Step 1: Build the BoW Representation"
   ]
  },
  {
   "cell_type": "code",
   "execution_count": 23,
   "metadata": {
    "id": "laWlSUTrCEMy"
   },
   "outputs": [],
   "source": [
    "from sklearn.model_selection import train_test_split"
   ]
  },
  {
   "cell_type": "code",
   "execution_count": 24,
   "metadata": {
    "id": "OStQfIjKLGzP"
   },
   "outputs": [],
   "source": [
    "train, test = train_test_split(friends_data, test_size = 0.3)"
   ]
  },
  {
   "cell_type": "code",
   "execution_count": 25,
   "metadata": {
    "id": "jM0KNV5ILeBO"
   },
   "outputs": [],
   "source": [
    "X_train = train['line'].values\n",
    "y_train = train['character'].values\n",
    "X_test = test['line'].values\n",
    "y_test = test['character'].values"
   ]
  },
  {
   "cell_type": "code",
   "execution_count": 26,
   "metadata": {
    "id": "NP2blrUyLISf"
   },
   "outputs": [],
   "source": [
    "vectorizer = CountVectorizer()\n",
    "X_train_v = vectorizer.fit_transform(X_train)"
   ]
  },
  {
   "cell_type": "markdown",
   "metadata": {
    "id": "BcwJhMxOMeEx"
   },
   "source": [
    "**fit**: Learn a vocabulary dictionary of all tokens in the raw documents.\n",
    "\n",
    "**transform**: Transform documents to document-term matrix."
   ]
  },
  {
   "cell_type": "code",
   "execution_count": 27,
   "metadata": {
    "id": "t20iY2McLvG2"
   },
   "outputs": [],
   "source": [
    "X_test_v = vectorizer.transform(X_test) # why transform and not fit_transform?"
   ]
  },
  {
   "cell_type": "markdown",
   "metadata": {
    "id": "nLsPNQTvWxTs"
   },
   "source": [
    "Count Vectorizer has some other parameters such as whether it should consider case or not, whether it should remove stopwords or not.\n",
    "\n",
    "One of the most important parameters for this use case is the ngram_range which determines which types of n-grams will be modeled."
   ]
  },
  {
   "cell_type": "markdown",
   "metadata": {
    "id": "-V8DN4WtNbpb"
   },
   "source": [
    "### Step 2: Classify\n",
    "\n",
    "We will use a Naive Bayes Classifier."
   ]
  },
  {
   "cell_type": "code",
   "execution_count": 28,
   "metadata": {
    "id": "DhpLz2LVMMN4"
   },
   "outputs": [],
   "source": [
    "from sklearn.naive_bayes import GaussianNB\n",
    "gnb = GaussianNB() # initialize the classifier"
   ]
  },
  {
   "cell_type": "code",
   "execution_count": 29,
   "metadata": {
    "id": "JvRNhB8XMNDS"
   },
   "outputs": [],
   "source": [
    " # fit the classifier, i.e., learn the parameters\n",
    "clf = gnb.fit(X_train_v.toarray(), y_train)"
   ]
  },
  {
   "cell_type": "code",
   "execution_count": 30,
   "metadata": {
    "id": "wcumDsJOO5lm"
   },
   "outputs": [],
   "source": [
    "# predict the labels of the test set\n",
    "y_pred = clf.predict(X_test_v.toarray())"
   ]
  },
  {
   "cell_type": "markdown",
   "metadata": {
    "id": "2FHQ4OKNPLMq"
   },
   "source": [
    "Let's have a cursory look at the results"
   ]
  },
  {
   "cell_type": "code",
   "execution_count": 31,
   "metadata": {
    "colab": {
     "base_uri": "https://localhost:8080/",
     "height": 206
    },
    "id": "kL81nj5FPIq1",
    "outputId": "89245f1d-5029-47d7-c629-e58e64236ff2"
   },
   "outputs": [
    {
     "data": {
      "text/html": [
       "<div>\n",
       "<style scoped>\n",
       "    .dataframe tbody tr th:only-of-type {\n",
       "        vertical-align: middle;\n",
       "    }\n",
       "\n",
       "    .dataframe tbody tr th {\n",
       "        vertical-align: top;\n",
       "    }\n",
       "\n",
       "    .dataframe thead th {\n",
       "        text-align: right;\n",
       "    }\n",
       "</style>\n",
       "<table border=\"1\" class=\"dataframe\">\n",
       "  <thead>\n",
       "    <tr style=\"text-align: right;\">\n",
       "      <th></th>\n",
       "      <th>0</th>\n",
       "      <th>1</th>\n",
       "      <th>2</th>\n",
       "    </tr>\n",
       "  </thead>\n",
       "  <tbody>\n",
       "    <tr>\n",
       "      <th>0</th>\n",
       "      <td>Yeah  I guess. It's just parents  after a cer...</td>\n",
       "      <td>Monica</td>\n",
       "      <td>Joey</td>\n",
       "    </tr>\n",
       "    <tr>\n",
       "      <th>1</th>\n",
       "      <td>Okay  Phoebe  y'know what? That-that’s it  th...</td>\n",
       "      <td>Joey</td>\n",
       "      <td>Monica</td>\n",
       "    </tr>\n",
       "    <tr>\n",
       "      <th>2</th>\n",
       "      <td>No  you didn’t get me!! It’s an electric dril...</td>\n",
       "      <td>Monica</td>\n",
       "      <td>Chandler</td>\n",
       "    </tr>\n",
       "    <tr>\n",
       "      <th>3</th>\n",
       "      <td>Chinadolor Bong  come on  we steal that TV Gu...</td>\n",
       "      <td>Ross</td>\n",
       "      <td>Monica</td>\n",
       "    </tr>\n",
       "    <tr>\n",
       "      <th>4</th>\n",
       "      <td>It might be kinda cool.</td>\n",
       "      <td>Monica</td>\n",
       "      <td>Monica</td>\n",
       "    </tr>\n",
       "  </tbody>\n",
       "</table>\n",
       "</div>"
      ],
      "text/plain": [
       "                                                   0       1         2\n",
       "0   Yeah  I guess. It's just parents  after a cer...  Monica      Joey\n",
       "1   Okay  Phoebe  y'know what? That-that’s it  th...    Joey    Monica\n",
       "2   No  you didn’t get me!! It’s an electric dril...  Monica  Chandler\n",
       "3   Chinadolor Bong  come on  we steal that TV Gu...    Ross    Monica\n",
       "4                            It might be kinda cool.  Monica    Monica"
      ]
     },
     "execution_count": 31,
     "metadata": {},
     "output_type": "execute_result"
    }
   ],
   "source": [
    "pd.DataFrame([X_test[:5], y_pred[:5], y_test[:5]]).T"
   ]
  },
  {
   "cell_type": "markdown",
   "metadata": {
    "id": "5dAvOtbWCE3m"
   },
   "source": [
    "## 5. Evaluate how well the classifier is doing\n",
    "\n",
    "Scikit Learn also has several implementations of other types of metrics"
   ]
  },
  {
   "cell_type": "code",
   "execution_count": 32,
   "metadata": {
    "colab": {
     "base_uri": "https://localhost:8080/"
    },
    "id": "cEJbd_gyCMIn",
    "outputId": "434e8ef2-3d58-4be2-aada-49684296c7c7"
   },
   "outputs": [
    {
     "name": "stdout",
     "output_type": "stream",
     "text": [
      "              precision    recall  f1-score   support\n",
      "\n",
      "    Chandler       0.32      0.05      0.09      2334\n",
      "        Joey       0.33      0.14      0.20      2239\n",
      "      Monica       0.18      0.76      0.29      2274\n",
      "      Phoebe       0.27      0.13      0.17      2077\n",
      "      Rachel       0.23      0.14      0.17      2501\n",
      "        Ross       0.33      0.06      0.10      2530\n",
      "\n",
      "    accuracy                           0.21     13955\n",
      "   macro avg       0.28      0.21      0.17     13955\n",
      "weighted avg       0.28      0.21      0.17     13955\n",
      "\n"
     ]
    }
   ],
   "source": [
    "from sklearn.metrics import classification_report # good for computing these metrics\n",
    "\n",
    "print(classification_report(y_test, y_pred))"
   ]
  },
  {
   "cell_type": "code",
   "execution_count": 33,
   "metadata": {
    "colab": {
     "base_uri": "https://localhost:8080/"
    },
    "id": "-ALlRVkqQ6TC",
    "outputId": "b27f0e1f-7870-4dcb-c1da-a6a376178b02"
   },
   "outputs": [
    {
     "data": {
      "text/plain": [
       "array([[ 126,  174, 1575,  162,  229,   68],\n",
       "       [  49,  316, 1456,  123,  230,   65],\n",
       "       [  66,   94, 1737,  136,  197,   44],\n",
       "       [  44,  102, 1403,  262,  216,   50],\n",
       "       [  55,  120, 1808,  115,  340,   63],\n",
       "       [  51,  162, 1747,  160,  266,  144]])"
      ]
     },
     "execution_count": 33,
     "metadata": {},
     "output_type": "execute_result"
    }
   ],
   "source": [
    "from sklearn.metrics import confusion_matrix\n",
    "\n",
    "confusion_matrix(y_test, y_pred)"
   ]
  },
  {
   "cell_type": "code",
   "execution_count": 34,
   "metadata": {
    "colab": {
     "base_uri": "https://localhost:8080/",
     "height": 449
    },
    "id": "1gL1k-bCRCjF",
    "outputId": "584f2964-5d57-46ca-e27c-2f3489fab0e0"
   },
   "outputs": [
    {
     "data": {
      "text/plain": [
       "<Axes: >"
      ]
     },
     "execution_count": 34,
     "metadata": {},
     "output_type": "execute_result"
    },
    {
     "data": {
      "image/png": "[encoded data removed]",
      "text/plain": [
       "<Figure size 640x480 with 2 Axes>"
      ]
     },
     "metadata": {},
     "output_type": "display_data"
    }
   ],
   "source": [
    "# you can also visualize this as a heatmap\n",
    "\n",
    "import seaborn as sns\n",
    "sns.heatmap(confusion_matrix(y_test, y_pred))"
   ]
  },
  {
   "cell_type": "code",
   "execution_count": 35,
   "metadata": {
    "colab": {
     "base_uri": "https://localhost:8080/",
     "height": 469
    },
    "id": "zdRfbxd_Rm-Z",
    "outputId": "100d2b53-4d6c-4953-9073-ccb48ae4ff59"
   },
   "outputs": [
    {
     "data": {
      "text/plain": [
       "<sklearn.metrics._plot.confusion_matrix.ConfusionMatrixDisplay at 0x7f0172ceba00>"
      ]
     },
     "execution_count": 35,
     "metadata": {},
     "output_type": "execute_result"
    },
    {
     "data": {
      "image/png": "[encoded data removed]",
      "text/plain": [
       "<Figure size 640x480 with 2 Axes>"
      ]
     },
     "metadata": {},
     "output_type": "display_data"
    }
   ],
   "source": [
    "# or with sklearn directly\n",
    "from sklearn.metrics import ConfusionMatrixDisplay\n",
    "cm = confusion_matrix(y_test, y_pred)\n",
    "ConfusionMatrixDisplay(confusion_matrix=cm, display_labels=clf.classes_).plot()"
   ]
  },
  {
   "cell_type": "markdown",
   "metadata": {
    "id": "lCuKOvBqCNKP"
   },
   "source": [
    "## 6. Generate some dialogue ourselves.\n",
    "\n",
    "Let's try to generate some sentences using our training data. For this task, we will use the language modeling module of nltk (detailed description: https://www.nltk.org/api/nltk.lm.html)\n",
    "\n",
    "Build a unigram and a trigram language model using MLE. For each of the language models, generate a sentence of 7 words."
   ]
  },
  {
   "cell_type": "code",
   "execution_count": 36,
   "metadata": {
    "id": "-1IMgJBdUYQc"
   },
   "outputs": [],
   "source": [
    "from nltk.lm.preprocessing import padded_everygram_pipeline\n",
    "from nltk.lm import MLE"
   ]
  },
  {
   "cell_type": "code",
   "execution_count": 37,
   "metadata": {
    "id": "eHZc-OG-VGqI"
   },
   "outputs": [],
   "source": [
    "# first tokenize the training set of dialogues\n",
    "X_train_tokens = []\n",
    "for sentence in X_train:\n",
    "    tokenized = nltk.word_tokenize(sentence)\n",
    "    X_train_tokens.append(tokenized)"
   ]
  },
  {
   "cell_type": "code",
   "execution_count": 38,
   "metadata": {
    "id": "up4HdzWKCRSp"
   },
   "outputs": [],
   "source": [
    "# the padded_everygram_pipeline goes through the corpus, applies left and right padding to the sentences (adding <s> and </s>)\n",
    "# and obtains the tuples of a given order together with the vocabulary\n",
    "padded_tuples, vocab = padded_everygram_pipeline(1, X_train_tokens)\n",
    "# generate (an empty) ngram language model for some n>0\n",
    "lm_unigram = MLE(1)\n",
    "# generate probabilities (model) given the list of n-grams and the vocabulary\n",
    "lm_unigram.fit(padded_tuples, vocab)\n",
    "\n",
    "padded_tuples, vocab = padded_everygram_pipeline(3, X_train_tokens)\n",
    "lm_trigram = MLE(3)\n",
    "lm_trigram.fit(padded_tuples, vocab)"
   ]
  },
  {
   "cell_type": "code",
   "execution_count": 40,
   "metadata": {
    "colab": {
     "base_uri": "https://localhost:8080/"
    },
    "id": "BPeqJ4i8UsoR",
    "outputId": "970522ee-2932-46a6-f2bc-5475cb43b5d1"
   },
   "outputs": [
    {
     "name": "stdout",
     "output_type": "stream",
     "text": [
      "Unigram sentence\n",
      "['.', '!', 'with', 'don', 'I', 'relationships', 'gon']\n",
      "Trigram sentence\n",
      "['s', 'right', 'all', 'right', '.', '</s>', '</s>']\n"
     ]
    }
   ],
   "source": [
    "print('Unigram sentence')\n",
    "print(lm_unigram.generate(7))\n",
    "\n",
    "print('Trigram sentence')\n",
    "print(lm_trigram.generate(7))"
   ]
  },
  {
   "cell_type": "markdown",
   "metadata": {
    "id": "Wg0VLgh5CSPU"
   },
   "source": [
    "## Things to try on your own:\n",
    "\n",
    "- a different type of representation (bigrams, trigrams, etc) [Note: might require more RAM than available in Colab/Kaggle. Try running on your local.]\n",
    "- a different type of classifier (SVM, Logistic Regression, etc)\n",
    "- a bigram and 4-gram model for generation"
   ]
  },
  {
   "cell_type": "code",
   "execution_count": null,
   "metadata": {
    "id": "SRpLWUTdSRk_"
   },
   "outputs": [],
   "source": []
  }
 ],
 "metadata": {
  "colab": {
   "provenance": []
  },
  "kernelspec": {
   "display_name": "Python 3 (ipykernel)",
   "language": "python",
   "name": "python3"
  },
  "language_info": {
   "codemirror_mode": {
    "name": "ipython",
    "version": 3
   },
   "file_extension": ".py",
   "mimetype": "text/x-python",
   "name": "python",
   "nbconvert_exporter": "python",
   "pygments_lexer": "ipython3",
   "version": "3.10.12"
  }
 },
 "nbformat": 4,
 "nbformat_minor": 1
}
