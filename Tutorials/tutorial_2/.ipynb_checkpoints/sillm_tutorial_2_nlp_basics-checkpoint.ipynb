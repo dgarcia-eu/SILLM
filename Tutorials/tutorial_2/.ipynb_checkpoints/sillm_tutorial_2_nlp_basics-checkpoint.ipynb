{
 "cells": [
  {
   "cell_type": "markdown",
   "metadata": {
    "id": "XFSPFLe5Y7Kz"
   },
   "source": [
    "# SILLM Tutorial 2\n",
    "\n",
    "In this tutorial, we will do some basic old-fashioned NLP. Specifically:\n",
    "\n",
    "- we will explore lemmas of words\n",
    "- we will check out synsetsand how thesauri model word similarity\n",
    "- we will look into a popular feature representations of text: the Bag-of-Words (BoW) representation\n",
    "- we will train a text classifier\n",
    "- we will evaluate the classifier\n",
    "- we will do some language generation using language models"
   ]
  },
  {
   "cell_type": "code",
   "execution_count": 2,
   "metadata": {
    "id": "od-xEWgF_uT0"
   },
   "outputs": [],
   "source": [
    "import nltk"
   ]
  },
  {
   "cell_type": "markdown",
   "metadata": {
    "id": "I9nqXiIW_8fq"
   },
   "source": [
    "NLTK, or Natural Language Toolkit, is a Python package that you can use for NLP.\n",
    "https://www.nltk.org/"
   ]
  },
  {
   "cell_type": "code",
   "execution_count": 3,
   "metadata": {
    "id": "YV30BOtq__44"
   },
   "outputs": [],
   "source": [
    "import pandas as pd"
   ]
  },
  {
   "cell_type": "code",
   "execution_count": 4,
   "metadata": {
    "colab": {
     "base_uri": "https://localhost:8080/",
     "height": 424
    },
    "id": "jHyyR64LBE3O",
    "outputId": "9459e72f-2b5d-4646-e355-ff570cc0cbc0"
   },
   "outputs": [
    {
     "data": {
      "text/html": [
       "<div>\n",
       "<style scoped>\n",
       "    .dataframe tbody tr th:only-of-type {\n",
       "        vertical-align: middle;\n",
       "    }\n",
       "\n",
       "    .dataframe tbody tr th {\n",
       "        vertical-align: top;\n",
       "    }\n",
       "\n",
       "    .dataframe thead th {\n",
       "        text-align: right;\n",
       "    }\n",
       "</style>\n",
       "<table border=\"1\" class=\"dataframe\">\n",
       "  <thead>\n",
       "    <tr style=\"text-align: right;\">\n",
       "      <th></th>\n",
       "      <th>character</th>\n",
       "      <th>line</th>\n",
       "    </tr>\n",
       "  </thead>\n",
       "  <tbody>\n",
       "    <tr>\n",
       "      <th>0</th>\n",
       "      <td>Monica</td>\n",
       "      <td>There's nothing to tell! He's just some guy I...</td>\n",
       "    </tr>\n",
       "    <tr>\n",
       "      <th>1</th>\n",
       "      <td>Joey</td>\n",
       "      <td>C'mon  you're going out with the guy! There's...</td>\n",
       "    </tr>\n",
       "    <tr>\n",
       "      <th>2</th>\n",
       "      <td>Chandler</td>\n",
       "      <td>All right Joey  be nice.  So does he have a h...</td>\n",
       "    </tr>\n",
       "    <tr>\n",
       "      <th>3</th>\n",
       "      <td>Phoebe</td>\n",
       "      <td>Wait  does he eat chalk?</td>\n",
       "    </tr>\n",
       "    <tr>\n",
       "      <th>4</th>\n",
       "      <td>Phoebe</td>\n",
       "      <td>Just  'cause  I don't want her to go through ...</td>\n",
       "    </tr>\n",
       "    <tr>\n",
       "      <th>...</th>\n",
       "      <td>...</td>\n",
       "      <td>...</td>\n",
       "    </tr>\n",
       "    <tr>\n",
       "      <th>46509</th>\n",
       "      <td>Chandler</td>\n",
       "      <td>Oh  it's gonna be okay.</td>\n",
       "    </tr>\n",
       "    <tr>\n",
       "      <th>46510</th>\n",
       "      <td>Rachel</td>\n",
       "      <td>Do you guys have to go to the new house righ...</td>\n",
       "    </tr>\n",
       "    <tr>\n",
       "      <th>46511</th>\n",
       "      <td>Monica</td>\n",
       "      <td>We got some time.</td>\n",
       "    </tr>\n",
       "    <tr>\n",
       "      <th>46512</th>\n",
       "      <td>Rachel</td>\n",
       "      <td>Okay  should we get some coffee?</td>\n",
       "    </tr>\n",
       "    <tr>\n",
       "      <th>46513</th>\n",
       "      <td>Chandler</td>\n",
       "      <td>Sure. Where?</td>\n",
       "    </tr>\n",
       "  </tbody>\n",
       "</table>\n",
       "<p>46514 rows × 2 columns</p>\n",
       "</div>"
      ],
      "text/plain": [
       "      character                                               line\n",
       "0        Monica   There's nothing to tell! He's just some guy I...\n",
       "1          Joey   C'mon  you're going out with the guy! There's...\n",
       "2      Chandler   All right Joey  be nice.  So does he have a h...\n",
       "3        Phoebe                           Wait  does he eat chalk?\n",
       "4        Phoebe   Just  'cause  I don't want her to go through ...\n",
       "...         ...                                                ...\n",
       "46509  Chandler                            Oh  it's gonna be okay.\n",
       "46510    Rachel    Do you guys have to go to the new house righ...\n",
       "46511    Monica                                  We got some time.\n",
       "46512    Rachel                   Okay  should we get some coffee?\n",
       "46513  Chandler                                       Sure. Where?\n",
       "\n",
       "[46514 rows x 2 columns]"
      ]
     },
     "execution_count": 4,
     "metadata": {},
     "output_type": "execute_result"
    }
   ],
   "source": [
    "friends_data = pd.read_csv('FRIENDS.csv')\n",
    "friends_data"
   ]
  },
  {
   "cell_type": "markdown",
   "metadata": {
    "id": "Ki0VdOdqBZK9"
   },
   "source": [
    "## 1. Let's get the lemma forms of some of these.\n",
    "\n",
    "We will use wordnet for this. WordNet is a lexical database of semantic relations between words in more than 200 languages. WordNet links words into semantic relations including synonyms, hyponyms, and meronyms. More info: https://wordnet.princeton.edu/\n",
    "\n",
    "Wordnet is integrated into NLTK."
   ]
  },
  {
   "cell_type": "code",
   "execution_count": null,
   "metadata": {
    "colab": {
     "base_uri": "https://localhost:8080/"
    },
    "id": "WiuXubJgBKdy",
    "outputId": "568c36b5-35a7-4a90-e52c-56eac46d5e20"
   },
   "outputs": [
    {
     "name": "stderr",
     "output_type": "stream",
     "text": [
      "[nltk_data] Downloading package punkt to /home/dgarcia/nltk_data...\n",
      "[nltk_data]   Unzipping tokenizers/punkt.zip.\n",
      "[nltk_data] Downloading package wordnet to /home/dgarcia/nltk_data...\n"
     ]
    }
   ],
   "source": [
    "# for tokenization\n",
    "nltk.download('punkt')\n",
    "\n",
    "#for lemmatization\n",
    "from nltk.stem.wordnet import WordNetLemmatizer\n",
    "nltk.download('wordnet')"
   ]
  },
  {
   "cell_type": "code",
   "execution_count": 5,
   "metadata": {
    "colab": {
     "base_uri": "https://localhost:8080/"
    },
    "id": "4qOzaPuPC9Cj",
    "outputId": "11f4447b-d6fa-48d2-ca3f-ce3a41d744ba"
   },
   "outputs": [
    {
     "data": {
      "text/plain": [
       "array([\" There's nothing to tell! He's just some guy I work with!\",\n",
       "       \" C'mon  you're going out with the guy! There's gotta be something wrong with him!\",\n",
       "       ' All right Joey  be nice.  So does he have a hump? A hump and a hairpiece?',\n",
       "       ' Wait  does he eat chalk?',\n",
       "       \" Just  'cause  I don't want her to go through what I went through with Carl- oh!\",\n",
       "       \" Okay  everybody relax. This is not even a date. It's just two people going out to dinner and- not having sex.\",\n",
       "       ' Sounds like a date to me.',\n",
       "       \" Alright  so I'm back in high school  I'm standing in the middle of the cafeteria  and I realize I am totally naked.\",\n",
       "       \" Then I look down  and I realize there's a phone... there.\",\n",
       "       ' Instead of...?'], dtype=object)"
      ]
     },
     "execution_count": 5,
     "metadata": {},
     "output_type": "execute_result"
    }
   ],
   "source": [
    "# let's try this for the first 10 dialogues\n",
    "\n",
    "sentences = friends_data.head(10)['line'].values\n",
    "sentences"
   ]
  },
  {
   "cell_type": "code",
   "execution_count": 6,
   "metadata": {
    "id": "ei8Fn7uhC2zC"
   },
   "outputs": [],
   "source": [
    "lemmatizer = WordNetLemmatizer()\n",
    "\n",
    "corpus_lemma = []\n",
    "\n",
    "for sentence in sentences:\n",
    "    tokenized = nltk.word_tokenize(sentence)\n",
    "    lemmatized = [lemmatizer.lemmatize(word.lower()) for word in tokenized]\n",
    "    if lemmatized != []:\n",
    "        corpus_lemma.append(lemmatized)"
   ]
  },
  {
   "cell_type": "markdown",
   "metadata": {
    "id": "hAxUf3SoErWv"
   },
   "source": [
    "Inspect the results. Is everything as expected?"
   ]
  },
  {
   "cell_type": "code",
   "execution_count": 7,
   "metadata": {
    "colab": {
     "base_uri": "https://localhost:8080/"
    },
    "id": "RU8hLMdWFCKX",
    "outputId": "ff8305e1-dbc0-46e8-b1ec-1148150d05ae"
   },
   "outputs": [
    {
     "data": {
      "text/plain": [
       "(' Sounds like a date to me.', ['sound', 'like', 'a', 'date', 'to', 'me', '.'])"
      ]
     },
     "execution_count": 7,
     "metadata": {},
     "output_type": "execute_result"
    }
   ],
   "source": [
    "sentences[6], corpus_lemma[6]"
   ]
  },
  {
   "cell_type": "code",
   "execution_count": 8,
   "metadata": {
    "colab": {
     "base_uri": "https://localhost:8080/"
    },
    "id": "ad5rhQcsFTuk",
    "outputId": "7b80fc33-d585-416d-8d47-ed94c256f744"
   },
   "outputs": [
    {
     "data": {
      "text/plain": [
       "(' All right Joey  be nice.  So does he have a hump? A hump and a hairpiece?',\n",
       " ['all',\n",
       "  'right',\n",
       "  'joey',\n",
       "  'be',\n",
       "  'nice',\n",
       "  '.',\n",
       "  'so',\n",
       "  'doe',\n",
       "  'he',\n",
       "  'have',\n",
       "  'a',\n",
       "  'hump',\n",
       "  '?',\n",
       "  'a',\n",
       "  'hump',\n",
       "  'and',\n",
       "  'a',\n",
       "  'hairpiece',\n",
       "  '?'])"
      ]
     },
     "execution_count": 8,
     "metadata": {},
     "output_type": "execute_result"
    }
   ],
   "source": [
    "sentences[2], corpus_lemma[2]"
   ]
  },
  {
   "cell_type": "code",
   "execution_count": 9,
   "metadata": {
    "colab": {
     "base_uri": "https://localhost:8080/",
     "height": 35
    },
    "id": "tZThWejFDlo5",
    "outputId": "e9fb593d-9be6-4152-f81c-4ba7dfecadba"
   },
   "outputs": [
    {
     "data": {
      "application/vnd.google.colaboratory.intrinsic+json": {
       "type": "string"
      },
      "text/plain": [
       "'doe'"
      ]
     },
     "execution_count": 9,
     "metadata": {},
     "output_type": "execute_result"
    }
   ],
   "source": [
    "lemmatizer.lemmatize('does') # is this right?"
   ]
  },
  {
   "cell_type": "code",
   "execution_count": 10,
   "metadata": {
    "colab": {
     "base_uri": "https://localhost:8080/",
     "height": 35
    },
    "id": "HePwf2bhEQGv",
    "outputId": "197389fe-6905-42b0-aa01-d27ab557cdc7"
   },
   "outputs": [
    {
     "data": {
      "application/vnd.google.colaboratory.intrinsic+json": {
       "type": "string"
      },
      "text/plain": [
       "'singing'"
      ]
     },
     "execution_count": 10,
     "metadata": {},
     "output_type": "execute_result"
    }
   ],
   "source": [
    "lemmatizer.lemmatize('singing')"
   ]
  },
  {
   "cell_type": "markdown",
   "metadata": {
    "id": "Jj__Dit9Exze"
   },
   "source": [
    "Lemmatization depends on the part-of-speech of what is being lemmatized. You can also use wordnet to troubleshoot: http://wordnetweb.princeton.edu/perl/webwn?s=singing&sub=Search+WordNet&o2=&o0=1&o8=1&o1=1&o7=&o5=&o9=&o6=&o3=&o4=&h=00000"
   ]
  },
  {
   "cell_type": "markdown",
   "metadata": {
    "id": "m71JIQiOBjaH"
   },
   "source": [
    "## 2. Now, let's look at some synsets from NLTK\n",
    "\n",
    "Recall that WordNet is a lexical database of semantic relations between words that links words into semantic relations including synonyms, hyponyms, and meronyms. The synonyms are grouped into **synsets** with short definitions and usage examples.\n",
    "\n",
    "According to WordNet, a synset or synonym set is defined as a set of one or more synonyms that are interchangeable in some context without changing the truth value of the proposition in which they are embedded."
   ]
  },
  {
   "cell_type": "code",
   "execution_count": 11,
   "metadata": {
    "id": "H9q3g9R-Bofw"
   },
   "outputs": [],
   "source": [
    "from nltk.corpus import wordnet as wn"
   ]
  },
  {
   "cell_type": "code",
   "execution_count": 12,
   "metadata": {
    "colab": {
     "base_uri": "https://localhost:8080/"
    },
    "id": "q232P88BGI0E",
    "outputId": "ac034b74-d381-46d2-8ebc-802e55be19b9"
   },
   "outputs": [
    {
     "data": {
      "text/plain": [
       "[Synset('dog.n.01'),\n",
       " Synset('frump.n.01'),\n",
       " Synset('dog.n.03'),\n",
       " Synset('cad.n.01'),\n",
       " Synset('frank.n.02'),\n",
       " Synset('pawl.n.01'),\n",
       " Synset('andiron.n.01'),\n",
       " Synset('chase.v.01')]"
      ]
     },
     "execution_count": 12,
     "metadata": {},
     "output_type": "execute_result"
    }
   ],
   "source": [
    "wn.synsets('dog')"
   ]
  },
  {
   "cell_type": "code",
   "execution_count": 13,
   "metadata": {
    "colab": {
     "base_uri": "https://localhost:8080/"
    },
    "id": "mUTjroetGPSb",
    "outputId": "b8b6129a-36b7-4f57-e633-5916653ad9db"
   },
   "outputs": [
    {
     "data": {
      "text/plain": [
       "[Synset('chase.v.01')]"
      ]
     },
     "execution_count": 13,
     "metadata": {},
     "output_type": "execute_result"
    }
   ],
   "source": [
    "wn.synsets('dog', pos=wn.VERB)"
   ]
  },
  {
   "cell_type": "code",
   "execution_count": 14,
   "metadata": {
    "id": "ZsLnd9WTGRP0"
   },
   "outputs": [],
   "source": [
    "lemma_synsets = []\n",
    "for lemmatized in corpus_lemma:\n",
    "  lemma_synset = [wn.synsets(lemma) for lemma in lemmatized]\n",
    "  lemma_synsets.append(lemma_synset)"
   ]
  },
  {
   "cell_type": "code",
   "execution_count": 15,
   "metadata": {
    "colab": {
     "base_uri": "https://localhost:8080/"
    },
    "id": "LWzTH2UfGs_E",
    "outputId": "366e822e-ad84-49a1-9005-ae16e3ec9f13"
   },
   "outputs": [
    {
     "data": {
      "text/plain": [
       "('date',\n",
       " [Synset('date.n.01'),\n",
       "  Synset('date.n.02'),\n",
       "  Synset('date.n.03'),\n",
       "  Synset('date.n.04'),\n",
       "  Synset('date.n.05'),\n",
       "  Synset('date.n.06'),\n",
       "  Synset('date.n.07'),\n",
       "  Synset('date.n.08'),\n",
       "  Synset('date.v.01'),\n",
       "  Synset('date.v.02'),\n",
       "  Synset('date.v.03'),\n",
       "  Synset('go_steady.v.01'),\n",
       "  Synset('date.v.05')])"
      ]
     },
     "execution_count": 15,
     "metadata": {},
     "output_type": "execute_result"
    }
   ],
   "source": [
    "corpus_lemma[6][3], lemma_synsets[6][3]"
   ]
  },
  {
   "cell_type": "code",
   "execution_count": 16,
   "metadata": {
    "colab": {
     "base_uri": "https://localhost:8080/"
    },
    "id": "3f5mjkKUHES6",
    "outputId": "4487aed0-e21d-4fa6-af98-f0c1d27fb778"
   },
   "outputs": [
    {
     "data": {
      "text/plain": [
       "('nice',\n",
       " [Synset('nice.n.01'),\n",
       "  Synset('nice.a.01'),\n",
       "  Synset('decent.s.01'),\n",
       "  Synset('nice.s.03'),\n",
       "  Synset('dainty.s.04'),\n",
       "  Synset('courteous.s.01')])"
      ]
     },
     "execution_count": 16,
     "metadata": {},
     "output_type": "execute_result"
    }
   ],
   "source": [
    "corpus_lemma[2][4], lemma_synsets[2][4]"
   ]
  },
  {
   "cell_type": "markdown",
   "metadata": {
    "id": "ABR03g0WBpU4"
   },
   "source": [
    "## 3. Let's create a bag-of-words representation\n",
    "\n",
    "For this, we will use Scikit Learn, the standard Python Library for Machine Learning, at least for non-deep learning models. While DL models are much more popular now, Scikit Learn is still used for evaluation and splitting datasets.\n",
    "\n",
    "For getting a Bag-of-Words (BoW) representation, we will use the Count Vectorizer: https://scikit-learn.org/stable/modules/generated/sklearn.feature_extraction.text.CountVectorizer.html#sklearn.feature_extraction.text.CountVectorizer"
   ]
  },
  {
   "cell_type": "code",
   "execution_count": 17,
   "metadata": {
    "id": "a2Eo_J-zB3p9"
   },
   "outputs": [],
   "source": [
    "from sklearn.feature_extraction.text import CountVectorizer\n",
    "vectorizer = CountVectorizer() # initialize the vectorizer"
   ]
  },
  {
   "cell_type": "code",
   "execution_count": 18,
   "metadata": {
    "colab": {
     "base_uri": "https://localhost:8080/",
     "height": 75
    },
    "id": "GdANOqahJeDg",
    "outputId": "16f4d0ec-6659-41a9-fcdd-2967193b6832"
   },
   "outputs": [
    {
     "data": {
      "text/html": [
       "<style>#sk-container-id-1 {color: black;background-color: white;}#sk-container-id-1 pre{padding: 0;}#sk-container-id-1 div.sk-toggleable {background-color: white;}#sk-container-id-1 label.sk-toggleable__label {cursor: pointer;display: block;width: 100%;margin-bottom: 0;padding: 0.3em;box-sizing: border-box;text-align: center;}#sk-container-id-1 label.sk-toggleable__label-arrow:before {content: \"▸\";float: left;margin-right: 0.25em;color: #696969;}#sk-container-id-1 label.sk-toggleable__label-arrow:hover:before {color: black;}#sk-container-id-1 div.sk-estimator:hover label.sk-toggleable__label-arrow:before {color: black;}#sk-container-id-1 div.sk-toggleable__content {max-height: 0;max-width: 0;overflow: hidden;text-align: left;background-color: #f0f8ff;}#sk-container-id-1 div.sk-toggleable__content pre {margin: 0.2em;color: black;border-radius: 0.25em;background-color: #f0f8ff;}#sk-container-id-1 input.sk-toggleable__control:checked~div.sk-toggleable__content {max-height: 200px;max-width: 100%;overflow: auto;}#sk-container-id-1 input.sk-toggleable__control:checked~label.sk-toggleable__label-arrow:before {content: \"▾\";}#sk-container-id-1 div.sk-estimator input.sk-toggleable__control:checked~label.sk-toggleable__label {background-color: #d4ebff;}#sk-container-id-1 div.sk-label input.sk-toggleable__control:checked~label.sk-toggleable__label {background-color: #d4ebff;}#sk-container-id-1 input.sk-hidden--visually {border: 0;clip: rect(1px 1px 1px 1px);clip: rect(1px, 1px, 1px, 1px);height: 1px;margin: -1px;overflow: hidden;padding: 0;position: absolute;width: 1px;}#sk-container-id-1 div.sk-estimator {font-family: monospace;background-color: #f0f8ff;border: 1px dotted black;border-radius: 0.25em;box-sizing: border-box;margin-bottom: 0.5em;}#sk-container-id-1 div.sk-estimator:hover {background-color: #d4ebff;}#sk-container-id-1 div.sk-parallel-item::after {content: \"\";width: 100%;border-bottom: 1px solid gray;flex-grow: 1;}#sk-container-id-1 div.sk-label:hover label.sk-toggleable__label {background-color: #d4ebff;}#sk-container-id-1 div.sk-serial::before {content: \"\";position: absolute;border-left: 1px solid gray;box-sizing: border-box;top: 0;bottom: 0;left: 50%;z-index: 0;}#sk-container-id-1 div.sk-serial {display: flex;flex-direction: column;align-items: center;background-color: white;padding-right: 0.2em;padding-left: 0.2em;position: relative;}#sk-container-id-1 div.sk-item {position: relative;z-index: 1;}#sk-container-id-1 div.sk-parallel {display: flex;align-items: stretch;justify-content: center;background-color: white;position: relative;}#sk-container-id-1 div.sk-item::before, #sk-container-id-1 div.sk-parallel-item::before {content: \"\";position: absolute;border-left: 1px solid gray;box-sizing: border-box;top: 0;bottom: 0;left: 50%;z-index: -1;}#sk-container-id-1 div.sk-parallel-item {display: flex;flex-direction: column;z-index: 1;position: relative;background-color: white;}#sk-container-id-1 div.sk-parallel-item:first-child::after {align-self: flex-end;width: 50%;}#sk-container-id-1 div.sk-parallel-item:last-child::after {align-self: flex-start;width: 50%;}#sk-container-id-1 div.sk-parallel-item:only-child::after {width: 0;}#sk-container-id-1 div.sk-dashed-wrapped {border: 1px dashed gray;margin: 0 0.4em 0.5em 0.4em;box-sizing: border-box;padding-bottom: 0.4em;background-color: white;}#sk-container-id-1 div.sk-label label {font-family: monospace;font-weight: bold;display: inline-block;line-height: 1.2em;}#sk-container-id-1 div.sk-label-container {text-align: center;}#sk-container-id-1 div.sk-container {/* jupyter's `normalize.less` sets `[hidden] { display: none; }` but bootstrap.min.css set `[hidden] { display: none !important; }` so we also need the `!important` here to be able to override the default hidden behavior on the sphinx rendered scikit-learn.org. See: https://github.com/scikit-learn/scikit-learn/issues/21755 */display: inline-block !important;position: relative;}#sk-container-id-1 div.sk-text-repr-fallback {display: none;}</style><div id=\"sk-container-id-1\" class=\"sk-top-container\"><div class=\"sk-text-repr-fallback\"><pre>CountVectorizer()</pre><b>In a Jupyter environment, please rerun this cell to show the HTML representation or trust the notebook. <br />On GitHub, the HTML representation is unable to render, please try loading this page with nbviewer.org.</b></div><div class=\"sk-container\" hidden><div class=\"sk-item\"><div class=\"sk-estimator sk-toggleable\"><input class=\"sk-toggleable__control sk-hidden--visually\" id=\"sk-estimator-id-1\" type=\"checkbox\" checked><label for=\"sk-estimator-id-1\" class=\"sk-toggleable__label sk-toggleable__label-arrow\">CountVectorizer</label><div class=\"sk-toggleable__content\"><pre>CountVectorizer()</pre></div></div></div></div></div>"
      ],
      "text/plain": [
       "CountVectorizer()"
      ]
     },
     "execution_count": 18,
     "metadata": {},
     "output_type": "execute_result"
    }
   ],
   "source": [
    "# get all the dialogues\n",
    "sentences = friends_data['line'].values\n",
    "\n",
    "# create the representation\n",
    "vectorizer.fit(sentences)"
   ]
  },
  {
   "cell_type": "code",
   "execution_count": 19,
   "metadata": {
    "colab": {
     "base_uri": "https://localhost:8080/"
    },
    "id": "UxbJZlvNJ1SX",
    "outputId": "4c43bcc8-a45f-4c3f-d58a-dba862c058f6"
   },
   "outputs": [
    {
     "data": {
      "text/plain": [
       "12844"
      ]
     },
     "execution_count": 19,
     "metadata": {},
     "output_type": "execute_result"
    }
   ],
   "source": [
    "len(vectorizer.vocabulary_)"
   ]
  },
  {
   "cell_type": "code",
   "execution_count": 20,
   "metadata": {
    "colab": {
     "base_uri": "https://localhost:8080/"
    },
    "id": "uJNu4n43J1hw",
    "outputId": "ee1df9c4-3b16-42ca-b25c-498730f97bfc"
   },
   "outputs": [
    {
     "data": {
      "text/plain": [
       "3320"
      ]
     },
     "execution_count": 20,
     "metadata": {},
     "output_type": "execute_result"
    }
   ],
   "source": [
    "vectorizer.vocabulary_['does']"
   ]
  },
  {
   "cell_type": "code",
   "execution_count": 21,
   "metadata": {
    "colab": {
     "base_uri": "https://localhost:8080/"
    },
    "id": "gflooihpJ1lS",
    "outputId": "ce849912-1ff3-4095-9e0b-221ff5650b3f"
   },
   "outputs": [
    {
     "data": {
      "text/plain": [
       "(46514, 12844)"
      ]
     },
     "execution_count": 21,
     "metadata": {},
     "output_type": "execute_result"
    }
   ],
   "source": [
    "bag_of_words = vectorizer.transform(sentences)\n",
    "bag_of_words.shape # why 46514?"
   ]
  },
  {
   "cell_type": "code",
   "execution_count": 22,
   "metadata": {
    "colab": {
     "base_uri": "https://localhost:8080/"
    },
    "id": "-DtXnOaAKviz",
    "outputId": "ad258755-0541-448b-8838-1161c61e5e09"
   },
   "outputs": [
    {
     "data": {
      "text/plain": [
       "array([[0, 0, 0, ..., 0, 0, 0],\n",
       "       [0, 0, 0, ..., 0, 0, 0],\n",
       "       [0, 0, 0, ..., 0, 0, 0],\n",
       "       ...,\n",
       "       [0, 0, 0, ..., 0, 0, 0],\n",
       "       [0, 0, 0, ..., 0, 0, 0],\n",
       "       [0, 0, 0, ..., 0, 0, 0]])"
      ]
     },
     "execution_count": 22,
     "metadata": {},
     "output_type": "execute_result"
    }
   ],
   "source": [
    "bag_of_words.toarray() # a lot of this empty"
   ]
  },
  {
   "cell_type": "markdown",
   "metadata": {
    "id": "qoSkA3Y2B4QD"
   },
   "source": [
    "## 4. Let's train a classifier to detect who says a particular dialogue using the BoW representation\n",
    "\n",
    "Since this is a supervised problem, we need to split our data into training and test sets."
   ]
  },
  {
   "cell_type": "markdown",
   "metadata": {
    "id": "BkF1oxDZNV6y"
   },
   "source": [
    "### Step 1: Build the BoW Representation"
   ]
  },
  {
   "cell_type": "code",
   "execution_count": 23,
   "metadata": {
    "id": "laWlSUTrCEMy"
   },
   "outputs": [],
   "source": [
    "from sklearn.model_selection import train_test_split"
   ]
  },
  {
   "cell_type": "code",
   "execution_count": 24,
   "metadata": {
    "id": "OStQfIjKLGzP"
   },
   "outputs": [],
   "source": [
    "train, test = train_test_split(friends_data, test_size = 0.3)"
   ]
  },
  {
   "cell_type": "code",
   "execution_count": 25,
   "metadata": {
    "id": "jM0KNV5ILeBO"
   },
   "outputs": [],
   "source": [
    "X_train = train['line'].values\n",
    "y_train = train['character'].values\n",
    "X_test = test['line'].values\n",
    "y_test = test['character'].values"
   ]
  },
  {
   "cell_type": "code",
   "execution_count": 26,
   "metadata": {
    "id": "NP2blrUyLISf"
   },
   "outputs": [],
   "source": [
    "vectorizer = CountVectorizer()\n",
    "X_train_v = vectorizer.fit_transform(X_train)"
   ]
  },
  {
   "cell_type": "markdown",
   "metadata": {
    "id": "BcwJhMxOMeEx"
   },
   "source": [
    "**fit**: Learn a vocabulary dictionary of all tokens in the raw documents.\n",
    "\n",
    "**transform**: Transform documents to document-term matrix."
   ]
  },
  {
   "cell_type": "code",
   "execution_count": 27,
   "metadata": {
    "id": "t20iY2McLvG2"
   },
   "outputs": [],
   "source": [
    "X_test_v = vectorizer.transform(X_test) # why transform and not fit_transform?"
   ]
  },
  {
   "cell_type": "markdown",
   "metadata": {
    "id": "nLsPNQTvWxTs"
   },
   "source": [
    "Count Vectorizer has some other parameters such as whether it should consider case or not, whether it should remove stopwords or not.\n",
    "\n",
    "One of the most important parameters for this use case is the ngram_range which determines which types of n-grams will be modeled."
   ]
  },
  {
   "cell_type": "markdown",
   "metadata": {
    "id": "-V8DN4WtNbpb"
   },
   "source": [
    "### Step 2: Classify\n",
    "\n",
    "We will use a Naive Bayes Classifier."
   ]
  },
  {
   "cell_type": "code",
   "execution_count": 28,
   "metadata": {
    "id": "DhpLz2LVMMN4"
   },
   "outputs": [],
   "source": [
    "from sklearn.naive_bayes import GaussianNB\n",
    "gnb = GaussianNB() # initialize the classifier"
   ]
  },
  {
   "cell_type": "code",
   "execution_count": 29,
   "metadata": {
    "id": "JvRNhB8XMNDS"
   },
   "outputs": [],
   "source": [
    " # fit the classifier, i.e., learn the parameters\n",
    "clf = gnb.fit(X_train_v.toarray(), y_train)"
   ]
  },
  {
   "cell_type": "code",
   "execution_count": 30,
   "metadata": {
    "id": "wcumDsJOO5lm"
   },
   "outputs": [],
   "source": [
    "# predict the labels of the test set\n",
    "y_pred = clf.predict(X_test_v.toarray())"
   ]
  },
  {
   "cell_type": "markdown",
   "metadata": {
    "id": "2FHQ4OKNPLMq"
   },
   "source": [
    "Let's have a cursory look at the results"
   ]
  },
  {
   "cell_type": "code",
   "execution_count": 31,
   "metadata": {
    "colab": {
     "base_uri": "https://localhost:8080/",
     "height": 206
    },
    "id": "kL81nj5FPIq1",
    "outputId": "89245f1d-5029-47d7-c629-e58e64236ff2"
   },
   "outputs": [
    {
     "data": {
      "text/html": [
       "\n",
       "  <div id=\"df-6636d5e8-3275-4804-b774-506d5b7f1948\" class=\"colab-df-container\">\n",
       "    <div>\n",
       "<style scoped>\n",
       "    .dataframe tbody tr th:only-of-type {\n",
       "        vertical-align: middle;\n",
       "    }\n",
       "\n",
       "    .dataframe tbody tr th {\n",
       "        vertical-align: top;\n",
       "    }\n",
       "\n",
       "    .dataframe thead th {\n",
       "        text-align: right;\n",
       "    }\n",
       "</style>\n",
       "<table border=\"1\" class=\"dataframe\">\n",
       "  <thead>\n",
       "    <tr style=\"text-align: right;\">\n",
       "      <th></th>\n",
       "      <th>0</th>\n",
       "      <th>1</th>\n",
       "      <th>2</th>\n",
       "    </tr>\n",
       "  </thead>\n",
       "  <tbody>\n",
       "    <tr>\n",
       "      <th>0</th>\n",
       "      <td>What? This-this  no  oh no  no-no-no  this is...</td>\n",
       "      <td>Rachel</td>\n",
       "      <td>Rachel</td>\n",
       "    </tr>\n",
       "    <tr>\n",
       "      <th>1</th>\n",
       "      <td>well he seemed to bum hard that you'd never b...</td>\n",
       "      <td>Joey</td>\n",
       "      <td>Ross</td>\n",
       "    </tr>\n",
       "    <tr>\n",
       "      <th>2</th>\n",
       "      <td>Twelve hundred dollars? You think I have $120...</td>\n",
       "      <td>Monica</td>\n",
       "      <td>Joey</td>\n",
       "    </tr>\n",
       "    <tr>\n",
       "      <th>3</th>\n",
       "      <td>That was amazing.</td>\n",
       "      <td>Monica</td>\n",
       "      <td>Chandler</td>\n",
       "    </tr>\n",
       "    <tr>\n",
       "      <th>4</th>\n",
       "      <td>Oh  sure. Whoa-whoa  what's this? The deliver...</td>\n",
       "      <td>Monica</td>\n",
       "      <td>Ross</td>\n",
       "    </tr>\n",
       "  </tbody>\n",
       "</table>\n",
       "</div>\n",
       "    <div class=\"colab-df-buttons\">\n",
       "\n",
       "  <div class=\"colab-df-container\">\n",
       "    <button class=\"colab-df-convert\" onclick=\"convertToInteractive('df-6636d5e8-3275-4804-b774-506d5b7f1948')\"\n",
       "            title=\"Convert this dataframe to an interactive table.\"\n",
       "            style=\"display:none;\">\n",
       "\n",
       "  <svg xmlns=\"http://www.w3.org/2000/svg\" height=\"24px\" viewBox=\"0 -960 960 960\">\n",
       "    <path d=\"M120-120v-720h720v720H120Zm60-500h600v-160H180v160Zm220 220h160v-160H400v160Zm0 220h160v-160H400v160ZM180-400h160v-160H180v160Zm440 0h160v-160H620v160ZM180-180h160v-160H180v160Zm440 0h160v-160H620v160Z\"/>\n",
       "  </svg>\n",
       "    </button>\n",
       "\n",
       "  <style>\n",
       "    .colab-df-container {\n",
       "      display:flex;\n",
       "      gap: 12px;\n",
       "    }\n",
       "\n",
       "    .colab-df-convert {\n",
       "      background-color: #E8F0FE;\n",
       "      border: none;\n",
       "      border-radius: 50%;\n",
       "      cursor: pointer;\n",
       "      display: none;\n",
       "      fill: #1967D2;\n",
       "      height: 32px;\n",
       "      padding: 0 0 0 0;\n",
       "      width: 32px;\n",
       "    }\n",
       "\n",
       "    .colab-df-convert:hover {\n",
       "      background-color: #E2EBFA;\n",
       "      box-shadow: 0px 1px 2px rgba(60, 64, 67, 0.3), 0px 1px 3px 1px rgba(60, 64, 67, 0.15);\n",
       "      fill: #174EA6;\n",
       "    }\n",
       "\n",
       "    .colab-df-buttons div {\n",
       "      margin-bottom: 4px;\n",
       "    }\n",
       "\n",
       "    [theme=dark] .colab-df-convert {\n",
       "      background-color: #3B4455;\n",
       "      fill: #D2E3FC;\n",
       "    }\n",
       "\n",
       "    [theme=dark] .colab-df-convert:hover {\n",
       "      background-color: #434B5C;\n",
       "      box-shadow: 0px 1px 3px 1px rgba(0, 0, 0, 0.15);\n",
       "      filter: drop-shadow(0px 1px 2px rgba(0, 0, 0, 0.3));\n",
       "      fill: #FFFFFF;\n",
       "    }\n",
       "  </style>\n",
       "\n",
       "    <script>\n",
       "      const buttonEl =\n",
       "        document.querySelector('#df-6636d5e8-3275-4804-b774-506d5b7f1948 button.colab-df-convert');\n",
       "      buttonEl.style.display =\n",
       "        google.colab.kernel.accessAllowed ? 'block' : 'none';\n",
       "\n",
       "      async function convertToInteractive(key) {\n",
       "        const element = document.querySelector('#df-6636d5e8-3275-4804-b774-506d5b7f1948');\n",
       "        const dataTable =\n",
       "          await google.colab.kernel.invokeFunction('convertToInteractive',\n",
       "                                                    [key], {});\n",
       "        if (!dataTable) return;\n",
       "\n",
       "        const docLinkHtml = 'Like what you see? Visit the ' +\n",
       "          '<a target=\"_blank\" href=https://colab.research.google.com/notebooks/data_table.ipynb>data table notebook</a>'\n",
       "          + ' to learn more about interactive tables.';\n",
       "        element.innerHTML = '';\n",
       "        dataTable['output_type'] = 'display_data';\n",
       "        await google.colab.output.renderOutput(dataTable, element);\n",
       "        const docLink = document.createElement('div');\n",
       "        docLink.innerHTML = docLinkHtml;\n",
       "        element.appendChild(docLink);\n",
       "      }\n",
       "    </script>\n",
       "  </div>\n",
       "\n",
       "\n",
       "<div id=\"df-fcebfd14-2c5a-47e3-a754-83d00a4ba978\">\n",
       "  <button class=\"colab-df-quickchart\" onclick=\"quickchart('df-fcebfd14-2c5a-47e3-a754-83d00a4ba978')\"\n",
       "            title=\"Suggest charts.\"\n",
       "            style=\"display:none;\">\n",
       "\n",
       "<svg xmlns=\"http://www.w3.org/2000/svg\" height=\"24px\"viewBox=\"0 0 24 24\"\n",
       "     width=\"24px\">\n",
       "    <g>\n",
       "        <path d=\"M19 3H5c-1.1 0-2 .9-2 2v14c0 1.1.9 2 2 2h14c1.1 0 2-.9 2-2V5c0-1.1-.9-2-2-2zM9 17H7v-7h2v7zm4 0h-2V7h2v10zm4 0h-2v-4h2v4z\"/>\n",
       "    </g>\n",
       "</svg>\n",
       "  </button>\n",
       "\n",
       "<style>\n",
       "  .colab-df-quickchart {\n",
       "      --bg-color: #E8F0FE;\n",
       "      --fill-color: #1967D2;\n",
       "      --hover-bg-color: #E2EBFA;\n",
       "      --hover-fill-color: #174EA6;\n",
       "      --disabled-fill-color: #AAA;\n",
       "      --disabled-bg-color: #DDD;\n",
       "  }\n",
       "\n",
       "  [theme=dark] .colab-df-quickchart {\n",
       "      --bg-color: #3B4455;\n",
       "      --fill-color: #D2E3FC;\n",
       "      --hover-bg-color: #434B5C;\n",
       "      --hover-fill-color: #FFFFFF;\n",
       "      --disabled-bg-color: #3B4455;\n",
       "      --disabled-fill-color: #666;\n",
       "  }\n",
       "\n",
       "  .colab-df-quickchart {\n",
       "    background-color: var(--bg-color);\n",
       "    border: none;\n",
       "    border-radius: 50%;\n",
       "    cursor: pointer;\n",
       "    display: none;\n",
       "    fill: var(--fill-color);\n",
       "    height: 32px;\n",
       "    padding: 0;\n",
       "    width: 32px;\n",
       "  }\n",
       "\n",
       "  .colab-df-quickchart:hover {\n",
       "    background-color: var(--hover-bg-color);\n",
       "    box-shadow: 0 1px 2px rgba(60, 64, 67, 0.3), 0 1px 3px 1px rgba(60, 64, 67, 0.15);\n",
       "    fill: var(--button-hover-fill-color);\n",
       "  }\n",
       "\n",
       "  .colab-df-quickchart-complete:disabled,\n",
       "  .colab-df-quickchart-complete:disabled:hover {\n",
       "    background-color: var(--disabled-bg-color);\n",
       "    fill: var(--disabled-fill-color);\n",
       "    box-shadow: none;\n",
       "  }\n",
       "\n",
       "  .colab-df-spinner {\n",
       "    border: 2px solid var(--fill-color);\n",
       "    border-color: transparent;\n",
       "    border-bottom-color: var(--fill-color);\n",
       "    animation:\n",
       "      spin 1s steps(1) infinite;\n",
       "  }\n",
       "\n",
       "  @keyframes spin {\n",
       "    0% {\n",
       "      border-color: transparent;\n",
       "      border-bottom-color: var(--fill-color);\n",
       "      border-left-color: var(--fill-color);\n",
       "    }\n",
       "    20% {\n",
       "      border-color: transparent;\n",
       "      border-left-color: var(--fill-color);\n",
       "      border-top-color: var(--fill-color);\n",
       "    }\n",
       "    30% {\n",
       "      border-color: transparent;\n",
       "      border-left-color: var(--fill-color);\n",
       "      border-top-color: var(--fill-color);\n",
       "      border-right-color: var(--fill-color);\n",
       "    }\n",
       "    40% {\n",
       "      border-color: transparent;\n",
       "      border-right-color: var(--fill-color);\n",
       "      border-top-color: var(--fill-color);\n",
       "    }\n",
       "    60% {\n",
       "      border-color: transparent;\n",
       "      border-right-color: var(--fill-color);\n",
       "    }\n",
       "    80% {\n",
       "      border-color: transparent;\n",
       "      border-right-color: var(--fill-color);\n",
       "      border-bottom-color: var(--fill-color);\n",
       "    }\n",
       "    90% {\n",
       "      border-color: transparent;\n",
       "      border-bottom-color: var(--fill-color);\n",
       "    }\n",
       "  }\n",
       "</style>\n",
       "\n",
       "  <script>\n",
       "    async function quickchart(key) {\n",
       "      const quickchartButtonEl =\n",
       "        document.querySelector('#' + key + ' button');\n",
       "      quickchartButtonEl.disabled = true;  // To prevent multiple clicks.\n",
       "      quickchartButtonEl.classList.add('colab-df-spinner');\n",
       "      try {\n",
       "        const charts = await google.colab.kernel.invokeFunction(\n",
       "            'suggestCharts', [key], {});\n",
       "      } catch (error) {\n",
       "        console.error('Error during call to suggestCharts:', error);\n",
       "      }\n",
       "      quickchartButtonEl.classList.remove('colab-df-spinner');\n",
       "      quickchartButtonEl.classList.add('colab-df-quickchart-complete');\n",
       "    }\n",
       "    (() => {\n",
       "      let quickchartButtonEl =\n",
       "        document.querySelector('#df-fcebfd14-2c5a-47e3-a754-83d00a4ba978 button');\n",
       "      quickchartButtonEl.style.display =\n",
       "        google.colab.kernel.accessAllowed ? 'block' : 'none';\n",
       "    })();\n",
       "  </script>\n",
       "</div>\n",
       "    </div>\n",
       "  </div>\n"
      ],
      "text/plain": [
       "                                                   0       1         2\n",
       "0   What? This-this  no  oh no  no-no-no  this is...  Rachel    Rachel\n",
       "1   well he seemed to bum hard that you'd never b...    Joey      Ross\n",
       "2   Twelve hundred dollars? You think I have $120...  Monica      Joey\n",
       "3                                  That was amazing.  Monica  Chandler\n",
       "4   Oh  sure. Whoa-whoa  what's this? The deliver...  Monica      Ross"
      ]
     },
     "execution_count": 31,
     "metadata": {},
     "output_type": "execute_result"
    }
   ],
   "source": [
    "pd.DataFrame([X_test[:5], y_pred[:5], y_test[:5]]).T"
   ]
  },
  {
   "cell_type": "markdown",
   "metadata": {
    "id": "5dAvOtbWCE3m"
   },
   "source": [
    "## 5. Evaluate how well the classifier is doing\n",
    "\n",
    "Scikit Learn also has several implementations of other types of metrics"
   ]
  },
  {
   "cell_type": "code",
   "execution_count": 32,
   "metadata": {
    "colab": {
     "base_uri": "https://localhost:8080/"
    },
    "id": "cEJbd_gyCMIn",
    "outputId": "434e8ef2-3d58-4be2-aada-49684296c7c7"
   },
   "outputs": [
    {
     "name": "stdout",
     "output_type": "stream",
     "text": [
      "              precision    recall  f1-score   support\n",
      "\n",
      "    Chandler       0.33      0.06      0.10      2263\n",
      "        Joey       0.30      0.17      0.22      2310\n",
      "      Monica       0.18      0.75      0.29      2305\n",
      "      Phoebe       0.29      0.12      0.17      2019\n",
      "      Rachel       0.27      0.14      0.19      2536\n",
      "        Ross       0.38      0.06      0.11      2522\n",
      "\n",
      "    accuracy                           0.22     13955\n",
      "   macro avg       0.29      0.22      0.18     13955\n",
      "weighted avg       0.29      0.22      0.18     13955\n",
      "\n"
     ]
    }
   ],
   "source": [
    "from sklearn.metrics import classification_report # good for computing these metrics\n",
    "\n",
    "print(classification_report(y_test, y_pred))"
   ]
  },
  {
   "cell_type": "code",
   "execution_count": 33,
   "metadata": {
    "colab": {
     "base_uri": "https://localhost:8080/"
    },
    "id": "-ALlRVkqQ6TC",
    "outputId": "b27f0e1f-7870-4dcb-c1da-a6a376178b02"
   },
   "outputs": [
    {
     "data": {
      "text/plain": [
       "array([[ 128,  221, 1524,  119,  208,   63],\n",
       "       [  55,  396, 1516,  107,  184,   52],\n",
       "       [  58,  142, 1728,  113,  213,   51],\n",
       "       [  49,  152, 1374,  234,  163,   47],\n",
       "       [  44,  188, 1815,   87,  359,   43],\n",
       "       [  58,  238, 1710,  139,  218,  159]])"
      ]
     },
     "execution_count": 33,
     "metadata": {},
     "output_type": "execute_result"
    }
   ],
   "source": [
    "from sklearn.metrics import confusion_matrix\n",
    "\n",
    "confusion_matrix(y_test, y_pred)"
   ]
  },
  {
   "cell_type": "code",
   "execution_count": 34,
   "metadata": {
    "colab": {
     "base_uri": "https://localhost:8080/",
     "height": 449
    },
    "id": "1gL1k-bCRCjF",
    "outputId": "584f2964-5d57-46ca-e27c-2f3489fab0e0"
   },
   "outputs": [
    {
     "data": {
      "text/plain": [
       "<Axes: >"
      ]
     },
     "execution_count": 34,
     "metadata": {},
     "output_type": "execute_result"
    },
    {
     "data": {
      "image/png": "[encoded data removed]",
      "text/plain": [
       "<Figure size 640x480 with 2 Axes>"
      ]
     },
     "metadata": {},
     "output_type": "display_data"
    }
   ],
   "source": [
    "# you can also visualize this as a heatmap\n",
    "\n",
    "import seaborn as sns\n",
    "sns.heatmap(confusion_matrix(y_test, y_pred))"
   ]
  },
  {
   "cell_type": "code",
   "execution_count": 35,
   "metadata": {
    "colab": {
     "base_uri": "https://localhost:8080/",
     "height": 469
    },
    "id": "zdRfbxd_Rm-Z",
    "outputId": "100d2b53-4d6c-4953-9073-ccb48ae4ff59"
   },
   "outputs": [
    {
     "data": {
      "text/plain": [
       "<sklearn.metrics._plot.confusion_matrix.ConfusionMatrixDisplay at 0x7d263691b6d0>"
      ]
     },
     "execution_count": 35,
     "metadata": {},
     "output_type": "execute_result"
    },
    {
     "data": {
      "image/png": "[encoded data removed]",
      "text/plain": [
       "<Figure size 640x480 with 2 Axes>"
      ]
     },
     "metadata": {},
     "output_type": "display_data"
    }
   ],
   "source": [
    "# or with sklearn directly\n",
    "from sklearn.metrics import ConfusionMatrixDisplay\n",
    "cm = confusion_matrix(y_test, y_pred)\n",
    "ConfusionMatrixDisplay(confusion_matrix=cm, display_labels=clf.classes_).plot()"
   ]
  },
  {
   "cell_type": "markdown",
   "metadata": {
    "id": "lCuKOvBqCNKP"
   },
   "source": [
    "## 6. Generate some dialogue ourselves.\n",
    "\n",
    "Let's try to generate some sentences using our training data. For this task, we will use the language modeling module of nltk (detailed description: https://www.nltk.org/api/nltk.lm.html)\n",
    "\n",
    "Build a unigram and a trigram language model using MLE. For each of the language models, generate a sentence of 7 words."
   ]
  },
  {
   "cell_type": "code",
   "execution_count": 36,
   "metadata": {
    "id": "-1IMgJBdUYQc"
   },
   "outputs": [],
   "source": [
    "from nltk.lm.preprocessing import padded_everygram_pipeline\n",
    "from nltk.lm import MLE"
   ]
  },
  {
   "cell_type": "code",
   "execution_count": 37,
   "metadata": {
    "id": "eHZc-OG-VGqI"
   },
   "outputs": [],
   "source": [
    "# first tokenize the training set of dialogues\n",
    "X_train_tokens = []\n",
    "for sentence in X_train:\n",
    "    tokenized = nltk.word_tokenize(sentence)\n",
    "    X_train_tokens.append(tokenized)"
   ]
  },
  {
   "cell_type": "code",
   "execution_count": 38,
   "metadata": {
    "id": "up4HdzWKCRSp"
   },
   "outputs": [],
   "source": [
    "# the padded_everygram_pipeline goes through the corpus, applies left and right padding to the sentences (adding <s> and </s>)\n",
    "# and obtains the tuples of a given order together with the vocabulary\n",
    "padded_tuples, vocab = padded_everygram_pipeline(1, X_train_tokens)\n",
    "# generate (an empty) ngram language model for some n>0\n",
    "lm_unigram = MLE(1)\n",
    "# generate probabilities (model) given the list of n-grams and the vocabulary\n",
    "lm_unigram.fit(padded_tuples, vocab)\n",
    "\n",
    "padded_tuples, vocab = padded_everygram_pipeline(3, X_train_tokens)\n",
    "lm_trigram = MLE(3)\n",
    "lm_trigram.fit(padded_tuples, vocab)"
   ]
  },
  {
   "cell_type": "code",
   "execution_count": 39,
   "metadata": {
    "colab": {
     "base_uri": "https://localhost:8080/"
    },
    "id": "BPeqJ4i8UsoR",
    "outputId": "970522ee-2932-46a6-f2bc-5475cb43b5d1"
   },
   "outputs": [
    {
     "name": "stdout",
     "output_type": "stream",
     "text": [
      "Unigram sentence\n",
      "['do', 'What', 'Bleaker', 'moment', '.', '.', 'up']\n",
      "Trigram sentence\n",
      "['the', 'ferry', 'out', 'to', 'make', '?', '</s>']\n"
     ]
    }
   ],
   "source": [
    "print('Unigram sentence')\n",
    "print(lm_unigram.generate(7))\n",
    "\n",
    "print('Trigram sentence')\n",
    "print(lm_trigram.generate(7))"
   ]
  },
  {
   "cell_type": "markdown",
   "metadata": {
    "id": "Wg0VLgh5CSPU"
   },
   "source": [
    "## Things to try on your own:\n",
    "\n",
    "- a different type of representation (bigrams, trigrams, etc) [Note: might require more RAM than available in Colab/Kaggle. Try running on your local.]\n",
    "- a different type of classifier (SVM, Logistic Regression, etc)\n",
    "- a bigram and 4-gram model for generation"
   ]
  },
  {
   "cell_type": "code",
   "execution_count": 39,
   "metadata": {
    "id": "SRpLWUTdSRk_"
   },
   "outputs": [],
   "source": []
  }
 ],
 "metadata": {
  "colab": {
   "provenance": []
  },
  "kernelspec": {
   "display_name": "Python 3 (ipykernel)",
   "language": "python",
   "name": "python3"
  },
  "language_info": {
   "codemirror_mode": {
    "name": "ipython",
    "version": 3
   },
   "file_extension": ".py",
   "mimetype": "text/x-python",
   "name": "python",
   "nbconvert_exporter": "python",
   "pygments_lexer": "ipython3",
   "version": "3.10.12"
  }
 },
 "nbformat": 4,
 "nbformat_minor": 1
}
